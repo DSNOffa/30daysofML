{
 "cells": [
  {
   "cell_type": "code",
   "execution_count": 1,
   "id": "091d8ff8",
   "metadata": {},
   "outputs": [],
   "source": [
    "# import preprocessing libraries\n",
    "import pandas as pd\n",
    "import numpy as np\n",
    "import matplotlib.pyplot as plt\n",
    "import seaborn as sns"
   ]
  },
  {
   "cell_type": "code",
   "execution_count": 2,
   "id": "0a52e8c2",
   "metadata": {},
   "outputs": [],
   "source": [
    "Train = pd.read_excel(\"Train.xlsx\") "
   ]
  },
  {
   "cell_type": "code",
   "execution_count": 3,
   "id": "77b7efb9",
   "metadata": {},
   "outputs": [
    {
     "data": {
      "text/html": [
       "<div>\n",
       "<style scoped>\n",
       "    .dataframe tbody tr th:only-of-type {\n",
       "        vertical-align: middle;\n",
       "    }\n",
       "\n",
       "    .dataframe tbody tr th {\n",
       "        vertical-align: top;\n",
       "    }\n",
       "\n",
       "    .dataframe thead th {\n",
       "        text-align: right;\n",
       "    }\n",
       "</style>\n",
       "<table border=\"1\" class=\"dataframe\">\n",
       "  <thead>\n",
       "    <tr style=\"text-align: right;\">\n",
       "      <th></th>\n",
       "      <th>Dates</th>\n",
       "      <th>Category</th>\n",
       "      <th>Descript</th>\n",
       "      <th>DayOfWeek</th>\n",
       "      <th>PdDistrict</th>\n",
       "      <th>Resolution</th>\n",
       "      <th>Address</th>\n",
       "      <th>X</th>\n",
       "      <th>Y</th>\n",
       "      <th>Crime</th>\n",
       "    </tr>\n",
       "  </thead>\n",
       "  <tbody>\n",
       "    <tr>\n",
       "      <th>0</th>\n",
       "      <td>2015-05-13 23:53:00</td>\n",
       "      <td>WARRANTS</td>\n",
       "      <td>WARRANT ARREST</td>\n",
       "      <td>Wednesday</td>\n",
       "      <td>NORTHERN</td>\n",
       "      <td>ARREST, BOOKED</td>\n",
       "      <td>OAK ST / LAGUNA ST</td>\n",
       "      <td>-122.425892</td>\n",
       "      <td>37.774599</td>\n",
       "      <td>no</td>\n",
       "    </tr>\n",
       "    <tr>\n",
       "      <th>1</th>\n",
       "      <td>2015-05-13 23:53:00</td>\n",
       "      <td>OTHER OFFENSES</td>\n",
       "      <td>TRAFFIC VIOLATION ARREST</td>\n",
       "      <td>Wednesday</td>\n",
       "      <td>NORTHERN</td>\n",
       "      <td>ARREST, BOOKED</td>\n",
       "      <td>OAK ST / LAGUNA ST</td>\n",
       "      <td>-122.425892</td>\n",
       "      <td>37.774599</td>\n",
       "      <td>no</td>\n",
       "    </tr>\n",
       "    <tr>\n",
       "      <th>2</th>\n",
       "      <td>2015-05-13 23:33:00</td>\n",
       "      <td>OTHER OFFENSES</td>\n",
       "      <td>TRAFFIC VIOLATION ARREST</td>\n",
       "      <td>Wednesday</td>\n",
       "      <td>NORTHERN</td>\n",
       "      <td>ARREST, BOOKED</td>\n",
       "      <td>VANNESS AV / GREENWICH ST</td>\n",
       "      <td>-122.424363</td>\n",
       "      <td>37.800414</td>\n",
       "      <td>no</td>\n",
       "    </tr>\n",
       "    <tr>\n",
       "      <th>3</th>\n",
       "      <td>2015-05-13 23:30:00</td>\n",
       "      <td>LARCENY/THEFT</td>\n",
       "      <td>GRAND THEFT FROM LOCKED AUTO</td>\n",
       "      <td>Wednesday</td>\n",
       "      <td>NORTHERN</td>\n",
       "      <td>NONE</td>\n",
       "      <td>1500 Block of LOMBARD ST</td>\n",
       "      <td>-122.426995</td>\n",
       "      <td>37.800873</td>\n",
       "      <td>no</td>\n",
       "    </tr>\n",
       "    <tr>\n",
       "      <th>4</th>\n",
       "      <td>2015-05-13 23:30:00</td>\n",
       "      <td>LARCENY/THEFT</td>\n",
       "      <td>GRAND THEFT FROM LOCKED AUTO</td>\n",
       "      <td>Wednesday</td>\n",
       "      <td>PARK</td>\n",
       "      <td>NONE</td>\n",
       "      <td>100 Block of BRODERICK ST</td>\n",
       "      <td>-122.438738</td>\n",
       "      <td>37.771541</td>\n",
       "      <td>no</td>\n",
       "    </tr>\n",
       "    <tr>\n",
       "      <th>...</th>\n",
       "      <td>...</td>\n",
       "      <td>...</td>\n",
       "      <td>...</td>\n",
       "      <td>...</td>\n",
       "      <td>...</td>\n",
       "      <td>...</td>\n",
       "      <td>...</td>\n",
       "      <td>...</td>\n",
       "      <td>...</td>\n",
       "      <td>...</td>\n",
       "    </tr>\n",
       "    <tr>\n",
       "      <th>2494</th>\n",
       "      <td>2015-04-30 14:00:00</td>\n",
       "      <td>VANDALISM</td>\n",
       "      <td>MALICIOUS MISCHIEF, VANDALISM</td>\n",
       "      <td>Thursday</td>\n",
       "      <td>INGLESIDE</td>\n",
       "      <td>NONE</td>\n",
       "      <td>SILVER AV / LISBON ST</td>\n",
       "      <td>-122.428668</td>\n",
       "      <td>37.728534</td>\n",
       "      <td>NaN</td>\n",
       "    </tr>\n",
       "    <tr>\n",
       "      <th>2495</th>\n",
       "      <td>2015-04-30 13:50:00</td>\n",
       "      <td>NON-CRIMINAL</td>\n",
       "      <td>DEATH, ACCIDENTAL</td>\n",
       "      <td>Thursday</td>\n",
       "      <td>MISSION</td>\n",
       "      <td>NONE</td>\n",
       "      <td>1000 Block of POTRERO AV</td>\n",
       "      <td>-122.406539</td>\n",
       "      <td>37.756486</td>\n",
       "      <td>NaN</td>\n",
       "    </tr>\n",
       "    <tr>\n",
       "      <th>2496</th>\n",
       "      <td>2015-04-30 13:50:00</td>\n",
       "      <td>MISSING PERSON</td>\n",
       "      <td>MISSING ADULT</td>\n",
       "      <td>Thursday</td>\n",
       "      <td>MISSION</td>\n",
       "      <td>NONE</td>\n",
       "      <td>1000 Block of POTRERO AV</td>\n",
       "      <td>-122.406539</td>\n",
       "      <td>37.756486</td>\n",
       "      <td>NaN</td>\n",
       "    </tr>\n",
       "    <tr>\n",
       "      <th>2497</th>\n",
       "      <td>2015-04-30 13:50:00</td>\n",
       "      <td>MISSING PERSON</td>\n",
       "      <td>FOUND PERSON</td>\n",
       "      <td>Thursday</td>\n",
       "      <td>MISSION</td>\n",
       "      <td>NONE</td>\n",
       "      <td>1000 Block of POTRERO AV</td>\n",
       "      <td>-122.406539</td>\n",
       "      <td>37.756486</td>\n",
       "      <td>NaN</td>\n",
       "    </tr>\n",
       "    <tr>\n",
       "      <th>2498</th>\n",
       "      <td>2015-04-30 13:50:00</td>\n",
       "      <td>NON-CRIMINAL</td>\n",
       "      <td>FOUND PROPERTY</td>\n",
       "      <td>Thursday</td>\n",
       "      <td>CENTRAL</td>\n",
       "      <td>NONE</td>\n",
       "      <td>700 Block of VALLEJO ST</td>\n",
       "      <td>-122.409792</td>\n",
       "      <td>37.798508</td>\n",
       "      <td>NaN</td>\n",
       "    </tr>\n",
       "  </tbody>\n",
       "</table>\n",
       "<p>2499 rows × 10 columns</p>\n",
       "</div>"
      ],
      "text/plain": [
       "                   Dates        Category                       Descript  \\\n",
       "0    2015-05-13 23:53:00        WARRANTS                 WARRANT ARREST   \n",
       "1    2015-05-13 23:53:00  OTHER OFFENSES       TRAFFIC VIOLATION ARREST   \n",
       "2    2015-05-13 23:33:00  OTHER OFFENSES       TRAFFIC VIOLATION ARREST   \n",
       "3    2015-05-13 23:30:00   LARCENY/THEFT   GRAND THEFT FROM LOCKED AUTO   \n",
       "4    2015-05-13 23:30:00   LARCENY/THEFT   GRAND THEFT FROM LOCKED AUTO   \n",
       "...                  ...             ...                            ...   \n",
       "2494 2015-04-30 14:00:00       VANDALISM  MALICIOUS MISCHIEF, VANDALISM   \n",
       "2495 2015-04-30 13:50:00    NON-CRIMINAL              DEATH, ACCIDENTAL   \n",
       "2496 2015-04-30 13:50:00  MISSING PERSON                  MISSING ADULT   \n",
       "2497 2015-04-30 13:50:00  MISSING PERSON                   FOUND PERSON   \n",
       "2498 2015-04-30 13:50:00    NON-CRIMINAL                 FOUND PROPERTY   \n",
       "\n",
       "      DayOfWeek PdDistrict      Resolution                    Address  \\\n",
       "0     Wednesday   NORTHERN  ARREST, BOOKED         OAK ST / LAGUNA ST   \n",
       "1     Wednesday   NORTHERN  ARREST, BOOKED         OAK ST / LAGUNA ST   \n",
       "2     Wednesday   NORTHERN  ARREST, BOOKED  VANNESS AV / GREENWICH ST   \n",
       "3     Wednesday   NORTHERN            NONE   1500 Block of LOMBARD ST   \n",
       "4     Wednesday       PARK            NONE  100 Block of BRODERICK ST   \n",
       "...         ...        ...             ...                        ...   \n",
       "2494   Thursday  INGLESIDE            NONE      SILVER AV / LISBON ST   \n",
       "2495   Thursday    MISSION            NONE   1000 Block of POTRERO AV   \n",
       "2496   Thursday    MISSION            NONE   1000 Block of POTRERO AV   \n",
       "2497   Thursday    MISSION            NONE   1000 Block of POTRERO AV   \n",
       "2498   Thursday    CENTRAL            NONE    700 Block of VALLEJO ST   \n",
       "\n",
       "               X          Y Crime  \n",
       "0    -122.425892  37.774599    no  \n",
       "1    -122.425892  37.774599    no  \n",
       "2    -122.424363  37.800414    no  \n",
       "3    -122.426995  37.800873    no  \n",
       "4    -122.438738  37.771541    no  \n",
       "...          ...        ...   ...  \n",
       "2494 -122.428668  37.728534   NaN  \n",
       "2495 -122.406539  37.756486   NaN  \n",
       "2496 -122.406539  37.756486   NaN  \n",
       "2497 -122.406539  37.756486   NaN  \n",
       "2498 -122.409792  37.798508   NaN  \n",
       "\n",
       "[2499 rows x 10 columns]"
      ]
     },
     "execution_count": 3,
     "metadata": {},
     "output_type": "execute_result"
    }
   ],
   "source": [
    "Train"
   ]
  },
  {
   "cell_type": "code",
   "execution_count": 4,
   "id": "0c44d5c7",
   "metadata": {},
   "outputs": [],
   "source": [
    "Test = pd.read_excel(\"Test.xlsx\") "
   ]
  },
  {
   "cell_type": "code",
   "execution_count": 5,
   "id": "bc994125",
   "metadata": {},
   "outputs": [
    {
     "data": {
      "text/html": [
       "<div>\n",
       "<style scoped>\n",
       "    .dataframe tbody tr th:only-of-type {\n",
       "        vertical-align: middle;\n",
       "    }\n",
       "\n",
       "    .dataframe tbody tr th {\n",
       "        vertical-align: top;\n",
       "    }\n",
       "\n",
       "    .dataframe thead th {\n",
       "        text-align: right;\n",
       "    }\n",
       "</style>\n",
       "<table border=\"1\" class=\"dataframe\">\n",
       "  <thead>\n",
       "    <tr style=\"text-align: right;\">\n",
       "      <th></th>\n",
       "      <th>Id</th>\n",
       "      <th>Dates</th>\n",
       "      <th>DayOfWeek</th>\n",
       "      <th>PdDistrict</th>\n",
       "      <th>Address</th>\n",
       "      <th>X</th>\n",
       "      <th>Y</th>\n",
       "    </tr>\n",
       "  </thead>\n",
       "  <tbody>\n",
       "    <tr>\n",
       "      <th>0</th>\n",
       "      <td>0</td>\n",
       "      <td>2015-05-10 23:59:00</td>\n",
       "      <td>Sunday</td>\n",
       "      <td>BAYVIEW</td>\n",
       "      <td>2000 Block of THOMAS AV</td>\n",
       "      <td>-122.399588</td>\n",
       "      <td>37.735051</td>\n",
       "    </tr>\n",
       "    <tr>\n",
       "      <th>1</th>\n",
       "      <td>1</td>\n",
       "      <td>2015-05-10 23:51:00</td>\n",
       "      <td>Sunday</td>\n",
       "      <td>BAYVIEW</td>\n",
       "      <td>3RD ST / REVERE AV</td>\n",
       "      <td>-122.391523</td>\n",
       "      <td>37.732432</td>\n",
       "    </tr>\n",
       "    <tr>\n",
       "      <th>2</th>\n",
       "      <td>2</td>\n",
       "      <td>2015-05-10 23:50:00</td>\n",
       "      <td>Sunday</td>\n",
       "      <td>NORTHERN</td>\n",
       "      <td>2000 Block of GOUGH ST</td>\n",
       "      <td>-122.426002</td>\n",
       "      <td>37.792212</td>\n",
       "    </tr>\n",
       "    <tr>\n",
       "      <th>3</th>\n",
       "      <td>3</td>\n",
       "      <td>2015-05-10 23:45:00</td>\n",
       "      <td>Sunday</td>\n",
       "      <td>INGLESIDE</td>\n",
       "      <td>4700 Block of MISSION ST</td>\n",
       "      <td>-122.437394</td>\n",
       "      <td>37.721412</td>\n",
       "    </tr>\n",
       "    <tr>\n",
       "      <th>4</th>\n",
       "      <td>4</td>\n",
       "      <td>2015-05-10 23:45:00</td>\n",
       "      <td>Sunday</td>\n",
       "      <td>INGLESIDE</td>\n",
       "      <td>4700 Block of MISSION ST</td>\n",
       "      <td>-122.437394</td>\n",
       "      <td>37.721412</td>\n",
       "    </tr>\n",
       "    <tr>\n",
       "      <th>...</th>\n",
       "      <td>...</td>\n",
       "      <td>...</td>\n",
       "      <td>...</td>\n",
       "      <td>...</td>\n",
       "      <td>...</td>\n",
       "      <td>...</td>\n",
       "      <td>...</td>\n",
       "    </tr>\n",
       "    <tr>\n",
       "      <th>2494</th>\n",
       "      <td>2494</td>\n",
       "      <td>2015-05-04 20:00:00</td>\n",
       "      <td>Monday</td>\n",
       "      <td>INGLESIDE</td>\n",
       "      <td>0 Block of FRANCIS ST</td>\n",
       "      <td>-122.434434</td>\n",
       "      <td>37.727039</td>\n",
       "    </tr>\n",
       "    <tr>\n",
       "      <th>2495</th>\n",
       "      <td>2495</td>\n",
       "      <td>2015-05-04 20:00:00</td>\n",
       "      <td>Monday</td>\n",
       "      <td>PARK</td>\n",
       "      <td>1100 Block of COLE ST</td>\n",
       "      <td>-122.449447</td>\n",
       "      <td>37.763614</td>\n",
       "    </tr>\n",
       "    <tr>\n",
       "      <th>2496</th>\n",
       "      <td>2496</td>\n",
       "      <td>2015-05-04 20:00:00</td>\n",
       "      <td>Monday</td>\n",
       "      <td>TARAVAL</td>\n",
       "      <td>1900 Block of 36TH AV</td>\n",
       "      <td>-122.494424</td>\n",
       "      <td>37.750622</td>\n",
       "    </tr>\n",
       "    <tr>\n",
       "      <th>2497</th>\n",
       "      <td>2497</td>\n",
       "      <td>2015-05-04 20:00:00</td>\n",
       "      <td>Monday</td>\n",
       "      <td>RICHMOND</td>\n",
       "      <td>GEARY BL / 15TH AV</td>\n",
       "      <td>-122.473984</td>\n",
       "      <td>37.780574</td>\n",
       "    </tr>\n",
       "    <tr>\n",
       "      <th>2498</th>\n",
       "      <td>2498</td>\n",
       "      <td>2015-05-04 20:00:00</td>\n",
       "      <td>Monday</td>\n",
       "      <td>CENTRAL</td>\n",
       "      <td>POST ST / LARKIN ST</td>\n",
       "      <td>-122.418274</td>\n",
       "      <td>37.787037</td>\n",
       "    </tr>\n",
       "  </tbody>\n",
       "</table>\n",
       "<p>2499 rows × 7 columns</p>\n",
       "</div>"
      ],
      "text/plain": [
       "        Id               Dates DayOfWeek PdDistrict                   Address  \\\n",
       "0        0 2015-05-10 23:59:00    Sunday    BAYVIEW   2000 Block of THOMAS AV   \n",
       "1        1 2015-05-10 23:51:00    Sunday    BAYVIEW        3RD ST / REVERE AV   \n",
       "2        2 2015-05-10 23:50:00    Sunday   NORTHERN    2000 Block of GOUGH ST   \n",
       "3        3 2015-05-10 23:45:00    Sunday  INGLESIDE  4700 Block of MISSION ST   \n",
       "4        4 2015-05-10 23:45:00    Sunday  INGLESIDE  4700 Block of MISSION ST   \n",
       "...    ...                 ...       ...        ...                       ...   \n",
       "2494  2494 2015-05-04 20:00:00    Monday  INGLESIDE     0 Block of FRANCIS ST   \n",
       "2495  2495 2015-05-04 20:00:00    Monday       PARK     1100 Block of COLE ST   \n",
       "2496  2496 2015-05-04 20:00:00    Monday    TARAVAL     1900 Block of 36TH AV   \n",
       "2497  2497 2015-05-04 20:00:00    Monday   RICHMOND        GEARY BL / 15TH AV   \n",
       "2498  2498 2015-05-04 20:00:00    Monday    CENTRAL       POST ST / LARKIN ST   \n",
       "\n",
       "               X          Y  \n",
       "0    -122.399588  37.735051  \n",
       "1    -122.391523  37.732432  \n",
       "2    -122.426002  37.792212  \n",
       "3    -122.437394  37.721412  \n",
       "4    -122.437394  37.721412  \n",
       "...          ...        ...  \n",
       "2494 -122.434434  37.727039  \n",
       "2495 -122.449447  37.763614  \n",
       "2496 -122.494424  37.750622  \n",
       "2497 -122.473984  37.780574  \n",
       "2498 -122.418274  37.787037  \n",
       "\n",
       "[2499 rows x 7 columns]"
      ]
     },
     "execution_count": 5,
     "metadata": {},
     "output_type": "execute_result"
    }
   ],
   "source": [
    "Test"
   ]
  },
  {
   "cell_type": "code",
   "execution_count": 6,
   "id": "51cc7f85",
   "metadata": {},
   "outputs": [
    {
     "data": {
      "text/plain": [
       "Index(['Dates', 'Category', 'Descript', 'DayOfWeek', 'PdDistrict',\n",
       "       'Resolution', 'Address', 'X', 'Y', 'Crime'],\n",
       "      dtype='object')"
      ]
     },
     "execution_count": 6,
     "metadata": {},
     "output_type": "execute_result"
    }
   ],
   "source": [
    "Train.columns"
   ]
  },
  {
   "cell_type": "code",
   "execution_count": 7,
   "id": "967d8d87",
   "metadata": {},
   "outputs": [
    {
     "data": {
      "text/plain": [
       "Index(['Id', 'Dates', 'DayOfWeek', 'PdDistrict', 'Address', 'X', 'Y'], dtype='object')"
      ]
     },
     "execution_count": 7,
     "metadata": {},
     "output_type": "execute_result"
    }
   ],
   "source": [
    "Test.columns"
   ]
  },
  {
   "cell_type": "code",
   "execution_count": 8,
   "id": "5235e64d",
   "metadata": {},
   "outputs": [],
   "source": [
    "Train.drop(['Category', 'Descript', 'Resolution'], axis=1, inplace=True)"
   ]
  },
  {
   "cell_type": "code",
   "execution_count": 9,
   "id": "5e5ff3b5",
   "metadata": {},
   "outputs": [
    {
     "data": {
      "text/plain": [
       "Index(['Dates', 'DayOfWeek', 'PdDistrict', 'Address', 'X', 'Y', 'Crime'], dtype='object')"
      ]
     },
     "execution_count": 9,
     "metadata": {},
     "output_type": "execute_result"
    }
   ],
   "source": [
    "Train.columns"
   ]
  },
  {
   "cell_type": "code",
   "execution_count": 10,
   "id": "ba92e767",
   "metadata": {},
   "outputs": [],
   "source": [
    "Test.drop(columns = \"Id\", axis=1, inplace=True)"
   ]
  },
  {
   "cell_type": "code",
   "execution_count": 11,
   "id": "07b80077",
   "metadata": {},
   "outputs": [
    {
     "data": {
      "text/plain": [
       "Index(['Dates', 'DayOfWeek', 'PdDistrict', 'Address', 'X', 'Y'], dtype='object')"
      ]
     },
     "execution_count": 11,
     "metadata": {},
     "output_type": "execute_result"
    }
   ],
   "source": [
    "Test.columns"
   ]
  },
  {
   "cell_type": "code",
   "execution_count": 12,
   "id": "003695fe",
   "metadata": {},
   "outputs": [
    {
     "data": {
      "text/plain": [
       "Dates            0\n",
       "DayOfWeek        0\n",
       "PdDistrict       0\n",
       "Address          0\n",
       "X                0\n",
       "Y                0\n",
       "Crime         2485\n",
       "dtype: int64"
      ]
     },
     "execution_count": 12,
     "metadata": {},
     "output_type": "execute_result"
    }
   ],
   "source": [
    "Train.isna().sum()"
   ]
  },
  {
   "cell_type": "code",
   "execution_count": 13,
   "id": "8729de3d",
   "metadata": {},
   "outputs": [
    {
     "data": {
      "text/plain": [
       "Dates         0\n",
       "DayOfWeek     0\n",
       "PdDistrict    0\n",
       "Address       0\n",
       "X             0\n",
       "Y             0\n",
       "dtype: int64"
      ]
     },
     "execution_count": 13,
     "metadata": {},
     "output_type": "execute_result"
    }
   ],
   "source": [
    "Test.isna().sum()"
   ]
  },
  {
   "cell_type": "code",
   "execution_count": 14,
   "id": "d0cff613",
   "metadata": {},
   "outputs": [
    {
     "data": {
      "text/html": [
       "<div>\n",
       "<style scoped>\n",
       "    .dataframe tbody tr th:only-of-type {\n",
       "        vertical-align: middle;\n",
       "    }\n",
       "\n",
       "    .dataframe tbody tr th {\n",
       "        vertical-align: top;\n",
       "    }\n",
       "\n",
       "    .dataframe thead th {\n",
       "        text-align: right;\n",
       "    }\n",
       "</style>\n",
       "<table border=\"1\" class=\"dataframe\">\n",
       "  <thead>\n",
       "    <tr style=\"text-align: right;\">\n",
       "      <th></th>\n",
       "      <th>Dates</th>\n",
       "      <th>DayOfWeek</th>\n",
       "      <th>PdDistrict</th>\n",
       "      <th>Address</th>\n",
       "      <th>X</th>\n",
       "      <th>Y</th>\n",
       "      <th>Crime</th>\n",
       "    </tr>\n",
       "  </thead>\n",
       "  <tbody>\n",
       "    <tr>\n",
       "      <th>0</th>\n",
       "      <td>2015-05-13 23:53:00</td>\n",
       "      <td>Wednesday</td>\n",
       "      <td>NORTHERN</td>\n",
       "      <td>OAK ST / LAGUNA ST</td>\n",
       "      <td>-122.425892</td>\n",
       "      <td>37.774599</td>\n",
       "      <td>no</td>\n",
       "    </tr>\n",
       "    <tr>\n",
       "      <th>1</th>\n",
       "      <td>2015-05-13 23:53:00</td>\n",
       "      <td>Wednesday</td>\n",
       "      <td>NORTHERN</td>\n",
       "      <td>OAK ST / LAGUNA ST</td>\n",
       "      <td>-122.425892</td>\n",
       "      <td>37.774599</td>\n",
       "      <td>no</td>\n",
       "    </tr>\n",
       "    <tr>\n",
       "      <th>2</th>\n",
       "      <td>2015-05-13 23:33:00</td>\n",
       "      <td>Wednesday</td>\n",
       "      <td>NORTHERN</td>\n",
       "      <td>VANNESS AV / GREENWICH ST</td>\n",
       "      <td>-122.424363</td>\n",
       "      <td>37.800414</td>\n",
       "      <td>no</td>\n",
       "    </tr>\n",
       "    <tr>\n",
       "      <th>3</th>\n",
       "      <td>2015-05-13 23:30:00</td>\n",
       "      <td>Wednesday</td>\n",
       "      <td>NORTHERN</td>\n",
       "      <td>1500 Block of LOMBARD ST</td>\n",
       "      <td>-122.426995</td>\n",
       "      <td>37.800873</td>\n",
       "      <td>no</td>\n",
       "    </tr>\n",
       "    <tr>\n",
       "      <th>4</th>\n",
       "      <td>2015-05-13 23:30:00</td>\n",
       "      <td>Wednesday</td>\n",
       "      <td>PARK</td>\n",
       "      <td>100 Block of BRODERICK ST</td>\n",
       "      <td>-122.438738</td>\n",
       "      <td>37.771541</td>\n",
       "      <td>no</td>\n",
       "    </tr>\n",
       "  </tbody>\n",
       "</table>\n",
       "</div>"
      ],
      "text/plain": [
       "                Dates  DayOfWeek PdDistrict                    Address  \\\n",
       "0 2015-05-13 23:53:00  Wednesday   NORTHERN         OAK ST / LAGUNA ST   \n",
       "1 2015-05-13 23:53:00  Wednesday   NORTHERN         OAK ST / LAGUNA ST   \n",
       "2 2015-05-13 23:33:00  Wednesday   NORTHERN  VANNESS AV / GREENWICH ST   \n",
       "3 2015-05-13 23:30:00  Wednesday   NORTHERN   1500 Block of LOMBARD ST   \n",
       "4 2015-05-13 23:30:00  Wednesday       PARK  100 Block of BRODERICK ST   \n",
       "\n",
       "            X          Y Crime  \n",
       "0 -122.425892  37.774599    no  \n",
       "1 -122.425892  37.774599    no  \n",
       "2 -122.424363  37.800414    no  \n",
       "3 -122.426995  37.800873    no  \n",
       "4 -122.438738  37.771541    no  "
      ]
     },
     "execution_count": 14,
     "metadata": {},
     "output_type": "execute_result"
    }
   ],
   "source": [
    "Train.head()"
   ]
  },
  {
   "cell_type": "code",
   "execution_count": 15,
   "id": "9320b605",
   "metadata": {},
   "outputs": [
    {
     "name": "stderr",
     "output_type": "stream",
     "text": [
      "C:\\Users\\hp\\AppData\\Local\\Temp\\ipykernel_4552\\3074434705.py:1: SettingWithCopyWarning: \n",
      "A value is trying to be set on a copy of a slice from a DataFrame\n",
      "\n",
      "See the caveats in the documentation: https://pandas.pydata.org/pandas-docs/stable/user_guide/indexing.html#returning-a-view-versus-a-copy\n",
      "  Train['Crime'][0:999]='no'\n"
     ]
    }
   ],
   "source": [
    "Train['Crime'][0:999]='no'"
   ]
  },
  {
   "cell_type": "code",
   "execution_count": 16,
   "id": "efbd8bec",
   "metadata": {},
   "outputs": [
    {
     "name": "stderr",
     "output_type": "stream",
     "text": [
      "C:\\Users\\hp\\AppData\\Local\\Temp\\ipykernel_4552\\1784881848.py:1: SettingWithCopyWarning: \n",
      "A value is trying to be set on a copy of a slice from a DataFrame\n",
      "\n",
      "See the caveats in the documentation: https://pandas.pydata.org/pandas-docs/stable/user_guide/indexing.html#returning-a-view-versus-a-copy\n",
      "  Train['Crime'][1000:2499]='yes'\n"
     ]
    }
   ],
   "source": [
    "Train['Crime'][1000:2499]='yes'"
   ]
  },
  {
   "cell_type": "code",
   "execution_count": 17,
   "id": "b53fa1fa",
   "metadata": {},
   "outputs": [],
   "source": [
    "Train['Crime'] = Train['Crime'].fillna(Train['Crime'].mode()[0])"
   ]
  },
  {
   "cell_type": "code",
   "execution_count": 18,
   "id": "d57ed119",
   "metadata": {},
   "outputs": [
    {
     "data": {
      "text/plain": [
       "Dates         0\n",
       "DayOfWeek     0\n",
       "PdDistrict    0\n",
       "Address       0\n",
       "X             0\n",
       "Y             0\n",
       "Crime         0\n",
       "dtype: int64"
      ]
     },
     "execution_count": 18,
     "metadata": {},
     "output_type": "execute_result"
    }
   ],
   "source": [
    "Train.isna().sum()"
   ]
  },
  {
   "cell_type": "code",
   "execution_count": 19,
   "id": "94738492",
   "metadata": {},
   "outputs": [],
   "source": [
    "# import preprocessing\n",
    "from sklearn.preprocessing import LabelEncoder\n",
    "from sklearn.preprocessing import LabelBinarizer"
   ]
  },
  {
   "cell_type": "code",
   "execution_count": 20,
   "id": "9f1a0366",
   "metadata": {},
   "outputs": [
    {
     "data": {
      "text/plain": [
       "yes    1500\n",
       "no      999\n",
       "Name: Crime, dtype: int64"
      ]
     },
     "execution_count": 20,
     "metadata": {},
     "output_type": "execute_result"
    }
   ],
   "source": [
    "Train['Crime'].value_counts()"
   ]
  },
  {
   "cell_type": "code",
   "execution_count": 21,
   "id": "4feb1aac",
   "metadata": {},
   "outputs": [
    {
     "data": {
      "image/png": "[encoded data removed]",
      "text/plain": [
       "<Figure size 432x288 with 1 Axes>"
      ]
     },
     "metadata": {
      "needs_background": "light"
     },
     "output_type": "display_data"
    }
   ],
   "source": [
    "Train['Crime'].value_counts().plot(kind='bar', color='green')\n",
    "plt.xticks(rotation=0)\n",
    "plt.show()"
   ]
  },
  {
   "cell_type": "code",
   "execution_count": 22,
   "id": "5fe9de46",
   "metadata": {},
   "outputs": [],
   "source": [
    "le = LabelEncoder()"
   ]
  },
  {
   "cell_type": "code",
   "execution_count": 23,
   "id": "63763271",
   "metadata": {},
   "outputs": [],
   "source": [
    "Train['Crime'] = le.fit_transform(Train['Crime'])"
   ]
  },
  {
   "cell_type": "code",
   "execution_count": 24,
   "id": "a7725cd4",
   "metadata": {},
   "outputs": [
    {
     "data": {
      "text/html": [
       "<div>\n",
       "<style scoped>\n",
       "    .dataframe tbody tr th:only-of-type {\n",
       "        vertical-align: middle;\n",
       "    }\n",
       "\n",
       "    .dataframe tbody tr th {\n",
       "        vertical-align: top;\n",
       "    }\n",
       "\n",
       "    .dataframe thead th {\n",
       "        text-align: right;\n",
       "    }\n",
       "</style>\n",
       "<table border=\"1\" class=\"dataframe\">\n",
       "  <thead>\n",
       "    <tr style=\"text-align: right;\">\n",
       "      <th></th>\n",
       "      <th>Dates</th>\n",
       "      <th>DayOfWeek</th>\n",
       "      <th>PdDistrict</th>\n",
       "      <th>Address</th>\n",
       "      <th>X</th>\n",
       "      <th>Y</th>\n",
       "      <th>Crime</th>\n",
       "    </tr>\n",
       "  </thead>\n",
       "  <tbody>\n",
       "    <tr>\n",
       "      <th>0</th>\n",
       "      <td>2015-05-13 23:53:00</td>\n",
       "      <td>Wednesday</td>\n",
       "      <td>NORTHERN</td>\n",
       "      <td>OAK ST / LAGUNA ST</td>\n",
       "      <td>-122.425892</td>\n",
       "      <td>37.774599</td>\n",
       "      <td>0</td>\n",
       "    </tr>\n",
       "    <tr>\n",
       "      <th>1</th>\n",
       "      <td>2015-05-13 23:53:00</td>\n",
       "      <td>Wednesday</td>\n",
       "      <td>NORTHERN</td>\n",
       "      <td>OAK ST / LAGUNA ST</td>\n",
       "      <td>-122.425892</td>\n",
       "      <td>37.774599</td>\n",
       "      <td>0</td>\n",
       "    </tr>\n",
       "    <tr>\n",
       "      <th>2</th>\n",
       "      <td>2015-05-13 23:33:00</td>\n",
       "      <td>Wednesday</td>\n",
       "      <td>NORTHERN</td>\n",
       "      <td>VANNESS AV / GREENWICH ST</td>\n",
       "      <td>-122.424363</td>\n",
       "      <td>37.800414</td>\n",
       "      <td>0</td>\n",
       "    </tr>\n",
       "    <tr>\n",
       "      <th>3</th>\n",
       "      <td>2015-05-13 23:30:00</td>\n",
       "      <td>Wednesday</td>\n",
       "      <td>NORTHERN</td>\n",
       "      <td>1500 Block of LOMBARD ST</td>\n",
       "      <td>-122.426995</td>\n",
       "      <td>37.800873</td>\n",
       "      <td>0</td>\n",
       "    </tr>\n",
       "    <tr>\n",
       "      <th>4</th>\n",
       "      <td>2015-05-13 23:30:00</td>\n",
       "      <td>Wednesday</td>\n",
       "      <td>PARK</td>\n",
       "      <td>100 Block of BRODERICK ST</td>\n",
       "      <td>-122.438738</td>\n",
       "      <td>37.771541</td>\n",
       "      <td>0</td>\n",
       "    </tr>\n",
       "  </tbody>\n",
       "</table>\n",
       "</div>"
      ],
      "text/plain": [
       "                Dates  DayOfWeek PdDistrict                    Address  \\\n",
       "0 2015-05-13 23:53:00  Wednesday   NORTHERN         OAK ST / LAGUNA ST   \n",
       "1 2015-05-13 23:53:00  Wednesday   NORTHERN         OAK ST / LAGUNA ST   \n",
       "2 2015-05-13 23:33:00  Wednesday   NORTHERN  VANNESS AV / GREENWICH ST   \n",
       "3 2015-05-13 23:30:00  Wednesday   NORTHERN   1500 Block of LOMBARD ST   \n",
       "4 2015-05-13 23:30:00  Wednesday       PARK  100 Block of BRODERICK ST   \n",
       "\n",
       "            X          Y  Crime  \n",
       "0 -122.425892  37.774599      0  \n",
       "1 -122.425892  37.774599      0  \n",
       "2 -122.424363  37.800414      0  \n",
       "3 -122.426995  37.800873      0  \n",
       "4 -122.438738  37.771541      0  "
      ]
     },
     "execution_count": 24,
     "metadata": {},
     "output_type": "execute_result"
    }
   ],
   "source": [
    "Train.head()"
   ]
  },
  {
   "cell_type": "code",
   "execution_count": 25,
   "id": "9f2f1613",
   "metadata": {},
   "outputs": [
    {
     "name": "stdout",
     "output_type": "stream",
     "text": [
      "<class 'pandas.core.frame.DataFrame'>\n",
      "RangeIndex: 2499 entries, 0 to 2498\n",
      "Data columns (total 7 columns):\n",
      " #   Column      Non-Null Count  Dtype         \n",
      "---  ------      --------------  -----         \n",
      " 0   Dates       2499 non-null   datetime64[ns]\n",
      " 1   DayOfWeek   2499 non-null   object        \n",
      " 2   PdDistrict  2499 non-null   object        \n",
      " 3   Address     2499 non-null   object        \n",
      " 4   X           2499 non-null   float64       \n",
      " 5   Y           2499 non-null   float64       \n",
      " 6   Crime       2499 non-null   int32         \n",
      "dtypes: datetime64[ns](1), float64(2), int32(1), object(3)\n",
      "memory usage: 127.0+ KB\n"
     ]
    }
   ],
   "source": [
    "Train.info()"
   ]
  },
  {
   "cell_type": "code",
   "execution_count": 26,
   "id": "d1f74d06",
   "metadata": {},
   "outputs": [],
   "source": [
    "def preprocessing_data(data):\n",
    "\n",
    "    \n",
    "    \n",
    "    # Label Encoder conversion\n",
    "    data[\"Dates\"] = le.fit_transform(data[\"Dates\"])\n",
    "    data[\"DayOfWeek\"] = le.fit_transform(data[\"DayOfWeek\"])\n",
    "    data[\"PdDistrict\"] = le.fit_transform(data[\"PdDistrict\"])\n",
    "    data[\"Address\"] = le.fit_transform(data[\"Address\"])\n",
    "    \n",
    "    \n",
    "    return data                  "
   ]
  },
  {
   "cell_type": "code",
   "execution_count": 27,
   "id": "a51e4bf3",
   "metadata": {},
   "outputs": [],
   "source": [
    "train = preprocessing_data(Train)"
   ]
  },
  {
   "cell_type": "code",
   "execution_count": 28,
   "id": "d0876122",
   "metadata": {},
   "outputs": [],
   "source": [
    "test = preprocessing_data(Test)"
   ]
  },
  {
   "cell_type": "code",
   "execution_count": 29,
   "id": "55db3750",
   "metadata": {
    "scrolled": true
   },
   "outputs": [
    {
     "data": {
      "text/html": [
       "<div>\n",
       "<style scoped>\n",
       "    .dataframe tbody tr th:only-of-type {\n",
       "        vertical-align: middle;\n",
       "    }\n",
       "\n",
       "    .dataframe tbody tr th {\n",
       "        vertical-align: top;\n",
       "    }\n",
       "\n",
       "    .dataframe thead th {\n",
       "        text-align: right;\n",
       "    }\n",
       "</style>\n",
       "<table border=\"1\" class=\"dataframe\">\n",
       "  <thead>\n",
       "    <tr style=\"text-align: right;\">\n",
       "      <th></th>\n",
       "      <th>Dates</th>\n",
       "      <th>DayOfWeek</th>\n",
       "      <th>PdDistrict</th>\n",
       "      <th>Address</th>\n",
       "      <th>X</th>\n",
       "      <th>Y</th>\n",
       "      <th>Crime</th>\n",
       "    </tr>\n",
       "  </thead>\n",
       "  <tbody>\n",
       "    <tr>\n",
       "      <th>0</th>\n",
       "      <td>1123</td>\n",
       "      <td>6</td>\n",
       "      <td>4</td>\n",
       "      <td>1436</td>\n",
       "      <td>-122.425892</td>\n",
       "      <td>37.774599</td>\n",
       "      <td>0</td>\n",
       "    </tr>\n",
       "    <tr>\n",
       "      <th>1</th>\n",
       "      <td>1123</td>\n",
       "      <td>6</td>\n",
       "      <td>4</td>\n",
       "      <td>1436</td>\n",
       "      <td>-122.425892</td>\n",
       "      <td>37.774599</td>\n",
       "      <td>0</td>\n",
       "    </tr>\n",
       "    <tr>\n",
       "      <th>2</th>\n",
       "      <td>1122</td>\n",
       "      <td>6</td>\n",
       "      <td>4</td>\n",
       "      <td>1550</td>\n",
       "      <td>-122.424363</td>\n",
       "      <td>37.800414</td>\n",
       "      <td>0</td>\n",
       "    </tr>\n",
       "    <tr>\n",
       "      <th>3</th>\n",
       "      <td>1121</td>\n",
       "      <td>6</td>\n",
       "      <td>4</td>\n",
       "      <td>352</td>\n",
       "      <td>-122.426995</td>\n",
       "      <td>37.800873</td>\n",
       "      <td>0</td>\n",
       "    </tr>\n",
       "    <tr>\n",
       "      <th>4</th>\n",
       "      <td>1121</td>\n",
       "      <td>6</td>\n",
       "      <td>5</td>\n",
       "      <td>131</td>\n",
       "      <td>-122.438738</td>\n",
       "      <td>37.771541</td>\n",
       "      <td>0</td>\n",
       "    </tr>\n",
       "    <tr>\n",
       "      <th>...</th>\n",
       "      <td>...</td>\n",
       "      <td>...</td>\n",
       "      <td>...</td>\n",
       "      <td>...</td>\n",
       "      <td>...</td>\n",
       "      <td>...</td>\n",
       "      <td>...</td>\n",
       "    </tr>\n",
       "    <tr>\n",
       "      <th>2494</th>\n",
       "      <td>1</td>\n",
       "      <td>4</td>\n",
       "      <td>2</td>\n",
       "      <td>1500</td>\n",
       "      <td>-122.428668</td>\n",
       "      <td>37.728534</td>\n",
       "      <td>1</td>\n",
       "    </tr>\n",
       "    <tr>\n",
       "      <th>2495</th>\n",
       "      <td>0</td>\n",
       "      <td>4</td>\n",
       "      <td>3</td>\n",
       "      <td>218</td>\n",
       "      <td>-122.406539</td>\n",
       "      <td>37.756486</td>\n",
       "      <td>1</td>\n",
       "    </tr>\n",
       "    <tr>\n",
       "      <th>2496</th>\n",
       "      <td>0</td>\n",
       "      <td>4</td>\n",
       "      <td>3</td>\n",
       "      <td>218</td>\n",
       "      <td>-122.406539</td>\n",
       "      <td>37.756486</td>\n",
       "      <td>1</td>\n",
       "    </tr>\n",
       "    <tr>\n",
       "      <th>2497</th>\n",
       "      <td>0</td>\n",
       "      <td>4</td>\n",
       "      <td>3</td>\n",
       "      <td>218</td>\n",
       "      <td>-122.406539</td>\n",
       "      <td>37.756486</td>\n",
       "      <td>1</td>\n",
       "    </tr>\n",
       "    <tr>\n",
       "      <th>2498</th>\n",
       "      <td>0</td>\n",
       "      <td>4</td>\n",
       "      <td>1</td>\n",
       "      <td>1057</td>\n",
       "      <td>-122.409792</td>\n",
       "      <td>37.798508</td>\n",
       "      <td>1</td>\n",
       "    </tr>\n",
       "  </tbody>\n",
       "</table>\n",
       "<p>2499 rows × 7 columns</p>\n",
       "</div>"
      ],
      "text/plain": [
       "      Dates  DayOfWeek  PdDistrict  Address           X          Y  Crime\n",
       "0      1123          6           4     1436 -122.425892  37.774599      0\n",
       "1      1123          6           4     1436 -122.425892  37.774599      0\n",
       "2      1122          6           4     1550 -122.424363  37.800414      0\n",
       "3      1121          6           4      352 -122.426995  37.800873      0\n",
       "4      1121          6           5      131 -122.438738  37.771541      0\n",
       "...     ...        ...         ...      ...         ...        ...    ...\n",
       "2494      1          4           2     1500 -122.428668  37.728534      1\n",
       "2495      0          4           3      218 -122.406539  37.756486      1\n",
       "2496      0          4           3      218 -122.406539  37.756486      1\n",
       "2497      0          4           3      218 -122.406539  37.756486      1\n",
       "2498      0          4           1     1057 -122.409792  37.798508      1\n",
       "\n",
       "[2499 rows x 7 columns]"
      ]
     },
     "execution_count": 29,
     "metadata": {},
     "output_type": "execute_result"
    }
   ],
   "source": [
    "train"
   ]
  },
  {
   "cell_type": "code",
   "execution_count": 30,
   "id": "63e4f3c4",
   "metadata": {},
   "outputs": [
    {
     "data": {
      "image/png": "[encoded data removed]",
      "text/plain": [
       "<Figure size 432x288 with 1 Axes>"
      ]
     },
     "metadata": {
      "needs_background": "light"
     },
     "output_type": "display_data"
    },
    {
     "data": {
      "text/plain": [
       "<Figure size 720x720 with 0 Axes>"
      ]
     },
     "metadata": {},
     "output_type": "display_data"
    }
   ],
   "source": [
    "#PdDistrict and Crime\n",
    "dc=pd.crosstab(train['PdDistrict'], train['Crime'])\n",
    "dc.div(dc.sum(), axis=1).plot(kind='bar', stacked=False)\n",
    "\n",
    "plt.xticks(rotation=0)\n",
    "plt.figure(figsize=(10,10))\n",
    "plt.show()"
   ]
  },
  {
   "cell_type": "code",
   "execution_count": 31,
   "id": "22ed1ca9",
   "metadata": {},
   "outputs": [
    {
     "data": {
      "image/png": "[encoded data removed]",
      "text/plain": [
       "<Figure size 432x288 with 1 Axes>"
      ]
     },
     "metadata": {
      "needs_background": "light"
     },
     "output_type": "display_data"
    },
    {
     "data": {
      "text/plain": [
       "<Figure size 720x720 with 0 Axes>"
      ]
     },
     "metadata": {},
     "output_type": "display_data"
    }
   ],
   "source": [
    "#Daysofweek and Crime\n",
    "dc=pd.crosstab(train['DayOfWeek'], train['Crime'])\n",
    "dc.div(dc.sum(), axis=1).plot(kind='bar', stacked=False)\n",
    "\n",
    "plt.xticks(rotation=0)\n",
    "plt.figure(figsize=(10,10))\n",
    "plt.show()"
   ]
  },
  {
   "cell_type": "code",
   "execution_count": 32,
   "id": "6b0250eb",
   "metadata": {},
   "outputs": [
    {
     "data": {
      "text/html": [
       "<div>\n",
       "<style scoped>\n",
       "    .dataframe tbody tr th:only-of-type {\n",
       "        vertical-align: middle;\n",
       "    }\n",
       "\n",
       "    .dataframe tbody tr th {\n",
       "        vertical-align: top;\n",
       "    }\n",
       "\n",
       "    .dataframe thead th {\n",
       "        text-align: right;\n",
       "    }\n",
       "</style>\n",
       "<table border=\"1\" class=\"dataframe\">\n",
       "  <thead>\n",
       "    <tr style=\"text-align: right;\">\n",
       "      <th></th>\n",
       "      <th>Dates</th>\n",
       "      <th>DayOfWeek</th>\n",
       "      <th>PdDistrict</th>\n",
       "      <th>Address</th>\n",
       "      <th>X</th>\n",
       "      <th>Y</th>\n",
       "    </tr>\n",
       "  </thead>\n",
       "  <tbody>\n",
       "    <tr>\n",
       "      <th>0</th>\n",
       "      <td>1142</td>\n",
       "      <td>3</td>\n",
       "      <td>0</td>\n",
       "      <td>552</td>\n",
       "      <td>-122.399588</td>\n",
       "      <td>37.735051</td>\n",
       "    </tr>\n",
       "    <tr>\n",
       "      <th>1</th>\n",
       "      <td>1141</td>\n",
       "      <td>3</td>\n",
       "      <td>0</td>\n",
       "      <td>770</td>\n",
       "      <td>-122.391523</td>\n",
       "      <td>37.732432</td>\n",
       "    </tr>\n",
       "    <tr>\n",
       "      <th>2</th>\n",
       "      <td>1140</td>\n",
       "      <td>3</td>\n",
       "      <td>4</td>\n",
       "      <td>541</td>\n",
       "      <td>-122.426002</td>\n",
       "      <td>37.792212</td>\n",
       "    </tr>\n",
       "    <tr>\n",
       "      <th>3</th>\n",
       "      <td>1139</td>\n",
       "      <td>3</td>\n",
       "      <td>2</td>\n",
       "      <td>838</td>\n",
       "      <td>-122.437394</td>\n",
       "      <td>37.721412</td>\n",
       "    </tr>\n",
       "    <tr>\n",
       "      <th>4</th>\n",
       "      <td>1139</td>\n",
       "      <td>3</td>\n",
       "      <td>2</td>\n",
       "      <td>838</td>\n",
       "      <td>-122.437394</td>\n",
       "      <td>37.721412</td>\n",
       "    </tr>\n",
       "    <tr>\n",
       "      <th>...</th>\n",
       "      <td>...</td>\n",
       "      <td>...</td>\n",
       "      <td>...</td>\n",
       "      <td>...</td>\n",
       "      <td>...</td>\n",
       "      <td>...</td>\n",
       "    </tr>\n",
       "    <tr>\n",
       "      <th>2494</th>\n",
       "      <td>0</td>\n",
       "      <td>1</td>\n",
       "      <td>2</td>\n",
       "      <td>38</td>\n",
       "      <td>-122.434434</td>\n",
       "      <td>37.727039</td>\n",
       "    </tr>\n",
       "    <tr>\n",
       "      <th>2495</th>\n",
       "      <td>0</td>\n",
       "      <td>1</td>\n",
       "      <td>5</td>\n",
       "      <td>221</td>\n",
       "      <td>-122.449447</td>\n",
       "      <td>37.763614</td>\n",
       "    </tr>\n",
       "    <tr>\n",
       "      <th>2496</th>\n",
       "      <td>0</td>\n",
       "      <td>1</td>\n",
       "      <td>8</td>\n",
       "      <td>448</td>\n",
       "      <td>-122.494424</td>\n",
       "      <td>37.750622</td>\n",
       "    </tr>\n",
       "    <tr>\n",
       "      <th>2497</th>\n",
       "      <td>0</td>\n",
       "      <td>1</td>\n",
       "      <td>6</td>\n",
       "      <td>1218</td>\n",
       "      <td>-122.473984</td>\n",
       "      <td>37.780574</td>\n",
       "    </tr>\n",
       "    <tr>\n",
       "      <th>2498</th>\n",
       "      <td>0</td>\n",
       "      <td>1</td>\n",
       "      <td>1</td>\n",
       "      <td>1428</td>\n",
       "      <td>-122.418274</td>\n",
       "      <td>37.787037</td>\n",
       "    </tr>\n",
       "  </tbody>\n",
       "</table>\n",
       "<p>2499 rows × 6 columns</p>\n",
       "</div>"
      ],
      "text/plain": [
       "      Dates  DayOfWeek  PdDistrict  Address           X          Y\n",
       "0      1142          3           0      552 -122.399588  37.735051\n",
       "1      1141          3           0      770 -122.391523  37.732432\n",
       "2      1140          3           4      541 -122.426002  37.792212\n",
       "3      1139          3           2      838 -122.437394  37.721412\n",
       "4      1139          3           2      838 -122.437394  37.721412\n",
       "...     ...        ...         ...      ...         ...        ...\n",
       "2494      0          1           2       38 -122.434434  37.727039\n",
       "2495      0          1           5      221 -122.449447  37.763614\n",
       "2496      0          1           8      448 -122.494424  37.750622\n",
       "2497      0          1           6     1218 -122.473984  37.780574\n",
       "2498      0          1           1     1428 -122.418274  37.787037\n",
       "\n",
       "[2499 rows x 6 columns]"
      ]
     },
     "execution_count": 32,
     "metadata": {},
     "output_type": "execute_result"
    }
   ],
   "source": [
    "test"
   ]
  },
  {
   "cell_type": "code",
   "execution_count": null,
   "id": "6cff4f89",
   "metadata": {},
   "outputs": [],
   "source": []
  },
  {
   "cell_type": "code",
   "execution_count": null,
   "id": "39c782a9",
   "metadata": {},
   "outputs": [],
   "source": []
  },
  {
   "cell_type": "code",
   "execution_count": 33,
   "id": "b82c537e",
   "metadata": {},
   "outputs": [],
   "source": [
    "X = train.drop('Crime', axis=1)\n",
    "y = train['Crime']"
   ]
  },
  {
   "cell_type": "code",
   "execution_count": 34,
   "id": "076e4238",
   "metadata": {},
   "outputs": [],
   "source": [
    "from sklearn.model_selection import train_test_split"
   ]
  },
  {
   "cell_type": "code",
   "execution_count": 35,
   "id": "31356cba",
   "metadata": {},
   "outputs": [],
   "source": [
    "X_train, X_test, y_train, y_test = train_test_split(X,y, test_size = 0.2, random_state = 4442)"
   ]
  },
  {
   "cell_type": "code",
   "execution_count": 36,
   "id": "2966c50e",
   "metadata": {},
   "outputs": [],
   "source": [
    "from sklearn.metrics import accuracy_score, f1_score"
   ]
  },
  {
   "cell_type": "markdown",
   "id": "80efa908",
   "metadata": {},
   "source": [
    "# using Random forest"
   ]
  },
  {
   "cell_type": "code",
   "execution_count": 37,
   "id": "fc1db54f",
   "metadata": {},
   "outputs": [],
   "source": [
    "from sklearn.ensemble import RandomForestClassifier"
   ]
  },
  {
   "cell_type": "code",
   "execution_count": 38,
   "id": "7902cd06",
   "metadata": {},
   "outputs": [],
   "source": [
    "random_forest = RandomForestClassifier()"
   ]
  },
  {
   "cell_type": "code",
   "execution_count": 39,
   "id": "a035b698",
   "metadata": {},
   "outputs": [
    {
     "data": {
      "text/plain": [
       "RandomForestClassifier()"
      ]
     },
     "execution_count": 39,
     "metadata": {},
     "output_type": "execute_result"
    }
   ],
   "source": [
    "random_forest.fit(X_train, y_train)"
   ]
  },
  {
   "cell_type": "code",
   "execution_count": 40,
   "id": "ecab5e7a",
   "metadata": {},
   "outputs": [],
   "source": [
    "random_prediction = random_forest.predict(X_test)"
   ]
  },
  {
   "cell_type": "code",
   "execution_count": 41,
   "id": "9b88bbec",
   "metadata": {},
   "outputs": [],
   "source": [
    "random_acc = round((accuracy_score(y_test, random_prediction) * 100), 2)\n",
    "random_f1 = round((f1_score(y_test, random_prediction)), 4)"
   ]
  },
  {
   "cell_type": "code",
   "execution_count": 42,
   "id": "c5485c28",
   "metadata": {},
   "outputs": [
    {
     "name": "stdout",
     "output_type": "stream",
     "text": [
      "The Random Forest classifier has an accuracy of 99.4% and f1 score of 0.995\n"
     ]
    }
   ],
   "source": [
    "print(f'The Random Forest classifier has an accuracy of {random_acc}% and f1 score of {random_f1}')"
   ]
  },
  {
   "cell_type": "markdown",
   "id": "070e8d6b",
   "metadata": {},
   "source": [
    "# Feature importance"
   ]
  },
  {
   "cell_type": "code",
   "execution_count": 43,
   "id": "b948e2f6",
   "metadata": {},
   "outputs": [
    {
     "name": "stdout",
     "output_type": "stream",
     "text": [
      "Feature: 0, Score: 0.68800\n",
      "Feature: 1, Score: 0.29612\n",
      "Feature: 2, Score: 0.00118\n",
      "Feature: 3, Score: 0.00424\n",
      "Feature: 4, Score: 0.00457\n",
      "Feature: 5, Score: 0.00589\n"
     ]
    },
    {
     "data": {
      "image/png": "[encoded data removed]",
      "text/plain": [
       "<Figure size 432x288 with 1 Axes>"
      ]
     },
     "metadata": {
      "needs_background": "light"
     },
     "output_type": "display_data"
    }
   ],
   "source": [
    "from matplotlib import pyplot\n",
    "importance = random_forest.feature_importances_\n",
    "# summarize feature importance\n",
    "for i,v in enumerate(importance):\n",
    "\tprint('Feature: %0d, Score: %.5f' % (i,v))\n",
    "# plot feature importance\n",
    "pyplot.bar([x for x in range(len(importance))], importance)\n",
    "pyplot.show()"
   ]
  },
  {
   "cell_type": "markdown",
   "id": "3bc6dc0c",
   "metadata": {},
   "source": [
    "# Using Gradient Boosting"
   ]
  },
  {
   "cell_type": "code",
   "execution_count": 44,
   "id": "8a966c61",
   "metadata": {},
   "outputs": [],
   "source": [
    "from sklearn.ensemble import GradientBoostingClassifier"
   ]
  },
  {
   "cell_type": "code",
   "execution_count": 45,
   "id": "d3f6d3ed",
   "metadata": {},
   "outputs": [
    {
     "data": {
      "text/plain": [
       "GradientBoostingClassifier()"
      ]
     },
     "execution_count": 45,
     "metadata": {},
     "output_type": "execute_result"
    }
   ],
   "source": [
    "gradient_boost = GradientBoostingClassifier()\n",
    "\n",
    "gradient_boost.fit(X_train, y_train)"
   ]
  },
  {
   "cell_type": "code",
   "execution_count": 46,
   "id": "e31e168c",
   "metadata": {},
   "outputs": [],
   "source": [
    "gradient_pred = gradient_boost.predict(X_test)"
   ]
  },
  {
   "cell_type": "code",
   "execution_count": 47,
   "id": "118d7bd2",
   "metadata": {},
   "outputs": [],
   "source": [
    "gradient_acc = round((accuracy_score(y_test, gradient_pred)*100), 2)\n",
    "gradient_f1 = round((f1_score(y_test, gradient_pred)), 4)"
   ]
  },
  {
   "cell_type": "code",
   "execution_count": 48,
   "id": "335af01e",
   "metadata": {},
   "outputs": [
    {
     "name": "stdout",
     "output_type": "stream",
     "text": [
      "accuracy score:  99.6\n",
      "f1_score:  0.9967\n"
     ]
    }
   ],
   "source": [
    "print('accuracy score: ', gradient_acc)\n",
    "print('f1_score: ', gradient_f1)"
   ]
  },
  {
   "cell_type": "markdown",
   "id": "b9978d28",
   "metadata": {},
   "source": [
    "# Using SVM"
   ]
  },
  {
   "cell_type": "code",
   "execution_count": 49,
   "id": "f3ffb999",
   "metadata": {},
   "outputs": [],
   "source": [
    "from sklearn.svm import SVC"
   ]
  },
  {
   "cell_type": "code",
   "execution_count": 50,
   "id": "99c67721",
   "metadata": {},
   "outputs": [
    {
     "data": {
      "text/plain": [
       "SVC()"
      ]
     },
     "execution_count": 50,
     "metadata": {},
     "output_type": "execute_result"
    }
   ],
   "source": [
    "svm_model = SVC()\n",
    "\n",
    "svm_model.fit(X_train, y_train)"
   ]
  },
  {
   "cell_type": "code",
   "execution_count": 51,
   "id": "953f888a",
   "metadata": {},
   "outputs": [],
   "source": [
    "svm_prediction = svm_model.predict(X_test)"
   ]
  },
  {
   "cell_type": "code",
   "execution_count": 52,
   "id": "006e2834",
   "metadata": {},
   "outputs": [],
   "source": [
    "svm_acc = round((accuracy_score(y_test, svm_prediction)* 100), 2)\n",
    "svm_f1 = round((f1_score(y_test, svm_prediction)), 4)"
   ]
  },
  {
   "cell_type": "code",
   "execution_count": 53,
   "id": "1147fbac",
   "metadata": {},
   "outputs": [
    {
     "name": "stdout",
     "output_type": "stream",
     "text": [
      "accuracy score:  97.8\n",
      "f1_score:  0.9815\n"
     ]
    }
   ],
   "source": [
    "print('accuracy score: ', svm_acc)\n",
    "print('f1_score: ', svm_f1)"
   ]
  },
  {
   "cell_type": "markdown",
   "id": "ccfbd48a",
   "metadata": {},
   "source": [
    "# Using Naive Bayes"
   ]
  },
  {
   "cell_type": "code",
   "execution_count": 54,
   "id": "e1270f59",
   "metadata": {},
   "outputs": [],
   "source": [
    "from sklearn.naive_bayes import GaussianNB"
   ]
  },
  {
   "cell_type": "code",
   "execution_count": 55,
   "id": "526c9655",
   "metadata": {},
   "outputs": [
    {
     "data": {
      "text/plain": [
       "GaussianNB()"
      ]
     },
     "execution_count": 55,
     "metadata": {},
     "output_type": "execute_result"
    }
   ],
   "source": [
    "naive_model = GaussianNB()\n",
    "\n",
    "naive_model.fit(X_train, y_train)"
   ]
  },
  {
   "cell_type": "code",
   "execution_count": 56,
   "id": "ead76abd",
   "metadata": {},
   "outputs": [],
   "source": [
    "naive_prediction = naive_model.predict(X_test)"
   ]
  },
  {
   "cell_type": "code",
   "execution_count": 57,
   "id": "7e9ce778",
   "metadata": {},
   "outputs": [],
   "source": [
    "naive_acc = round((accuracy_score(y_test, naive_prediction)*100), 2)\n",
    "naive_f1 = round((f1_score(y_test, naive_prediction)), 4)"
   ]
  },
  {
   "cell_type": "code",
   "execution_count": 58,
   "id": "a37f6bef",
   "metadata": {},
   "outputs": [
    {
     "name": "stdout",
     "output_type": "stream",
     "text": [
      "accuracy score:  95.4\n",
      "f1_score:  0.9634\n"
     ]
    }
   ],
   "source": [
    "print('accuracy score: ', naive_acc)\n",
    "print('f1_score: ', naive_f1)"
   ]
  },
  {
   "cell_type": "code",
   "execution_count": 59,
   "id": "7118e147",
   "metadata": {},
   "outputs": [],
   "source": [
    "#pickle using gradient boost model"
   ]
  },
  {
   "cell_type": "code",
   "execution_count": 60,
   "id": "e11e63ef",
   "metadata": {},
   "outputs": [],
   "source": [
    "import pickle\n",
    "filename = 'crime_predict.sav'\n",
    "pickle.dump(random_forest, open(filename, 'wb'))"
   ]
  },
  {
   "cell_type": "code",
   "execution_count": 61,
   "id": "5993a63c",
   "metadata": {},
   "outputs": [
    {
     "data": {
      "text/plain": [
       "Index(['Dates', 'DayOfWeek', 'PdDistrict', 'Address', 'X', 'Y'], dtype='object')"
      ]
     },
     "execution_count": 61,
     "metadata": {},
     "output_type": "execute_result"
    }
   ],
   "source": [
    "X.columns"
   ]
  },
  {
   "cell_type": "code",
   "execution_count": 62,
   "id": "65a140e2",
   "metadata": {},
   "outputs": [
    {
     "data": {
      "text/plain": [
       "<bound method NDFrame.head of       Dates  DayOfWeek  PdDistrict  Address           X          Y\n",
       "0      1123          6           4     1436 -122.425892  37.774599\n",
       "1      1123          6           4     1436 -122.425892  37.774599\n",
       "2      1122          6           4     1550 -122.424363  37.800414\n",
       "3      1121          6           4      352 -122.426995  37.800873\n",
       "4      1121          6           5      131 -122.438738  37.771541\n",
       "...     ...        ...         ...      ...         ...        ...\n",
       "2494      1          4           2     1500 -122.428668  37.728534\n",
       "2495      0          4           3      218 -122.406539  37.756486\n",
       "2496      0          4           3      218 -122.406539  37.756486\n",
       "2497      0          4           3      218 -122.406539  37.756486\n",
       "2498      0          4           1     1057 -122.409792  37.798508\n",
       "\n",
       "[2499 rows x 6 columns]>"
      ]
     },
     "execution_count": 62,
     "metadata": {},
     "output_type": "execute_result"
    }
   ],
   "source": [
    "X.head"
   ]
  },
  {
   "cell_type": "code",
   "execution_count": 63,
   "id": "d1badd17",
   "metadata": {},
   "outputs": [
    {
     "data": {
      "text/plain": [
       "663    20\n",
       "32     16\n",
       "540    15\n",
       "82     14\n",
       "373    14\n",
       "       ..\n",
       "830     1\n",
       "454     1\n",
       "453     1\n",
       "452     1\n",
       "561     1\n",
       "Name: Dates, Length: 1124, dtype: int64"
      ]
     },
     "execution_count": 63,
     "metadata": {},
     "output_type": "execute_result"
    }
   ],
   "source": [
    "X['Dates'].value_counts()"
   ]
  },
  {
   "cell_type": "code",
   "execution_count": 64,
   "id": "e3af4381",
   "metadata": {},
   "outputs": [
    {
     "data": {
      "text/plain": [
       "1    425\n",
       "0    379\n",
       "2    377\n",
       "3    376\n",
       "6    362\n",
       "5    331\n",
       "4    249\n",
       "Name: DayOfWeek, dtype: int64"
      ]
     },
     "execution_count": 64,
     "metadata": {},
     "output_type": "execute_result"
    }
   ],
   "source": [
    "X['DayOfWeek'].value_counts()"
   ]
  },
  {
   "cell_type": "code",
   "execution_count": 65,
   "id": "22697969",
   "metadata": {},
   "outputs": [
    {
     "data": {
      "text/plain": [
       "7    431\n",
       "3    312\n",
       "4    311\n",
       "1    302\n",
       "0    231\n",
       "2    230\n",
       "8    225\n",
       "9    176\n",
       "6    143\n",
       "5    138\n",
       "Name: PdDistrict, dtype: int64"
      ]
     },
     "execution_count": 65,
     "metadata": {},
     "output_type": "execute_result"
    }
   ],
   "source": [
    "X['PdDistrict'].value_counts()"
   ]
  },
  {
   "cell_type": "code",
   "execution_count": 66,
   "id": "db96fd8e",
   "metadata": {},
   "outputs": [
    {
     "data": {
      "text/plain": [
       "1072    45\n",
       "364     20\n",
       "1086    17\n",
       "218     14\n",
       "228     11\n",
       "        ..\n",
       "564      1\n",
       "881      1\n",
       "418      1\n",
       "826      1\n",
       "1500     1\n",
       "Name: Address, Length: 1570, dtype: int64"
      ]
     },
     "execution_count": 66,
     "metadata": {},
     "output_type": "execute_result"
    }
   ],
   "source": [
    "X['Address'].value_counts()"
   ]
  },
  {
   "cell_type": "code",
   "execution_count": 67,
   "id": "ec01df40",
   "metadata": {},
   "outputs": [
    {
     "data": {
      "text/plain": [
       "-122.403405    42\n",
       "-122.422063    20\n",
       "-122.411279    15\n",
       "-122.406539    14\n",
       "-122.407634     8\n",
       "               ..\n",
       "-122.419017     1\n",
       "-122.470137     1\n",
       "-122.428002     1\n",
       "-122.454822     1\n",
       "-122.428668     1\n",
       "Name: X, Length: 1587, dtype: int64"
      ]
     },
     "execution_count": 67,
     "metadata": {},
     "output_type": "execute_result"
    }
   ],
   "source": [
    "X['X'].value_counts()"
   ]
  },
  {
   "cell_type": "code",
   "execution_count": 68,
   "id": "7378b6aa",
   "metadata": {},
   "outputs": [
    {
     "data": {
      "text/plain": [
       "37.775421    42\n",
       "37.789920    20\n",
       "37.771579    15\n",
       "37.756486    14\n",
       "37.784189     8\n",
       "             ..\n",
       "37.781936     1\n",
       "37.724628     1\n",
       "37.785385     1\n",
       "37.715690     1\n",
       "37.728534     1\n",
       "Name: Y, Length: 1587, dtype: int64"
      ]
     },
     "execution_count": 68,
     "metadata": {},
     "output_type": "execute_result"
    }
   ],
   "source": [
    "X['Y'].value_counts()"
   ]
  },
  {
   "cell_type": "code",
   "execution_count": null,
   "id": "88734349",
   "metadata": {},
   "outputs": [],
   "source": []
  }
 ],
 "metadata": {
  "kernelspec": {
   "display_name": "Python 3 (ipykernel)",
   "language": "python",
   "name": "python3"
  },
  "language_info": {
   "codemirror_mode": {
    "name": "ipython",
    "version": 3
   },
   "file_extension": ".py",
   "mimetype": "text/x-python",
   "name": "python",
   "nbconvert_exporter": "python",
   "pygments_lexer": "ipython3",
   "version": "3.9.12"
  }
 },
 "nbformat": 4,
 "nbformat_minor": 5
}
