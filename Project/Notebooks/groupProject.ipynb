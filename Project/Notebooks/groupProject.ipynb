{
 "cells": [
  {
   "cell_type": "markdown",
   "id": "b5db4d9f",
   "metadata": {},
   "source": [
    "# Importing the Necessary Packages/Libraries"
   ]
  },
  {
   "cell_type": "code",
   "execution_count": 13,
   "id": "d1686a17",
   "metadata": {},
   "outputs": [],
   "source": [
    "import pandas as pd\n",
    "import matplotlib.pyplot as plt\n",
    "import seaborn as sns\n",
    "import numpy as np"
   ]
  },
  {
   "cell_type": "markdown",
   "id": "8b8c9759",
   "metadata": {},
   "source": [
    "# Importing the Necessary Algorithms"
   ]
  },
  {
   "cell_type": "code",
   "execution_count": 14,
   "id": "d171bc3a",
   "metadata": {},
   "outputs": [],
   "source": [
    "from sklearn.preprocessing import OneHotEncoder\n",
    "from sklearn.model_selection import train_test_split\n",
    "from sklearn import metrics\n",
    "from sklearn.linear_model import LinearRegression, GammaRegressor, HuberRegressor, PassiveAggressiveRegressor, PoissonRegressor\n",
    "from sklearn.linear_model import QuantileRegressor, RANSACRegressor, TheilSenRegressor, TweedieRegressor\n",
    "from sklearn.ensemble import  AdaBoostRegressor, BaggingRegressor, ExtraTreesRegressor, RandomForestRegressor\n",
    "from sklearn.ensemble import StackingRegressor, VotingRegressor\n",
    "from sklearn.neighbors import KNeighborsRegressor, RadiusNeighborsRegressor\n",
    "from sklearn.tree import DecisionTreeRegressor, ExtraTreeRegressor\n",
    "from sklearn.metrics import mean_absolute_error, mean_squared_error\n",
    "from sklearn.preprocessing import LabelEncoder, LabelBinarizer"
   ]
  },
  {
   "cell_type": "code",
   "execution_count": 15,
   "id": "6f1a0eb9",
   "metadata": {},
   "outputs": [],
   "source": [
    "le = LabelEncoder()"
   ]
  },
  {
   "cell_type": "markdown",
   "id": "3089be83",
   "metadata": {},
   "source": [
    "# Importing the Dataset for the project"
   ]
  },
  {
   "cell_type": "code",
   "execution_count": 16,
   "id": "172cfc7d",
   "metadata": {},
   "outputs": [],
   "source": [
    "df = pd.read_excel(\"potato.xlsx\")"
   ]
  },
  {
   "cell_type": "code",
   "execution_count": 17,
   "id": "4a620d38",
   "metadata": {
    "scrolled": true
   },
   "outputs": [
    {
     "data": {
      "text/html": [
       "<div>\n",
       "<style scoped>\n",
       "    .dataframe tbody tr th:only-of-type {\n",
       "        vertical-align: middle;\n",
       "    }\n",
       "\n",
       "    .dataframe tbody tr th {\n",
       "        vertical-align: top;\n",
       "    }\n",
       "\n",
       "    .dataframe thead th {\n",
       "        text-align: right;\n",
       "    }\n",
       "</style>\n",
       "<table border=\"1\" class=\"dataframe\">\n",
       "  <thead>\n",
       "    <tr style=\"text-align: right;\">\n",
       "      <th></th>\n",
       "      <th>location</th>\n",
       "      <th>soilType</th>\n",
       "      <th>sweetPotato</th>\n",
       "      <th>varietalDescription</th>\n",
       "      <th>varietalCode</th>\n",
       "      <th>fertilizerRegime</th>\n",
       "      <th>fertilizerCode</th>\n",
       "      <th>reps</th>\n",
       "      <th>branchNumber</th>\n",
       "      <th>lengthMainStemCM</th>\n",
       "      <th>...</th>\n",
       "      <th>weightAdventitousRootsKG</th>\n",
       "      <th>dryBiomassKG</th>\n",
       "      <th>weightSmallStorageRootsKG</th>\n",
       "      <th>weightMediumStorageRootsKG</th>\n",
       "      <th>weightBigStorageRootsKG</th>\n",
       "      <th>totalWeightStorageRootsKG</th>\n",
       "      <th>weightMarketableStorageRootsKG</th>\n",
       "      <th>totalNumberStorageRoots</th>\n",
       "      <th>totalYield(T/ha)</th>\n",
       "      <th>marketableYield</th>\n",
       "    </tr>\n",
       "  </thead>\n",
       "  <tbody>\n",
       "    <tr>\n",
       "      <th>0</th>\n",
       "      <td>Nkolbisson</td>\n",
       "      <td>Nitisol</td>\n",
       "      <td>WFSP</td>\n",
       "      <td>White-fleshed sweet potato</td>\n",
       "      <td>1</td>\n",
       "      <td>No fertilizer</td>\n",
       "      <td>Control</td>\n",
       "      <td>Rep1</td>\n",
       "      <td>2.0</td>\n",
       "      <td>300.06</td>\n",
       "      <td>...</td>\n",
       "      <td>0.18</td>\n",
       "      <td>1.32</td>\n",
       "      <td>1.25</td>\n",
       "      <td>0.83</td>\n",
       "      <td>0.83</td>\n",
       "      <td>2.91</td>\n",
       "      <td>1.66</td>\n",
       "      <td>31</td>\n",
       "      <td>4.85</td>\n",
       "      <td>2.77</td>\n",
       "    </tr>\n",
       "    <tr>\n",
       "      <th>1</th>\n",
       "      <td>Nkolbisson</td>\n",
       "      <td>Nitisol</td>\n",
       "      <td>WFSP</td>\n",
       "      <td>White-fleshed sweet potato</td>\n",
       "      <td>1</td>\n",
       "      <td>No fertilizer</td>\n",
       "      <td>Control</td>\n",
       "      <td>Rep2</td>\n",
       "      <td>2.0</td>\n",
       "      <td>304.20</td>\n",
       "      <td>...</td>\n",
       "      <td>0.18</td>\n",
       "      <td>1.29</td>\n",
       "      <td>1.33</td>\n",
       "      <td>0.90</td>\n",
       "      <td>0.74</td>\n",
       "      <td>2.97</td>\n",
       "      <td>1.64</td>\n",
       "      <td>24</td>\n",
       "      <td>4.95</td>\n",
       "      <td>2.73</td>\n",
       "    </tr>\n",
       "    <tr>\n",
       "      <th>2</th>\n",
       "      <td>Nkolbisson</td>\n",
       "      <td>Nitisol</td>\n",
       "      <td>WFSP</td>\n",
       "      <td>White-fleshed sweet potato</td>\n",
       "      <td>1</td>\n",
       "      <td>No fertilizer</td>\n",
       "      <td>Control</td>\n",
       "      <td>Rep3</td>\n",
       "      <td>2.5</td>\n",
       "      <td>303.04</td>\n",
       "      <td>...</td>\n",
       "      <td>0.18</td>\n",
       "      <td>1.26</td>\n",
       "      <td>1.44</td>\n",
       "      <td>0.91</td>\n",
       "      <td>0.66</td>\n",
       "      <td>3.01</td>\n",
       "      <td>1.57</td>\n",
       "      <td>30</td>\n",
       "      <td>5.02</td>\n",
       "      <td>2.62</td>\n",
       "    </tr>\n",
       "    <tr>\n",
       "      <th>3</th>\n",
       "      <td>Nkolbisson</td>\n",
       "      <td>Nitisol</td>\n",
       "      <td>WFSP</td>\n",
       "      <td>White-fleshed sweet potato</td>\n",
       "      <td>1</td>\n",
       "      <td>Fast compost</td>\n",
       "      <td>FC</td>\n",
       "      <td>Rep1</td>\n",
       "      <td>3.0</td>\n",
       "      <td>185.67</td>\n",
       "      <td>...</td>\n",
       "      <td>0.12</td>\n",
       "      <td>1.53</td>\n",
       "      <td>2.07</td>\n",
       "      <td>2.41</td>\n",
       "      <td>1.07</td>\n",
       "      <td>5.55</td>\n",
       "      <td>3.48</td>\n",
       "      <td>39</td>\n",
       "      <td>9.25</td>\n",
       "      <td>5.80</td>\n",
       "    </tr>\n",
       "    <tr>\n",
       "      <th>4</th>\n",
       "      <td>Nkolbisson</td>\n",
       "      <td>Nitisol</td>\n",
       "      <td>WFSP</td>\n",
       "      <td>White-fleshed sweet potato</td>\n",
       "      <td>1</td>\n",
       "      <td>Fast compost</td>\n",
       "      <td>FC</td>\n",
       "      <td>Rep2</td>\n",
       "      <td>3.0</td>\n",
       "      <td>187.20</td>\n",
       "      <td>...</td>\n",
       "      <td>0.12</td>\n",
       "      <td>1.55</td>\n",
       "      <td>2.17</td>\n",
       "      <td>2.22</td>\n",
       "      <td>1.12</td>\n",
       "      <td>5.51</td>\n",
       "      <td>3.34</td>\n",
       "      <td>27</td>\n",
       "      <td>9.18</td>\n",
       "      <td>5.57</td>\n",
       "    </tr>\n",
       "    <tr>\n",
       "      <th>5</th>\n",
       "      <td>Nkolbisson</td>\n",
       "      <td>Nitisol</td>\n",
       "      <td>WFSP</td>\n",
       "      <td>White-fleshed sweet potato</td>\n",
       "      <td>1</td>\n",
       "      <td>Fast compost</td>\n",
       "      <td>FC</td>\n",
       "      <td>Rep3</td>\n",
       "      <td>4.0</td>\n",
       "      <td>189.45</td>\n",
       "      <td>...</td>\n",
       "      <td>0.12</td>\n",
       "      <td>1.62</td>\n",
       "      <td>2.11</td>\n",
       "      <td>2.17</td>\n",
       "      <td>1.29</td>\n",
       "      <td>5.57</td>\n",
       "      <td>3.46</td>\n",
       "      <td>30</td>\n",
       "      <td>9.28</td>\n",
       "      <td>5.77</td>\n",
       "    </tr>\n",
       "    <tr>\n",
       "      <th>6</th>\n",
       "      <td>Nkolbisson</td>\n",
       "      <td>Nitisol</td>\n",
       "      <td>WFSP</td>\n",
       "      <td>White-fleshed sweet potato</td>\n",
       "      <td>1</td>\n",
       "      <td>NPK20-10-10</td>\n",
       "      <td>NPK20-10-10</td>\n",
       "      <td>Rep1</td>\n",
       "      <td>5.0</td>\n",
       "      <td>214.30</td>\n",
       "      <td>...</td>\n",
       "      <td>0.06</td>\n",
       "      <td>2.14</td>\n",
       "      <td>3.31</td>\n",
       "      <td>1.13</td>\n",
       "      <td>1.69</td>\n",
       "      <td>6.13</td>\n",
       "      <td>2.82</td>\n",
       "      <td>40</td>\n",
       "      <td>10.22</td>\n",
       "      <td>4.70</td>\n",
       "    </tr>\n",
       "    <tr>\n",
       "      <th>7</th>\n",
       "      <td>Nkolbisson</td>\n",
       "      <td>Nitisol</td>\n",
       "      <td>WFSP</td>\n",
       "      <td>White-fleshed sweet potato</td>\n",
       "      <td>1</td>\n",
       "      <td>NPK20-10-11</td>\n",
       "      <td>NPK20-10-10</td>\n",
       "      <td>Rep2</td>\n",
       "      <td>4.0</td>\n",
       "      <td>211.45</td>\n",
       "      <td>...</td>\n",
       "      <td>0.06</td>\n",
       "      <td>2.22</td>\n",
       "      <td>3.51</td>\n",
       "      <td>1.21</td>\n",
       "      <td>1.49</td>\n",
       "      <td>6.21</td>\n",
       "      <td>2.70</td>\n",
       "      <td>32</td>\n",
       "      <td>10.35</td>\n",
       "      <td>4.50</td>\n",
       "    </tr>\n",
       "    <tr>\n",
       "      <th>8</th>\n",
       "      <td>Nkolbisson</td>\n",
       "      <td>Nitisol</td>\n",
       "      <td>WFSP</td>\n",
       "      <td>White-fleshed sweet potato</td>\n",
       "      <td>1</td>\n",
       "      <td>NPK20-10-12</td>\n",
       "      <td>NPK20-10-10</td>\n",
       "      <td>Rep3</td>\n",
       "      <td>5.0</td>\n",
       "      <td>210.34</td>\n",
       "      <td>...</td>\n",
       "      <td>0.06</td>\n",
       "      <td>2.24</td>\n",
       "      <td>3.38</td>\n",
       "      <td>1.58</td>\n",
       "      <td>1.22</td>\n",
       "      <td>6.18</td>\n",
       "      <td>2.80</td>\n",
       "      <td>25</td>\n",
       "      <td>10.30</td>\n",
       "      <td>4.67</td>\n",
       "    </tr>\n",
       "    <tr>\n",
       "      <th>9</th>\n",
       "      <td>Nkolbisson</td>\n",
       "      <td>Nitisol</td>\n",
       "      <td>WFSP</td>\n",
       "      <td>White-fleshed sweet potato</td>\n",
       "      <td>1</td>\n",
       "      <td>Poultry litter</td>\n",
       "      <td>PL</td>\n",
       "      <td>Rep1</td>\n",
       "      <td>5.0</td>\n",
       "      <td>220.23</td>\n",
       "      <td>...</td>\n",
       "      <td>0.05</td>\n",
       "      <td>1.88</td>\n",
       "      <td>3.11</td>\n",
       "      <td>1.87</td>\n",
       "      <td>1.55</td>\n",
       "      <td>6.53</td>\n",
       "      <td>3.42</td>\n",
       "      <td>31</td>\n",
       "      <td>10.88</td>\n",
       "      <td>5.70</td>\n",
       "    </tr>\n",
       "    <tr>\n",
       "      <th>10</th>\n",
       "      <td>Nkolbisson</td>\n",
       "      <td>Nitisol</td>\n",
       "      <td>WFSP</td>\n",
       "      <td>White-fleshed sweet potato</td>\n",
       "      <td>1</td>\n",
       "      <td>Poultry litter</td>\n",
       "      <td>PL</td>\n",
       "      <td>Rep2</td>\n",
       "      <td>4.5</td>\n",
       "      <td>225.01</td>\n",
       "      <td>...</td>\n",
       "      <td>0.05</td>\n",
       "      <td>1.84</td>\n",
       "      <td>3.21</td>\n",
       "      <td>1.81</td>\n",
       "      <td>1.48</td>\n",
       "      <td>6.50</td>\n",
       "      <td>3.29</td>\n",
       "      <td>29</td>\n",
       "      <td>10.83</td>\n",
       "      <td>5.48</td>\n",
       "    </tr>\n",
       "    <tr>\n",
       "      <th>11</th>\n",
       "      <td>Nkolbisson</td>\n",
       "      <td>Nitisol</td>\n",
       "      <td>WFSP</td>\n",
       "      <td>White-fleshed sweet potato</td>\n",
       "      <td>1</td>\n",
       "      <td>Poultry litter</td>\n",
       "      <td>PL</td>\n",
       "      <td>Rep3</td>\n",
       "      <td>4.5</td>\n",
       "      <td>222.12</td>\n",
       "      <td>...</td>\n",
       "      <td>0.05</td>\n",
       "      <td>1.80</td>\n",
       "      <td>3.35</td>\n",
       "      <td>2.01</td>\n",
       "      <td>1.20</td>\n",
       "      <td>6.56</td>\n",
       "      <td>3.21</td>\n",
       "      <td>25</td>\n",
       "      <td>10.93</td>\n",
       "      <td>5.35</td>\n",
       "    </tr>\n",
       "    <tr>\n",
       "      <th>12</th>\n",
       "      <td>Nkolbisson</td>\n",
       "      <td>Nitisol</td>\n",
       "      <td>WFSP</td>\n",
       "      <td>White-fleshed sweet potato</td>\n",
       "      <td>1</td>\n",
       "      <td>Tithonia diversifolia powder</td>\n",
       "      <td>Tithonia</td>\n",
       "      <td>Rep1</td>\n",
       "      <td>4.0</td>\n",
       "      <td>200.07</td>\n",
       "      <td>...</td>\n",
       "      <td>0.13</td>\n",
       "      <td>2.43</td>\n",
       "      <td>1.97</td>\n",
       "      <td>2.76</td>\n",
       "      <td>1.57</td>\n",
       "      <td>6.30</td>\n",
       "      <td>4.33</td>\n",
       "      <td>32</td>\n",
       "      <td>10.50</td>\n",
       "      <td>7.22</td>\n",
       "    </tr>\n",
       "    <tr>\n",
       "      <th>13</th>\n",
       "      <td>Nkolbisson</td>\n",
       "      <td>Nitisol</td>\n",
       "      <td>WFSP</td>\n",
       "      <td>White-fleshed sweet potato</td>\n",
       "      <td>1</td>\n",
       "      <td>Tithonia diversifolia powder</td>\n",
       "      <td>Tithonia</td>\n",
       "      <td>Rep2</td>\n",
       "      <td>4.0</td>\n",
       "      <td>200.00</td>\n",
       "      <td>...</td>\n",
       "      <td>0.14</td>\n",
       "      <td>2.48</td>\n",
       "      <td>2.04</td>\n",
       "      <td>2.79</td>\n",
       "      <td>1.37</td>\n",
       "      <td>6.20</td>\n",
       "      <td>4.16</td>\n",
       "      <td>30</td>\n",
       "      <td>10.33</td>\n",
       "      <td>6.93</td>\n",
       "    </tr>\n",
       "    <tr>\n",
       "      <th>14</th>\n",
       "      <td>Nkolbisson</td>\n",
       "      <td>Nitisol</td>\n",
       "      <td>WFSP</td>\n",
       "      <td>White-fleshed sweet potato</td>\n",
       "      <td>1</td>\n",
       "      <td>Tithonia diversifolia powder</td>\n",
       "      <td>Tithonia</td>\n",
       "      <td>Rep3</td>\n",
       "      <td>4.0</td>\n",
       "      <td>203.10</td>\n",
       "      <td>...</td>\n",
       "      <td>0.14</td>\n",
       "      <td>2.44</td>\n",
       "      <td>2.11</td>\n",
       "      <td>2.77</td>\n",
       "      <td>2.02</td>\n",
       "      <td>6.90</td>\n",
       "      <td>4.79</td>\n",
       "      <td>29</td>\n",
       "      <td>11.50</td>\n",
       "      <td>7.98</td>\n",
       "    </tr>\n",
       "    <tr>\n",
       "      <th>15</th>\n",
       "      <td>Nkolbisson</td>\n",
       "      <td>Nitisol</td>\n",
       "      <td>WFSP</td>\n",
       "      <td>White-fleshed sweet potato</td>\n",
       "      <td>1</td>\n",
       "      <td>NPK6-15-28</td>\n",
       "      <td>NPK6-15-28</td>\n",
       "      <td>Rep1</td>\n",
       "      <td>4.0</td>\n",
       "      <td>228.00</td>\n",
       "      <td>...</td>\n",
       "      <td>0.07</td>\n",
       "      <td>1.67</td>\n",
       "      <td>3.41</td>\n",
       "      <td>2.17</td>\n",
       "      <td>1.57</td>\n",
       "      <td>7.15</td>\n",
       "      <td>3.74</td>\n",
       "      <td>37</td>\n",
       "      <td>11.92</td>\n",
       "      <td>6.23</td>\n",
       "    </tr>\n",
       "    <tr>\n",
       "      <th>16</th>\n",
       "      <td>Nkolbisson</td>\n",
       "      <td>Nitisol</td>\n",
       "      <td>WFSP</td>\n",
       "      <td>White-fleshed sweet potato</td>\n",
       "      <td>1</td>\n",
       "      <td>NPK6-15-28</td>\n",
       "      <td>NPK6-15-28</td>\n",
       "      <td>Rep2</td>\n",
       "      <td>4.5</td>\n",
       "      <td>231.00</td>\n",
       "      <td>...</td>\n",
       "      <td>0.07</td>\n",
       "      <td>1.71</td>\n",
       "      <td>3.50</td>\n",
       "      <td>2.09</td>\n",
       "      <td>1.46</td>\n",
       "      <td>7.05</td>\n",
       "      <td>3.55</td>\n",
       "      <td>42</td>\n",
       "      <td>11.75</td>\n",
       "      <td>5.92</td>\n",
       "    </tr>\n",
       "    <tr>\n",
       "      <th>17</th>\n",
       "      <td>Nkolbisson</td>\n",
       "      <td>Nitisol</td>\n",
       "      <td>WFSP</td>\n",
       "      <td>White-fleshed sweet potato</td>\n",
       "      <td>1</td>\n",
       "      <td>NPK6-15-28</td>\n",
       "      <td>NPK6-15-28</td>\n",
       "      <td>Rep3</td>\n",
       "      <td>5.0</td>\n",
       "      <td>233.90</td>\n",
       "      <td>...</td>\n",
       "      <td>0.07</td>\n",
       "      <td>1.71</td>\n",
       "      <td>3.30</td>\n",
       "      <td>2.07</td>\n",
       "      <td>1.81</td>\n",
       "      <td>7.18</td>\n",
       "      <td>3.88</td>\n",
       "      <td>47</td>\n",
       "      <td>11.97</td>\n",
       "      <td>6.47</td>\n",
       "    </tr>\n",
       "    <tr>\n",
       "      <th>18</th>\n",
       "      <td>Nkolbisson</td>\n",
       "      <td>Nitisol</td>\n",
       "      <td>WFSP</td>\n",
       "      <td>White-fleshed sweet potato</td>\n",
       "      <td>1</td>\n",
       "      <td>Rice husk biochar</td>\n",
       "      <td>RHB</td>\n",
       "      <td>Rep1</td>\n",
       "      <td>4.0</td>\n",
       "      <td>187.23</td>\n",
       "      <td>...</td>\n",
       "      <td>0.03</td>\n",
       "      <td>1.42</td>\n",
       "      <td>1.78</td>\n",
       "      <td>2.27</td>\n",
       "      <td>1.93</td>\n",
       "      <td>5.98</td>\n",
       "      <td>4.20</td>\n",
       "      <td>36</td>\n",
       "      <td>9.97</td>\n",
       "      <td>7.00</td>\n",
       "    </tr>\n",
       "    <tr>\n",
       "      <th>19</th>\n",
       "      <td>Nkolbisson</td>\n",
       "      <td>Nitisol</td>\n",
       "      <td>WFSP</td>\n",
       "      <td>White-fleshed sweet potato</td>\n",
       "      <td>1</td>\n",
       "      <td>Rice husk biochar</td>\n",
       "      <td>RHB</td>\n",
       "      <td>Rep2</td>\n",
       "      <td>3.0</td>\n",
       "      <td>183.52</td>\n",
       "      <td>...</td>\n",
       "      <td>0.03</td>\n",
       "      <td>1.46</td>\n",
       "      <td>1.97</td>\n",
       "      <td>2.39</td>\n",
       "      <td>1.53</td>\n",
       "      <td>5.89</td>\n",
       "      <td>3.92</td>\n",
       "      <td>41</td>\n",
       "      <td>9.82</td>\n",
       "      <td>6.53</td>\n",
       "    </tr>\n",
       "    <tr>\n",
       "      <th>20</th>\n",
       "      <td>Nkolbisson</td>\n",
       "      <td>Nitisol</td>\n",
       "      <td>WFSP</td>\n",
       "      <td>White-fleshed sweet potato</td>\n",
       "      <td>1</td>\n",
       "      <td>Rice husk biochar</td>\n",
       "      <td>RHB</td>\n",
       "      <td>Rep3</td>\n",
       "      <td>4.0</td>\n",
       "      <td>179.98</td>\n",
       "      <td>...</td>\n",
       "      <td>0.03</td>\n",
       "      <td>1.44</td>\n",
       "      <td>2.01</td>\n",
       "      <td>2.19</td>\n",
       "      <td>1.80</td>\n",
       "      <td>6.00</td>\n",
       "      <td>3.99</td>\n",
       "      <td>49</td>\n",
       "      <td>10.00</td>\n",
       "      <td>6.65</td>\n",
       "    </tr>\n",
       "    <tr>\n",
       "      <th>21</th>\n",
       "      <td>Nkolbisson</td>\n",
       "      <td>Nitisol</td>\n",
       "      <td>WFSP</td>\n",
       "      <td>White-fleshed sweet potato</td>\n",
       "      <td>1</td>\n",
       "      <td>Fast compost/NPK20-10-10</td>\n",
       "      <td>FC/NPK20-10-10</td>\n",
       "      <td>Rep1</td>\n",
       "      <td>3.5</td>\n",
       "      <td>199.40</td>\n",
       "      <td>...</td>\n",
       "      <td>0.02</td>\n",
       "      <td>1.36</td>\n",
       "      <td>2.35</td>\n",
       "      <td>2.21</td>\n",
       "      <td>0.57</td>\n",
       "      <td>5.13</td>\n",
       "      <td>2.78</td>\n",
       "      <td>30</td>\n",
       "      <td>8.55</td>\n",
       "      <td>4.63</td>\n",
       "    </tr>\n",
       "    <tr>\n",
       "      <th>22</th>\n",
       "      <td>Nkolbisson</td>\n",
       "      <td>Nitisol</td>\n",
       "      <td>WFSP</td>\n",
       "      <td>White-fleshed sweet potato</td>\n",
       "      <td>1</td>\n",
       "      <td>Fast compost/NPK20-10-11</td>\n",
       "      <td>FC/NPK20-10-10</td>\n",
       "      <td>Rep2</td>\n",
       "      <td>4.0</td>\n",
       "      <td>195.67</td>\n",
       "      <td>...</td>\n",
       "      <td>0.02</td>\n",
       "      <td>1.37</td>\n",
       "      <td>2.22</td>\n",
       "      <td>2.11</td>\n",
       "      <td>0.85</td>\n",
       "      <td>5.18</td>\n",
       "      <td>2.96</td>\n",
       "      <td>26</td>\n",
       "      <td>8.63</td>\n",
       "      <td>4.93</td>\n",
       "    </tr>\n",
       "    <tr>\n",
       "      <th>23</th>\n",
       "      <td>Nkolbisson</td>\n",
       "      <td>Nitisol</td>\n",
       "      <td>WFSP</td>\n",
       "      <td>White-fleshed sweet potato</td>\n",
       "      <td>1</td>\n",
       "      <td>Fast compost/NPK20-10-12</td>\n",
       "      <td>FC/NPK20-10-10</td>\n",
       "      <td>Rep3</td>\n",
       "      <td>4.0</td>\n",
       "      <td>198.97</td>\n",
       "      <td>...</td>\n",
       "      <td>0.02</td>\n",
       "      <td>1.39</td>\n",
       "      <td>2.27</td>\n",
       "      <td>2.06</td>\n",
       "      <td>0.90</td>\n",
       "      <td>5.23</td>\n",
       "      <td>2.96</td>\n",
       "      <td>28</td>\n",
       "      <td>8.72</td>\n",
       "      <td>4.93</td>\n",
       "    </tr>\n",
       "    <tr>\n",
       "      <th>24</th>\n",
       "      <td>Nkolbisson</td>\n",
       "      <td>Nitisol</td>\n",
       "      <td>WFSP</td>\n",
       "      <td>White-fleshed sweet potato</td>\n",
       "      <td>1</td>\n",
       "      <td>Poultry litter/NPK20-10-10</td>\n",
       "      <td>PL/NPK20-10-10</td>\n",
       "      <td>Rep1</td>\n",
       "      <td>4.0</td>\n",
       "      <td>224.98</td>\n",
       "      <td>...</td>\n",
       "      <td>0.04</td>\n",
       "      <td>1.57</td>\n",
       "      <td>1.11</td>\n",
       "      <td>3.12</td>\n",
       "      <td>1.78</td>\n",
       "      <td>6.01</td>\n",
       "      <td>4.90</td>\n",
       "      <td>33</td>\n",
       "      <td>10.02</td>\n",
       "      <td>8.17</td>\n",
       "    </tr>\n",
       "    <tr>\n",
       "      <th>25</th>\n",
       "      <td>Nkolbisson</td>\n",
       "      <td>Nitisol</td>\n",
       "      <td>WFSP</td>\n",
       "      <td>White-fleshed sweet potato</td>\n",
       "      <td>1</td>\n",
       "      <td>Poultry litter/NPK20-10-11</td>\n",
       "      <td>PL/NPK20-10-10</td>\n",
       "      <td>Rep2</td>\n",
       "      <td>4.0</td>\n",
       "      <td>225.04</td>\n",
       "      <td>...</td>\n",
       "      <td>0.04</td>\n",
       "      <td>1.61</td>\n",
       "      <td>1.03</td>\n",
       "      <td>3.47</td>\n",
       "      <td>1.61</td>\n",
       "      <td>6.11</td>\n",
       "      <td>5.08</td>\n",
       "      <td>31</td>\n",
       "      <td>10.18</td>\n",
       "      <td>8.47</td>\n",
       "    </tr>\n",
       "    <tr>\n",
       "      <th>26</th>\n",
       "      <td>Nkolbisson</td>\n",
       "      <td>Nitisol</td>\n",
       "      <td>WFSP</td>\n",
       "      <td>White-fleshed sweet potato</td>\n",
       "      <td>1</td>\n",
       "      <td>Poultry litter/NPK20-10-12</td>\n",
       "      <td>PL/NPK20-10-10</td>\n",
       "      <td>Rep3</td>\n",
       "      <td>4.0</td>\n",
       "      <td>223.45</td>\n",
       "      <td>...</td>\n",
       "      <td>0.04</td>\n",
       "      <td>1.59</td>\n",
       "      <td>1.17</td>\n",
       "      <td>3.18</td>\n",
       "      <td>1.80</td>\n",
       "      <td>6.15</td>\n",
       "      <td>4.98</td>\n",
       "      <td>38</td>\n",
       "      <td>10.25</td>\n",
       "      <td>8.30</td>\n",
       "    </tr>\n",
       "    <tr>\n",
       "      <th>27</th>\n",
       "      <td>Nkolbisson</td>\n",
       "      <td>Nitisol</td>\n",
       "      <td>WFSP</td>\n",
       "      <td>White-fleshed sweet potato</td>\n",
       "      <td>1</td>\n",
       "      <td>Rice husk biochar/NPK20-10-10</td>\n",
       "      <td>RHB/NPK20-10-10</td>\n",
       "      <td>Rep1</td>\n",
       "      <td>5.0</td>\n",
       "      <td>194.32</td>\n",
       "      <td>...</td>\n",
       "      <td>0.14</td>\n",
       "      <td>2.62</td>\n",
       "      <td>2.56</td>\n",
       "      <td>2.54</td>\n",
       "      <td>2.60</td>\n",
       "      <td>7.70</td>\n",
       "      <td>5.14</td>\n",
       "      <td>38</td>\n",
       "      <td>12.83</td>\n",
       "      <td>8.57</td>\n",
       "    </tr>\n",
       "    <tr>\n",
       "      <th>28</th>\n",
       "      <td>Nkolbisson</td>\n",
       "      <td>Nitisol</td>\n",
       "      <td>WFSP</td>\n",
       "      <td>White-fleshed sweet potato</td>\n",
       "      <td>1</td>\n",
       "      <td>Rice husk biochar/NPK20-10-11</td>\n",
       "      <td>RHB/NPK20-10-10</td>\n",
       "      <td>Rep2</td>\n",
       "      <td>5.0</td>\n",
       "      <td>200.01</td>\n",
       "      <td>...</td>\n",
       "      <td>0.14</td>\n",
       "      <td>2.60</td>\n",
       "      <td>2.79</td>\n",
       "      <td>2.63</td>\n",
       "      <td>2.45</td>\n",
       "      <td>7.87</td>\n",
       "      <td>5.08</td>\n",
       "      <td>38</td>\n",
       "      <td>13.12</td>\n",
       "      <td>8.47</td>\n",
       "    </tr>\n",
       "    <tr>\n",
       "      <th>29</th>\n",
       "      <td>Nkolbisson</td>\n",
       "      <td>Nitisol</td>\n",
       "      <td>WFSP</td>\n",
       "      <td>White-fleshed sweet potato</td>\n",
       "      <td>1</td>\n",
       "      <td>Rice husk biochar/NPK20-10-12</td>\n",
       "      <td>RHB/NPK20-10-10</td>\n",
       "      <td>Rep3</td>\n",
       "      <td>4.5</td>\n",
       "      <td>199.98</td>\n",
       "      <td>...</td>\n",
       "      <td>0.14</td>\n",
       "      <td>2.64</td>\n",
       "      <td>2.69</td>\n",
       "      <td>2.59</td>\n",
       "      <td>2.50</td>\n",
       "      <td>7.78</td>\n",
       "      <td>5.09</td>\n",
       "      <td>40</td>\n",
       "      <td>12.97</td>\n",
       "      <td>8.48</td>\n",
       "    </tr>\n",
       "    <tr>\n",
       "      <th>30</th>\n",
       "      <td>Nkolbisson</td>\n",
       "      <td>Nitisol</td>\n",
       "      <td>OFSP</td>\n",
       "      <td>Orange-fleshed sweet potato</td>\n",
       "      <td>2</td>\n",
       "      <td>No fertilizer</td>\n",
       "      <td>Control</td>\n",
       "      <td>Rep1</td>\n",
       "      <td>3.0</td>\n",
       "      <td>110.11</td>\n",
       "      <td>...</td>\n",
       "      <td>0.10</td>\n",
       "      <td>1.83</td>\n",
       "      <td>2.55</td>\n",
       "      <td>0.89</td>\n",
       "      <td>0.33</td>\n",
       "      <td>3.77</td>\n",
       "      <td>1.22</td>\n",
       "      <td>28</td>\n",
       "      <td>6.28</td>\n",
       "      <td>2.03</td>\n",
       "    </tr>\n",
       "    <tr>\n",
       "      <th>31</th>\n",
       "      <td>Nkolbisson</td>\n",
       "      <td>Nitisol</td>\n",
       "      <td>OFSP</td>\n",
       "      <td>Orange-fleshed sweet potato</td>\n",
       "      <td>2</td>\n",
       "      <td>No fertilizer</td>\n",
       "      <td>Control</td>\n",
       "      <td>Rep2</td>\n",
       "      <td>2.0</td>\n",
       "      <td>109.98</td>\n",
       "      <td>...</td>\n",
       "      <td>0.11</td>\n",
       "      <td>1.89</td>\n",
       "      <td>2.54</td>\n",
       "      <td>0.78</td>\n",
       "      <td>0.50</td>\n",
       "      <td>3.82</td>\n",
       "      <td>1.28</td>\n",
       "      <td>29</td>\n",
       "      <td>6.37</td>\n",
       "      <td>2.13</td>\n",
       "    </tr>\n",
       "    <tr>\n",
       "      <th>32</th>\n",
       "      <td>Nkolbisson</td>\n",
       "      <td>Nitisol</td>\n",
       "      <td>OFSP</td>\n",
       "      <td>Orange-fleshed sweet potato</td>\n",
       "      <td>2</td>\n",
       "      <td>No fertilizer</td>\n",
       "      <td>Control</td>\n",
       "      <td>Rep3</td>\n",
       "      <td>2.5</td>\n",
       "      <td>112.04</td>\n",
       "      <td>...</td>\n",
       "      <td>0.10</td>\n",
       "      <td>1.87</td>\n",
       "      <td>2.61</td>\n",
       "      <td>0.88</td>\n",
       "      <td>0.24</td>\n",
       "      <td>3.73</td>\n",
       "      <td>1.12</td>\n",
       "      <td>29</td>\n",
       "      <td>6.22</td>\n",
       "      <td>1.87</td>\n",
       "    </tr>\n",
       "    <tr>\n",
       "      <th>33</th>\n",
       "      <td>Nkolbisson</td>\n",
       "      <td>Nitisol</td>\n",
       "      <td>OFSP</td>\n",
       "      <td>Orange-fleshed sweet potato</td>\n",
       "      <td>2</td>\n",
       "      <td>Fast compost</td>\n",
       "      <td>FC</td>\n",
       "      <td>Rep1</td>\n",
       "      <td>6.0</td>\n",
       "      <td>99.97</td>\n",
       "      <td>...</td>\n",
       "      <td>0.22</td>\n",
       "      <td>2.07</td>\n",
       "      <td>3.21</td>\n",
       "      <td>2.75</td>\n",
       "      <td>2.70</td>\n",
       "      <td>8.66</td>\n",
       "      <td>5.45</td>\n",
       "      <td>28</td>\n",
       "      <td>14.43</td>\n",
       "      <td>9.08</td>\n",
       "    </tr>\n",
       "    <tr>\n",
       "      <th>34</th>\n",
       "      <td>Nkolbisson</td>\n",
       "      <td>Nitisol</td>\n",
       "      <td>OFSP</td>\n",
       "      <td>Orange-fleshed sweet potato</td>\n",
       "      <td>2</td>\n",
       "      <td>Fast compost</td>\n",
       "      <td>FC</td>\n",
       "      <td>Rep2</td>\n",
       "      <td>5.6</td>\n",
       "      <td>102.12</td>\n",
       "      <td>...</td>\n",
       "      <td>0.23</td>\n",
       "      <td>2.08</td>\n",
       "      <td>3.33</td>\n",
       "      <td>3.02</td>\n",
       "      <td>2.49</td>\n",
       "      <td>8.84</td>\n",
       "      <td>5.51</td>\n",
       "      <td>30</td>\n",
       "      <td>14.73</td>\n",
       "      <td>9.18</td>\n",
       "    </tr>\n",
       "    <tr>\n",
       "      <th>35</th>\n",
       "      <td>Nkolbisson</td>\n",
       "      <td>Nitisol</td>\n",
       "      <td>OFSP</td>\n",
       "      <td>Orange-fleshed sweet potato</td>\n",
       "      <td>2</td>\n",
       "      <td>Fast compost</td>\n",
       "      <td>FC</td>\n",
       "      <td>Rep3</td>\n",
       "      <td>5.0</td>\n",
       "      <td>100.91</td>\n",
       "      <td>...</td>\n",
       "      <td>0.22</td>\n",
       "      <td>2.11</td>\n",
       "      <td>3.27</td>\n",
       "      <td>3.16</td>\n",
       "      <td>2.45</td>\n",
       "      <td>8.88</td>\n",
       "      <td>5.61</td>\n",
       "      <td>31</td>\n",
       "      <td>14.80</td>\n",
       "      <td>9.35</td>\n",
       "    </tr>\n",
       "    <tr>\n",
       "      <th>36</th>\n",
       "      <td>Nkolbisson</td>\n",
       "      <td>Nitisol</td>\n",
       "      <td>OFSP</td>\n",
       "      <td>Orange-fleshed sweet potato</td>\n",
       "      <td>2</td>\n",
       "      <td>NPK20-10-10</td>\n",
       "      <td>NPK20-10-10</td>\n",
       "      <td>Rep1</td>\n",
       "      <td>5.0</td>\n",
       "      <td>118.78</td>\n",
       "      <td>...</td>\n",
       "      <td>0.06</td>\n",
       "      <td>1.92</td>\n",
       "      <td>3.11</td>\n",
       "      <td>2.88</td>\n",
       "      <td>2.25</td>\n",
       "      <td>8.24</td>\n",
       "      <td>5.13</td>\n",
       "      <td>24</td>\n",
       "      <td>13.73</td>\n",
       "      <td>8.55</td>\n",
       "    </tr>\n",
       "    <tr>\n",
       "      <th>37</th>\n",
       "      <td>Nkolbisson</td>\n",
       "      <td>Nitisol</td>\n",
       "      <td>OFSP</td>\n",
       "      <td>Orange-fleshed sweet potato</td>\n",
       "      <td>2</td>\n",
       "      <td>NPK20-10-11</td>\n",
       "      <td>NPK20-10-10</td>\n",
       "      <td>Rep2</td>\n",
       "      <td>6.0</td>\n",
       "      <td>121.00</td>\n",
       "      <td>...</td>\n",
       "      <td>0.06</td>\n",
       "      <td>1.88</td>\n",
       "      <td>3.07</td>\n",
       "      <td>2.97</td>\n",
       "      <td>2.22</td>\n",
       "      <td>8.26</td>\n",
       "      <td>5.19</td>\n",
       "      <td>19</td>\n",
       "      <td>13.77</td>\n",
       "      <td>8.65</td>\n",
       "    </tr>\n",
       "    <tr>\n",
       "      <th>38</th>\n",
       "      <td>Nkolbisson</td>\n",
       "      <td>Nitisol</td>\n",
       "      <td>OFSP</td>\n",
       "      <td>Orange-fleshed sweet potato</td>\n",
       "      <td>2</td>\n",
       "      <td>NPK20-10-12</td>\n",
       "      <td>NPK20-10-10</td>\n",
       "      <td>Rep3</td>\n",
       "      <td>6.0</td>\n",
       "      <td>122.76</td>\n",
       "      <td>...</td>\n",
       "      <td>0.06</td>\n",
       "      <td>1.91</td>\n",
       "      <td>3.01</td>\n",
       "      <td>3.04</td>\n",
       "      <td>2.16</td>\n",
       "      <td>8.21</td>\n",
       "      <td>5.20</td>\n",
       "      <td>24</td>\n",
       "      <td>13.68</td>\n",
       "      <td>8.67</td>\n",
       "    </tr>\n",
       "    <tr>\n",
       "      <th>39</th>\n",
       "      <td>Nkolbisson</td>\n",
       "      <td>Nitisol</td>\n",
       "      <td>OFSP</td>\n",
       "      <td>Orange-fleshed sweet potato</td>\n",
       "      <td>2</td>\n",
       "      <td>Poultry litter</td>\n",
       "      <td>PL</td>\n",
       "      <td>Rep1</td>\n",
       "      <td>6.0</td>\n",
       "      <td>122.22</td>\n",
       "      <td>...</td>\n",
       "      <td>0.05</td>\n",
       "      <td>1.55</td>\n",
       "      <td>3.39</td>\n",
       "      <td>4.12</td>\n",
       "      <td>3.48</td>\n",
       "      <td>10.99</td>\n",
       "      <td>7.60</td>\n",
       "      <td>42</td>\n",
       "      <td>18.32</td>\n",
       "      <td>12.67</td>\n",
       "    </tr>\n",
       "    <tr>\n",
       "      <th>40</th>\n",
       "      <td>Nkolbisson</td>\n",
       "      <td>Nitisol</td>\n",
       "      <td>OFSP</td>\n",
       "      <td>Orange-fleshed sweet potato</td>\n",
       "      <td>2</td>\n",
       "      <td>Poultry litter</td>\n",
       "      <td>PL</td>\n",
       "      <td>Rep2</td>\n",
       "      <td>6.0</td>\n",
       "      <td>121.78</td>\n",
       "      <td>...</td>\n",
       "      <td>0.05</td>\n",
       "      <td>1.57</td>\n",
       "      <td>3.41</td>\n",
       "      <td>5.21</td>\n",
       "      <td>2.27</td>\n",
       "      <td>10.89</td>\n",
       "      <td>7.48</td>\n",
       "      <td>44</td>\n",
       "      <td>18.15</td>\n",
       "      <td>12.47</td>\n",
       "    </tr>\n",
       "    <tr>\n",
       "      <th>41</th>\n",
       "      <td>Nkolbisson</td>\n",
       "      <td>Nitisol</td>\n",
       "      <td>OFSP</td>\n",
       "      <td>Orange-fleshed sweet potato</td>\n",
       "      <td>2</td>\n",
       "      <td>Poultry litter</td>\n",
       "      <td>PL</td>\n",
       "      <td>Rep3</td>\n",
       "      <td>6.5</td>\n",
       "      <td>122.03</td>\n",
       "      <td>...</td>\n",
       "      <td>0.05</td>\n",
       "      <td>1.62</td>\n",
       "      <td>3.44</td>\n",
       "      <td>5.14</td>\n",
       "      <td>2.44</td>\n",
       "      <td>11.02</td>\n",
       "      <td>7.58</td>\n",
       "      <td>44</td>\n",
       "      <td>18.37</td>\n",
       "      <td>12.63</td>\n",
       "    </tr>\n",
       "    <tr>\n",
       "      <th>42</th>\n",
       "      <td>Nkolbisson</td>\n",
       "      <td>Nitisol</td>\n",
       "      <td>OFSP</td>\n",
       "      <td>Orange-fleshed sweet potato</td>\n",
       "      <td>2</td>\n",
       "      <td>Tithonia diversifolia powder</td>\n",
       "      <td>Tithonia</td>\n",
       "      <td>Rep1</td>\n",
       "      <td>4.5</td>\n",
       "      <td>93.21</td>\n",
       "      <td>...</td>\n",
       "      <td>0.05</td>\n",
       "      <td>1.47</td>\n",
       "      <td>2.68</td>\n",
       "      <td>2.10</td>\n",
       "      <td>0.90</td>\n",
       "      <td>5.68</td>\n",
       "      <td>3.00</td>\n",
       "      <td>39</td>\n",
       "      <td>9.47</td>\n",
       "      <td>5.00</td>\n",
       "    </tr>\n",
       "    <tr>\n",
       "      <th>43</th>\n",
       "      <td>Nkolbisson</td>\n",
       "      <td>Nitisol</td>\n",
       "      <td>OFSP</td>\n",
       "      <td>Orange-fleshed sweet potato</td>\n",
       "      <td>2</td>\n",
       "      <td>Tithonia diversifolia powder</td>\n",
       "      <td>Tithonia</td>\n",
       "      <td>Rep2</td>\n",
       "      <td>4.0</td>\n",
       "      <td>94.34</td>\n",
       "      <td>...</td>\n",
       "      <td>0.05</td>\n",
       "      <td>1.45</td>\n",
       "      <td>2.64</td>\n",
       "      <td>2.13</td>\n",
       "      <td>0.80</td>\n",
       "      <td>5.57</td>\n",
       "      <td>2.93</td>\n",
       "      <td>33</td>\n",
       "      <td>9.28</td>\n",
       "      <td>4.88</td>\n",
       "    </tr>\n",
       "    <tr>\n",
       "      <th>44</th>\n",
       "      <td>Nkolbisson</td>\n",
       "      <td>Nitisol</td>\n",
       "      <td>OFSP</td>\n",
       "      <td>Orange-fleshed sweet potato</td>\n",
       "      <td>2</td>\n",
       "      <td>Tithonia diversifolia powder</td>\n",
       "      <td>Tithonia</td>\n",
       "      <td>Rep3</td>\n",
       "      <td>4.0</td>\n",
       "      <td>94.09</td>\n",
       "      <td>...</td>\n",
       "      <td>0.05</td>\n",
       "      <td>1.49</td>\n",
       "      <td>2.63</td>\n",
       "      <td>2.01</td>\n",
       "      <td>0.86</td>\n",
       "      <td>5.50</td>\n",
       "      <td>2.87</td>\n",
       "      <td>35</td>\n",
       "      <td>9.17</td>\n",
       "      <td>4.78</td>\n",
       "    </tr>\n",
       "    <tr>\n",
       "      <th>45</th>\n",
       "      <td>Nkolbisson</td>\n",
       "      <td>Nitisol</td>\n",
       "      <td>OFSP</td>\n",
       "      <td>Orange-fleshed sweet potato</td>\n",
       "      <td>2</td>\n",
       "      <td>NPK6-15-28</td>\n",
       "      <td>NPK6-15-28</td>\n",
       "      <td>Rep1</td>\n",
       "      <td>4.5</td>\n",
       "      <td>110.20</td>\n",
       "      <td>...</td>\n",
       "      <td>0.11</td>\n",
       "      <td>1.66</td>\n",
       "      <td>2.97</td>\n",
       "      <td>2.84</td>\n",
       "      <td>2.97</td>\n",
       "      <td>8.78</td>\n",
       "      <td>5.81</td>\n",
       "      <td>49</td>\n",
       "      <td>14.63</td>\n",
       "      <td>9.68</td>\n",
       "    </tr>\n",
       "    <tr>\n",
       "      <th>46</th>\n",
       "      <td>Nkolbisson</td>\n",
       "      <td>Nitisol</td>\n",
       "      <td>OFSP</td>\n",
       "      <td>Orange-fleshed sweet potato</td>\n",
       "      <td>2</td>\n",
       "      <td>NPK6-15-28</td>\n",
       "      <td>NPK6-15-28</td>\n",
       "      <td>Rep2</td>\n",
       "      <td>4.5</td>\n",
       "      <td>111.20</td>\n",
       "      <td>...</td>\n",
       "      <td>0.11</td>\n",
       "      <td>1.68</td>\n",
       "      <td>2.93</td>\n",
       "      <td>2.90</td>\n",
       "      <td>3.05</td>\n",
       "      <td>8.88</td>\n",
       "      <td>5.95</td>\n",
       "      <td>41</td>\n",
       "      <td>14.80</td>\n",
       "      <td>9.92</td>\n",
       "    </tr>\n",
       "    <tr>\n",
       "      <th>47</th>\n",
       "      <td>Nkolbisson</td>\n",
       "      <td>Nitisol</td>\n",
       "      <td>OFSP</td>\n",
       "      <td>Orange-fleshed sweet potato</td>\n",
       "      <td>2</td>\n",
       "      <td>NPK6-15-28</td>\n",
       "      <td>NPK6-15-28</td>\n",
       "      <td>Rep3</td>\n",
       "      <td>4.0</td>\n",
       "      <td>112.00</td>\n",
       "      <td>...</td>\n",
       "      <td>0.11</td>\n",
       "      <td>1.62</td>\n",
       "      <td>2.87</td>\n",
       "      <td>3.00</td>\n",
       "      <td>3.05</td>\n",
       "      <td>8.92</td>\n",
       "      <td>6.05</td>\n",
       "      <td>38</td>\n",
       "      <td>14.87</td>\n",
       "      <td>10.08</td>\n",
       "    </tr>\n",
       "    <tr>\n",
       "      <th>48</th>\n",
       "      <td>Nkolbisson</td>\n",
       "      <td>Nitisol</td>\n",
       "      <td>OFSP</td>\n",
       "      <td>Orange-fleshed sweet potato</td>\n",
       "      <td>2</td>\n",
       "      <td>Rice husk biochar</td>\n",
       "      <td>RHB</td>\n",
       "      <td>Rep1</td>\n",
       "      <td>6.5</td>\n",
       "      <td>113.40</td>\n",
       "      <td>...</td>\n",
       "      <td>0.12</td>\n",
       "      <td>1.64</td>\n",
       "      <td>3.42</td>\n",
       "      <td>4.20</td>\n",
       "      <td>2.41</td>\n",
       "      <td>10.03</td>\n",
       "      <td>6.61</td>\n",
       "      <td>51</td>\n",
       "      <td>16.72</td>\n",
       "      <td>11.02</td>\n",
       "    </tr>\n",
       "    <tr>\n",
       "      <th>49</th>\n",
       "      <td>Nkolbisson</td>\n",
       "      <td>Nitisol</td>\n",
       "      <td>OFSP</td>\n",
       "      <td>Orange-fleshed sweet potato</td>\n",
       "      <td>2</td>\n",
       "      <td>Rice husk biochar</td>\n",
       "      <td>RHB</td>\n",
       "      <td>Rep2</td>\n",
       "      <td>6.0</td>\n",
       "      <td>113.00</td>\n",
       "      <td>...</td>\n",
       "      <td>0.12</td>\n",
       "      <td>1.61</td>\n",
       "      <td>3.40</td>\n",
       "      <td>4.32</td>\n",
       "      <td>2.40</td>\n",
       "      <td>10.12</td>\n",
       "      <td>6.72</td>\n",
       "      <td>53</td>\n",
       "      <td>16.87</td>\n",
       "      <td>11.20</td>\n",
       "    </tr>\n",
       "    <tr>\n",
       "      <th>50</th>\n",
       "      <td>Nkolbisson</td>\n",
       "      <td>Nitisol</td>\n",
       "      <td>OFSP</td>\n",
       "      <td>Orange-fleshed sweet potato</td>\n",
       "      <td>2</td>\n",
       "      <td>Rice husk biochar</td>\n",
       "      <td>RHB</td>\n",
       "      <td>Rep3</td>\n",
       "      <td>6.5</td>\n",
       "      <td>111.90</td>\n",
       "      <td>...</td>\n",
       "      <td>0.13</td>\n",
       "      <td>1.65</td>\n",
       "      <td>3.39</td>\n",
       "      <td>4.27</td>\n",
       "      <td>2.52</td>\n",
       "      <td>10.18</td>\n",
       "      <td>6.79</td>\n",
       "      <td>52</td>\n",
       "      <td>16.97</td>\n",
       "      <td>11.32</td>\n",
       "    </tr>\n",
       "    <tr>\n",
       "      <th>51</th>\n",
       "      <td>Nkolbisson</td>\n",
       "      <td>Nitisol</td>\n",
       "      <td>OFSP</td>\n",
       "      <td>Orange-fleshed sweet potato</td>\n",
       "      <td>2</td>\n",
       "      <td>Fast compost/NPK20-10-10</td>\n",
       "      <td>FC/NPK20-10-10</td>\n",
       "      <td>Rep1</td>\n",
       "      <td>6.5</td>\n",
       "      <td>109.80</td>\n",
       "      <td>...</td>\n",
       "      <td>0.12</td>\n",
       "      <td>2.04</td>\n",
       "      <td>3.01</td>\n",
       "      <td>6.87</td>\n",
       "      <td>4.10</td>\n",
       "      <td>13.98</td>\n",
       "      <td>10.97</td>\n",
       "      <td>45</td>\n",
       "      <td>23.30</td>\n",
       "      <td>18.28</td>\n",
       "    </tr>\n",
       "    <tr>\n",
       "      <th>52</th>\n",
       "      <td>Nkolbisson</td>\n",
       "      <td>Nitisol</td>\n",
       "      <td>OFSP</td>\n",
       "      <td>Orange-fleshed sweet potato</td>\n",
       "      <td>2</td>\n",
       "      <td>Fast compost/NPK20-10-11</td>\n",
       "      <td>FC/NPK20-10-10</td>\n",
       "      <td>Rep2</td>\n",
       "      <td>7.0</td>\n",
       "      <td>107.98</td>\n",
       "      <td>...</td>\n",
       "      <td>0.12</td>\n",
       "      <td>2.06</td>\n",
       "      <td>4.06</td>\n",
       "      <td>6.89</td>\n",
       "      <td>2.95</td>\n",
       "      <td>13.90</td>\n",
       "      <td>9.84</td>\n",
       "      <td>46</td>\n",
       "      <td>23.17</td>\n",
       "      <td>16.40</td>\n",
       "    </tr>\n",
       "    <tr>\n",
       "      <th>53</th>\n",
       "      <td>Nkolbisson</td>\n",
       "      <td>Nitisol</td>\n",
       "      <td>OFSP</td>\n",
       "      <td>Orange-fleshed sweet potato</td>\n",
       "      <td>2</td>\n",
       "      <td>Fast compost/NPK20-10-12</td>\n",
       "      <td>FC/NPK20-10-10</td>\n",
       "      <td>Rep3</td>\n",
       "      <td>6.0</td>\n",
       "      <td>108.87</td>\n",
       "      <td>...</td>\n",
       "      <td>0.12</td>\n",
       "      <td>2.06</td>\n",
       "      <td>4.09</td>\n",
       "      <td>6.95</td>\n",
       "      <td>2.85</td>\n",
       "      <td>13.89</td>\n",
       "      <td>9.80</td>\n",
       "      <td>49</td>\n",
       "      <td>23.15</td>\n",
       "      <td>16.33</td>\n",
       "    </tr>\n",
       "    <tr>\n",
       "      <th>54</th>\n",
       "      <td>Nkolbisson</td>\n",
       "      <td>Nitisol</td>\n",
       "      <td>OFSP</td>\n",
       "      <td>Orange-fleshed sweet potato</td>\n",
       "      <td>2</td>\n",
       "      <td>Poultry litter/NPK20-10-10</td>\n",
       "      <td>PL/NPK20-10-10</td>\n",
       "      <td>Rep1</td>\n",
       "      <td>7.0</td>\n",
       "      <td>116.56</td>\n",
       "      <td>...</td>\n",
       "      <td>0.06</td>\n",
       "      <td>2.38</td>\n",
       "      <td>4.19</td>\n",
       "      <td>8.43</td>\n",
       "      <td>4.53</td>\n",
       "      <td>17.15</td>\n",
       "      <td>12.96</td>\n",
       "      <td>42</td>\n",
       "      <td>28.58</td>\n",
       "      <td>21.60</td>\n",
       "    </tr>\n",
       "    <tr>\n",
       "      <th>55</th>\n",
       "      <td>Nkolbisson</td>\n",
       "      <td>Nitisol</td>\n",
       "      <td>OFSP</td>\n",
       "      <td>Orange-fleshed sweet potato</td>\n",
       "      <td>2</td>\n",
       "      <td>Poultry litter/NPK20-10-11</td>\n",
       "      <td>PL/NPK20-10-10</td>\n",
       "      <td>Rep2</td>\n",
       "      <td>6.0</td>\n",
       "      <td>115.67</td>\n",
       "      <td>...</td>\n",
       "      <td>0.06</td>\n",
       "      <td>2.35</td>\n",
       "      <td>4.26</td>\n",
       "      <td>8.22</td>\n",
       "      <td>4.56</td>\n",
       "      <td>17.04</td>\n",
       "      <td>12.78</td>\n",
       "      <td>45</td>\n",
       "      <td>28.40</td>\n",
       "      <td>21.30</td>\n",
       "    </tr>\n",
       "    <tr>\n",
       "      <th>56</th>\n",
       "      <td>Nkolbisson</td>\n",
       "      <td>Nitisol</td>\n",
       "      <td>OFSP</td>\n",
       "      <td>Orange-fleshed sweet potato</td>\n",
       "      <td>2</td>\n",
       "      <td>Poultry litter/NPK20-10-12</td>\n",
       "      <td>PL/NPK20-10-10</td>\n",
       "      <td>Rep3</td>\n",
       "      <td>7.0</td>\n",
       "      <td>118.04</td>\n",
       "      <td>...</td>\n",
       "      <td>0.06</td>\n",
       "      <td>2.40</td>\n",
       "      <td>4.27</td>\n",
       "      <td>7.89</td>\n",
       "      <td>5.10</td>\n",
       "      <td>17.26</td>\n",
       "      <td>12.99</td>\n",
       "      <td>47</td>\n",
       "      <td>28.77</td>\n",
       "      <td>21.65</td>\n",
       "    </tr>\n",
       "    <tr>\n",
       "      <th>57</th>\n",
       "      <td>Nkolbisson</td>\n",
       "      <td>Nitisol</td>\n",
       "      <td>OFSP</td>\n",
       "      <td>Orange-fleshed sweet potato</td>\n",
       "      <td>2</td>\n",
       "      <td>Rice husk biochar/NPK20-10-10</td>\n",
       "      <td>RHB/NPK20-10-10</td>\n",
       "      <td>Rep1</td>\n",
       "      <td>7.0</td>\n",
       "      <td>104.44</td>\n",
       "      <td>...</td>\n",
       "      <td>0.07</td>\n",
       "      <td>2.22</td>\n",
       "      <td>4.79</td>\n",
       "      <td>6.54</td>\n",
       "      <td>4.78</td>\n",
       "      <td>16.11</td>\n",
       "      <td>11.32</td>\n",
       "      <td>57</td>\n",
       "      <td>26.85</td>\n",
       "      <td>18.87</td>\n",
       "    </tr>\n",
       "    <tr>\n",
       "      <th>58</th>\n",
       "      <td>Nkolbisson</td>\n",
       "      <td>Nitisol</td>\n",
       "      <td>OFSP</td>\n",
       "      <td>Orange-fleshed sweet potato</td>\n",
       "      <td>2</td>\n",
       "      <td>Rice husk biochar/NPK20-10-11</td>\n",
       "      <td>RHB/NPK20-10-10</td>\n",
       "      <td>Rep2</td>\n",
       "      <td>7.0</td>\n",
       "      <td>105.67</td>\n",
       "      <td>...</td>\n",
       "      <td>0.07</td>\n",
       "      <td>2.24</td>\n",
       "      <td>4.89</td>\n",
       "      <td>6.66</td>\n",
       "      <td>4.42</td>\n",
       "      <td>15.97</td>\n",
       "      <td>11.08</td>\n",
       "      <td>65</td>\n",
       "      <td>26.62</td>\n",
       "      <td>18.47</td>\n",
       "    </tr>\n",
       "    <tr>\n",
       "      <th>59</th>\n",
       "      <td>Nkolbisson</td>\n",
       "      <td>Nitisol</td>\n",
       "      <td>OFSP</td>\n",
       "      <td>Orange-fleshed sweet potato</td>\n",
       "      <td>2</td>\n",
       "      <td>Rice husk biochar/NPK20-10-12</td>\n",
       "      <td>RHB/NPK20-10-10</td>\n",
       "      <td>Rep3</td>\n",
       "      <td>7.0</td>\n",
       "      <td>103.34</td>\n",
       "      <td>...</td>\n",
       "      <td>0.07</td>\n",
       "      <td>2.24</td>\n",
       "      <td>4.93</td>\n",
       "      <td>6.43</td>\n",
       "      <td>4.92</td>\n",
       "      <td>16.28</td>\n",
       "      <td>11.35</td>\n",
       "      <td>69</td>\n",
       "      <td>27.13</td>\n",
       "      <td>18.92</td>\n",
       "    </tr>\n",
       "  </tbody>\n",
       "</table>\n",
       "<p>60 rows × 22 columns</p>\n",
       "</div>"
      ],
      "text/plain": [
       "      location soilType sweetPotato          varietalDescription  \\\n",
       "0   Nkolbisson  Nitisol        WFSP   White-fleshed sweet potato   \n",
       "1   Nkolbisson  Nitisol        WFSP   White-fleshed sweet potato   \n",
       "2   Nkolbisson  Nitisol        WFSP   White-fleshed sweet potato   \n",
       "3   Nkolbisson  Nitisol        WFSP   White-fleshed sweet potato   \n",
       "4   Nkolbisson  Nitisol        WFSP   White-fleshed sweet potato   \n",
       "5   Nkolbisson  Nitisol        WFSP   White-fleshed sweet potato   \n",
       "6   Nkolbisson  Nitisol        WFSP   White-fleshed sweet potato   \n",
       "7   Nkolbisson  Nitisol        WFSP   White-fleshed sweet potato   \n",
       "8   Nkolbisson  Nitisol        WFSP   White-fleshed sweet potato   \n",
       "9   Nkolbisson  Nitisol        WFSP   White-fleshed sweet potato   \n",
       "10  Nkolbisson  Nitisol        WFSP   White-fleshed sweet potato   \n",
       "11  Nkolbisson  Nitisol        WFSP   White-fleshed sweet potato   \n",
       "12  Nkolbisson  Nitisol        WFSP   White-fleshed sweet potato   \n",
       "13  Nkolbisson  Nitisol        WFSP   White-fleshed sweet potato   \n",
       "14  Nkolbisson  Nitisol        WFSP   White-fleshed sweet potato   \n",
       "15  Nkolbisson  Nitisol        WFSP   White-fleshed sweet potato   \n",
       "16  Nkolbisson  Nitisol        WFSP   White-fleshed sweet potato   \n",
       "17  Nkolbisson  Nitisol        WFSP   White-fleshed sweet potato   \n",
       "18  Nkolbisson  Nitisol        WFSP   White-fleshed sweet potato   \n",
       "19  Nkolbisson  Nitisol        WFSP   White-fleshed sweet potato   \n",
       "20  Nkolbisson  Nitisol        WFSP   White-fleshed sweet potato   \n",
       "21  Nkolbisson  Nitisol        WFSP   White-fleshed sweet potato   \n",
       "22  Nkolbisson  Nitisol        WFSP   White-fleshed sweet potato   \n",
       "23  Nkolbisson  Nitisol        WFSP   White-fleshed sweet potato   \n",
       "24  Nkolbisson  Nitisol        WFSP   White-fleshed sweet potato   \n",
       "25  Nkolbisson  Nitisol        WFSP   White-fleshed sweet potato   \n",
       "26  Nkolbisson  Nitisol        WFSP   White-fleshed sweet potato   \n",
       "27  Nkolbisson  Nitisol        WFSP   White-fleshed sweet potato   \n",
       "28  Nkolbisson  Nitisol        WFSP   White-fleshed sweet potato   \n",
       "29  Nkolbisson  Nitisol        WFSP   White-fleshed sweet potato   \n",
       "30  Nkolbisson  Nitisol        OFSP  Orange-fleshed sweet potato   \n",
       "31  Nkolbisson  Nitisol        OFSP  Orange-fleshed sweet potato   \n",
       "32  Nkolbisson  Nitisol        OFSP  Orange-fleshed sweet potato   \n",
       "33  Nkolbisson  Nitisol        OFSP  Orange-fleshed sweet potato   \n",
       "34  Nkolbisson  Nitisol        OFSP  Orange-fleshed sweet potato   \n",
       "35  Nkolbisson  Nitisol        OFSP  Orange-fleshed sweet potato   \n",
       "36  Nkolbisson  Nitisol        OFSP  Orange-fleshed sweet potato   \n",
       "37  Nkolbisson  Nitisol        OFSP  Orange-fleshed sweet potato   \n",
       "38  Nkolbisson  Nitisol        OFSP  Orange-fleshed sweet potato   \n",
       "39  Nkolbisson  Nitisol        OFSP  Orange-fleshed sweet potato   \n",
       "40  Nkolbisson  Nitisol        OFSP  Orange-fleshed sweet potato   \n",
       "41  Nkolbisson  Nitisol        OFSP  Orange-fleshed sweet potato   \n",
       "42  Nkolbisson  Nitisol        OFSP  Orange-fleshed sweet potato   \n",
       "43  Nkolbisson  Nitisol        OFSP  Orange-fleshed sweet potato   \n",
       "44  Nkolbisson  Nitisol        OFSP  Orange-fleshed sweet potato   \n",
       "45  Nkolbisson  Nitisol        OFSP  Orange-fleshed sweet potato   \n",
       "46  Nkolbisson  Nitisol        OFSP  Orange-fleshed sweet potato   \n",
       "47  Nkolbisson  Nitisol        OFSP  Orange-fleshed sweet potato   \n",
       "48  Nkolbisson  Nitisol        OFSP  Orange-fleshed sweet potato   \n",
       "49  Nkolbisson  Nitisol        OFSP  Orange-fleshed sweet potato   \n",
       "50  Nkolbisson  Nitisol        OFSP  Orange-fleshed sweet potato   \n",
       "51  Nkolbisson  Nitisol        OFSP  Orange-fleshed sweet potato   \n",
       "52  Nkolbisson  Nitisol        OFSP  Orange-fleshed sweet potato   \n",
       "53  Nkolbisson  Nitisol        OFSP  Orange-fleshed sweet potato   \n",
       "54  Nkolbisson  Nitisol        OFSP  Orange-fleshed sweet potato   \n",
       "55  Nkolbisson  Nitisol        OFSP  Orange-fleshed sweet potato   \n",
       "56  Nkolbisson  Nitisol        OFSP  Orange-fleshed sweet potato   \n",
       "57  Nkolbisson  Nitisol        OFSP  Orange-fleshed sweet potato   \n",
       "58  Nkolbisson  Nitisol        OFSP  Orange-fleshed sweet potato   \n",
       "59  Nkolbisson  Nitisol        OFSP  Orange-fleshed sweet potato   \n",
       "\n",
       "    varietalCode               fertilizerRegime   fertilizerCode  reps  \\\n",
       "0              1                  No fertilizer          Control  Rep1   \n",
       "1              1                  No fertilizer          Control  Rep2   \n",
       "2              1                  No fertilizer          Control  Rep3   \n",
       "3              1                   Fast compost               FC  Rep1   \n",
       "4              1                   Fast compost               FC  Rep2   \n",
       "5              1                   Fast compost               FC  Rep3   \n",
       "6              1                    NPK20-10-10      NPK20-10-10  Rep1   \n",
       "7              1                    NPK20-10-11      NPK20-10-10  Rep2   \n",
       "8              1                    NPK20-10-12      NPK20-10-10  Rep3   \n",
       "9              1                 Poultry litter               PL  Rep1   \n",
       "10             1                 Poultry litter               PL  Rep2   \n",
       "11             1                 Poultry litter               PL  Rep3   \n",
       "12             1   Tithonia diversifolia powder         Tithonia  Rep1   \n",
       "13             1   Tithonia diversifolia powder         Tithonia  Rep2   \n",
       "14             1   Tithonia diversifolia powder         Tithonia  Rep3   \n",
       "15             1                     NPK6-15-28       NPK6-15-28  Rep1   \n",
       "16             1                     NPK6-15-28       NPK6-15-28  Rep2   \n",
       "17             1                     NPK6-15-28       NPK6-15-28  Rep3   \n",
       "18             1              Rice husk biochar              RHB  Rep1   \n",
       "19             1              Rice husk biochar              RHB  Rep2   \n",
       "20             1              Rice husk biochar              RHB  Rep3   \n",
       "21             1       Fast compost/NPK20-10-10   FC/NPK20-10-10  Rep1   \n",
       "22             1       Fast compost/NPK20-10-11   FC/NPK20-10-10  Rep2   \n",
       "23             1       Fast compost/NPK20-10-12   FC/NPK20-10-10  Rep3   \n",
       "24             1     Poultry litter/NPK20-10-10   PL/NPK20-10-10  Rep1   \n",
       "25             1     Poultry litter/NPK20-10-11   PL/NPK20-10-10  Rep2   \n",
       "26             1     Poultry litter/NPK20-10-12   PL/NPK20-10-10  Rep3   \n",
       "27             1  Rice husk biochar/NPK20-10-10  RHB/NPK20-10-10  Rep1   \n",
       "28             1  Rice husk biochar/NPK20-10-11  RHB/NPK20-10-10  Rep2   \n",
       "29             1  Rice husk biochar/NPK20-10-12  RHB/NPK20-10-10  Rep3   \n",
       "30             2                  No fertilizer          Control  Rep1   \n",
       "31             2                  No fertilizer          Control  Rep2   \n",
       "32             2                  No fertilizer          Control  Rep3   \n",
       "33             2                   Fast compost               FC  Rep1   \n",
       "34             2                   Fast compost               FC  Rep2   \n",
       "35             2                   Fast compost               FC  Rep3   \n",
       "36             2                    NPK20-10-10      NPK20-10-10  Rep1   \n",
       "37             2                    NPK20-10-11      NPK20-10-10  Rep2   \n",
       "38             2                    NPK20-10-12      NPK20-10-10  Rep3   \n",
       "39             2                 Poultry litter               PL  Rep1   \n",
       "40             2                 Poultry litter               PL  Rep2   \n",
       "41             2                 Poultry litter               PL  Rep3   \n",
       "42             2   Tithonia diversifolia powder         Tithonia  Rep1   \n",
       "43             2   Tithonia diversifolia powder         Tithonia  Rep2   \n",
       "44             2   Tithonia diversifolia powder         Tithonia  Rep3   \n",
       "45             2                     NPK6-15-28       NPK6-15-28  Rep1   \n",
       "46             2                     NPK6-15-28       NPK6-15-28  Rep2   \n",
       "47             2                     NPK6-15-28       NPK6-15-28  Rep3   \n",
       "48             2              Rice husk biochar              RHB  Rep1   \n",
       "49             2              Rice husk biochar              RHB  Rep2   \n",
       "50             2              Rice husk biochar              RHB  Rep3   \n",
       "51             2       Fast compost/NPK20-10-10   FC/NPK20-10-10  Rep1   \n",
       "52             2       Fast compost/NPK20-10-11   FC/NPK20-10-10  Rep2   \n",
       "53             2       Fast compost/NPK20-10-12   FC/NPK20-10-10  Rep3   \n",
       "54             2     Poultry litter/NPK20-10-10   PL/NPK20-10-10  Rep1   \n",
       "55             2     Poultry litter/NPK20-10-11   PL/NPK20-10-10  Rep2   \n",
       "56             2     Poultry litter/NPK20-10-12   PL/NPK20-10-10  Rep3   \n",
       "57             2  Rice husk biochar/NPK20-10-10  RHB/NPK20-10-10  Rep1   \n",
       "58             2  Rice husk biochar/NPK20-10-11  RHB/NPK20-10-10  Rep2   \n",
       "59             2  Rice husk biochar/NPK20-10-12  RHB/NPK20-10-10  Rep3   \n",
       "\n",
       "    branchNumber  lengthMainStemCM  ...  weightAdventitousRootsKG  \\\n",
       "0            2.0            300.06  ...                      0.18   \n",
       "1            2.0            304.20  ...                      0.18   \n",
       "2            2.5            303.04  ...                      0.18   \n",
       "3            3.0            185.67  ...                      0.12   \n",
       "4            3.0            187.20  ...                      0.12   \n",
       "5            4.0            189.45  ...                      0.12   \n",
       "6            5.0            214.30  ...                      0.06   \n",
       "7            4.0            211.45  ...                      0.06   \n",
       "8            5.0            210.34  ...                      0.06   \n",
       "9            5.0            220.23  ...                      0.05   \n",
       "10           4.5            225.01  ...                      0.05   \n",
       "11           4.5            222.12  ...                      0.05   \n",
       "12           4.0            200.07  ...                      0.13   \n",
       "13           4.0            200.00  ...                      0.14   \n",
       "14           4.0            203.10  ...                      0.14   \n",
       "15           4.0            228.00  ...                      0.07   \n",
       "16           4.5            231.00  ...                      0.07   \n",
       "17           5.0            233.90  ...                      0.07   \n",
       "18           4.0            187.23  ...                      0.03   \n",
       "19           3.0            183.52  ...                      0.03   \n",
       "20           4.0            179.98  ...                      0.03   \n",
       "21           3.5            199.40  ...                      0.02   \n",
       "22           4.0            195.67  ...                      0.02   \n",
       "23           4.0            198.97  ...                      0.02   \n",
       "24           4.0            224.98  ...                      0.04   \n",
       "25           4.0            225.04  ...                      0.04   \n",
       "26           4.0            223.45  ...                      0.04   \n",
       "27           5.0            194.32  ...                      0.14   \n",
       "28           5.0            200.01  ...                      0.14   \n",
       "29           4.5            199.98  ...                      0.14   \n",
       "30           3.0            110.11  ...                      0.10   \n",
       "31           2.0            109.98  ...                      0.11   \n",
       "32           2.5            112.04  ...                      0.10   \n",
       "33           6.0             99.97  ...                      0.22   \n",
       "34           5.6            102.12  ...                      0.23   \n",
       "35           5.0            100.91  ...                      0.22   \n",
       "36           5.0            118.78  ...                      0.06   \n",
       "37           6.0            121.00  ...                      0.06   \n",
       "38           6.0            122.76  ...                      0.06   \n",
       "39           6.0            122.22  ...                      0.05   \n",
       "40           6.0            121.78  ...                      0.05   \n",
       "41           6.5            122.03  ...                      0.05   \n",
       "42           4.5             93.21  ...                      0.05   \n",
       "43           4.0             94.34  ...                      0.05   \n",
       "44           4.0             94.09  ...                      0.05   \n",
       "45           4.5            110.20  ...                      0.11   \n",
       "46           4.5            111.20  ...                      0.11   \n",
       "47           4.0            112.00  ...                      0.11   \n",
       "48           6.5            113.40  ...                      0.12   \n",
       "49           6.0            113.00  ...                      0.12   \n",
       "50           6.5            111.90  ...                      0.13   \n",
       "51           6.5            109.80  ...                      0.12   \n",
       "52           7.0            107.98  ...                      0.12   \n",
       "53           6.0            108.87  ...                      0.12   \n",
       "54           7.0            116.56  ...                      0.06   \n",
       "55           6.0            115.67  ...                      0.06   \n",
       "56           7.0            118.04  ...                      0.06   \n",
       "57           7.0            104.44  ...                      0.07   \n",
       "58           7.0            105.67  ...                      0.07   \n",
       "59           7.0            103.34  ...                      0.07   \n",
       "\n",
       "    dryBiomassKG  weightSmallStorageRootsKG  weightMediumStorageRootsKG  \\\n",
       "0           1.32                       1.25                        0.83   \n",
       "1           1.29                       1.33                        0.90   \n",
       "2           1.26                       1.44                        0.91   \n",
       "3           1.53                       2.07                        2.41   \n",
       "4           1.55                       2.17                        2.22   \n",
       "5           1.62                       2.11                        2.17   \n",
       "6           2.14                       3.31                        1.13   \n",
       "7           2.22                       3.51                        1.21   \n",
       "8           2.24                       3.38                        1.58   \n",
       "9           1.88                       3.11                        1.87   \n",
       "10          1.84                       3.21                        1.81   \n",
       "11          1.80                       3.35                        2.01   \n",
       "12          2.43                       1.97                        2.76   \n",
       "13          2.48                       2.04                        2.79   \n",
       "14          2.44                       2.11                        2.77   \n",
       "15          1.67                       3.41                        2.17   \n",
       "16          1.71                       3.50                        2.09   \n",
       "17          1.71                       3.30                        2.07   \n",
       "18          1.42                       1.78                        2.27   \n",
       "19          1.46                       1.97                        2.39   \n",
       "20          1.44                       2.01                        2.19   \n",
       "21          1.36                       2.35                        2.21   \n",
       "22          1.37                       2.22                        2.11   \n",
       "23          1.39                       2.27                        2.06   \n",
       "24          1.57                       1.11                        3.12   \n",
       "25          1.61                       1.03                        3.47   \n",
       "26          1.59                       1.17                        3.18   \n",
       "27          2.62                       2.56                        2.54   \n",
       "28          2.60                       2.79                        2.63   \n",
       "29          2.64                       2.69                        2.59   \n",
       "30          1.83                       2.55                        0.89   \n",
       "31          1.89                       2.54                        0.78   \n",
       "32          1.87                       2.61                        0.88   \n",
       "33          2.07                       3.21                        2.75   \n",
       "34          2.08                       3.33                        3.02   \n",
       "35          2.11                       3.27                        3.16   \n",
       "36          1.92                       3.11                        2.88   \n",
       "37          1.88                       3.07                        2.97   \n",
       "38          1.91                       3.01                        3.04   \n",
       "39          1.55                       3.39                        4.12   \n",
       "40          1.57                       3.41                        5.21   \n",
       "41          1.62                       3.44                        5.14   \n",
       "42          1.47                       2.68                        2.10   \n",
       "43          1.45                       2.64                        2.13   \n",
       "44          1.49                       2.63                        2.01   \n",
       "45          1.66                       2.97                        2.84   \n",
       "46          1.68                       2.93                        2.90   \n",
       "47          1.62                       2.87                        3.00   \n",
       "48          1.64                       3.42                        4.20   \n",
       "49          1.61                       3.40                        4.32   \n",
       "50          1.65                       3.39                        4.27   \n",
       "51          2.04                       3.01                        6.87   \n",
       "52          2.06                       4.06                        6.89   \n",
       "53          2.06                       4.09                        6.95   \n",
       "54          2.38                       4.19                        8.43   \n",
       "55          2.35                       4.26                        8.22   \n",
       "56          2.40                       4.27                        7.89   \n",
       "57          2.22                       4.79                        6.54   \n",
       "58          2.24                       4.89                        6.66   \n",
       "59          2.24                       4.93                        6.43   \n",
       "\n",
       "    weightBigStorageRootsKG  totalWeightStorageRootsKG  \\\n",
       "0                      0.83                       2.91   \n",
       "1                      0.74                       2.97   \n",
       "2                      0.66                       3.01   \n",
       "3                      1.07                       5.55   \n",
       "4                      1.12                       5.51   \n",
       "5                      1.29                       5.57   \n",
       "6                      1.69                       6.13   \n",
       "7                      1.49                       6.21   \n",
       "8                      1.22                       6.18   \n",
       "9                      1.55                       6.53   \n",
       "10                     1.48                       6.50   \n",
       "11                     1.20                       6.56   \n",
       "12                     1.57                       6.30   \n",
       "13                     1.37                       6.20   \n",
       "14                     2.02                       6.90   \n",
       "15                     1.57                       7.15   \n",
       "16                     1.46                       7.05   \n",
       "17                     1.81                       7.18   \n",
       "18                     1.93                       5.98   \n",
       "19                     1.53                       5.89   \n",
       "20                     1.80                       6.00   \n",
       "21                     0.57                       5.13   \n",
       "22                     0.85                       5.18   \n",
       "23                     0.90                       5.23   \n",
       "24                     1.78                       6.01   \n",
       "25                     1.61                       6.11   \n",
       "26                     1.80                       6.15   \n",
       "27                     2.60                       7.70   \n",
       "28                     2.45                       7.87   \n",
       "29                     2.50                       7.78   \n",
       "30                     0.33                       3.77   \n",
       "31                     0.50                       3.82   \n",
       "32                     0.24                       3.73   \n",
       "33                     2.70                       8.66   \n",
       "34                     2.49                       8.84   \n",
       "35                     2.45                       8.88   \n",
       "36                     2.25                       8.24   \n",
       "37                     2.22                       8.26   \n",
       "38                     2.16                       8.21   \n",
       "39                     3.48                      10.99   \n",
       "40                     2.27                      10.89   \n",
       "41                     2.44                      11.02   \n",
       "42                     0.90                       5.68   \n",
       "43                     0.80                       5.57   \n",
       "44                     0.86                       5.50   \n",
       "45                     2.97                       8.78   \n",
       "46                     3.05                       8.88   \n",
       "47                     3.05                       8.92   \n",
       "48                     2.41                      10.03   \n",
       "49                     2.40                      10.12   \n",
       "50                     2.52                      10.18   \n",
       "51                     4.10                      13.98   \n",
       "52                     2.95                      13.90   \n",
       "53                     2.85                      13.89   \n",
       "54                     4.53                      17.15   \n",
       "55                     4.56                      17.04   \n",
       "56                     5.10                      17.26   \n",
       "57                     4.78                      16.11   \n",
       "58                     4.42                      15.97   \n",
       "59                     4.92                      16.28   \n",
       "\n",
       "    weightMarketableStorageRootsKG  totalNumberStorageRoots  totalYield(T/ha)  \\\n",
       "0                             1.66                       31              4.85   \n",
       "1                             1.64                       24              4.95   \n",
       "2                             1.57                       30              5.02   \n",
       "3                             3.48                       39              9.25   \n",
       "4                             3.34                       27              9.18   \n",
       "5                             3.46                       30              9.28   \n",
       "6                             2.82                       40             10.22   \n",
       "7                             2.70                       32             10.35   \n",
       "8                             2.80                       25             10.30   \n",
       "9                             3.42                       31             10.88   \n",
       "10                            3.29                       29             10.83   \n",
       "11                            3.21                       25             10.93   \n",
       "12                            4.33                       32             10.50   \n",
       "13                            4.16                       30             10.33   \n",
       "14                            4.79                       29             11.50   \n",
       "15                            3.74                       37             11.92   \n",
       "16                            3.55                       42             11.75   \n",
       "17                            3.88                       47             11.97   \n",
       "18                            4.20                       36              9.97   \n",
       "19                            3.92                       41              9.82   \n",
       "20                            3.99                       49             10.00   \n",
       "21                            2.78                       30              8.55   \n",
       "22                            2.96                       26              8.63   \n",
       "23                            2.96                       28              8.72   \n",
       "24                            4.90                       33             10.02   \n",
       "25                            5.08                       31             10.18   \n",
       "26                            4.98                       38             10.25   \n",
       "27                            5.14                       38             12.83   \n",
       "28                            5.08                       38             13.12   \n",
       "29                            5.09                       40             12.97   \n",
       "30                            1.22                       28              6.28   \n",
       "31                            1.28                       29              6.37   \n",
       "32                            1.12                       29              6.22   \n",
       "33                            5.45                       28             14.43   \n",
       "34                            5.51                       30             14.73   \n",
       "35                            5.61                       31             14.80   \n",
       "36                            5.13                       24             13.73   \n",
       "37                            5.19                       19             13.77   \n",
       "38                            5.20                       24             13.68   \n",
       "39                            7.60                       42             18.32   \n",
       "40                            7.48                       44             18.15   \n",
       "41                            7.58                       44             18.37   \n",
       "42                            3.00                       39              9.47   \n",
       "43                            2.93                       33              9.28   \n",
       "44                            2.87                       35              9.17   \n",
       "45                            5.81                       49             14.63   \n",
       "46                            5.95                       41             14.80   \n",
       "47                            6.05                       38             14.87   \n",
       "48                            6.61                       51             16.72   \n",
       "49                            6.72                       53             16.87   \n",
       "50                            6.79                       52             16.97   \n",
       "51                           10.97                       45             23.30   \n",
       "52                            9.84                       46             23.17   \n",
       "53                            9.80                       49             23.15   \n",
       "54                           12.96                       42             28.58   \n",
       "55                           12.78                       45             28.40   \n",
       "56                           12.99                       47             28.77   \n",
       "57                           11.32                       57             26.85   \n",
       "58                           11.08                       65             26.62   \n",
       "59                           11.35                       69             27.13   \n",
       "\n",
       "    marketableYield  \n",
       "0              2.77  \n",
       "1              2.73  \n",
       "2              2.62  \n",
       "3              5.80  \n",
       "4              5.57  \n",
       "5              5.77  \n",
       "6              4.70  \n",
       "7              4.50  \n",
       "8              4.67  \n",
       "9              5.70  \n",
       "10             5.48  \n",
       "11             5.35  \n",
       "12             7.22  \n",
       "13             6.93  \n",
       "14             7.98  \n",
       "15             6.23  \n",
       "16             5.92  \n",
       "17             6.47  \n",
       "18             7.00  \n",
       "19             6.53  \n",
       "20             6.65  \n",
       "21             4.63  \n",
       "22             4.93  \n",
       "23             4.93  \n",
       "24             8.17  \n",
       "25             8.47  \n",
       "26             8.30  \n",
       "27             8.57  \n",
       "28             8.47  \n",
       "29             8.48  \n",
       "30             2.03  \n",
       "31             2.13  \n",
       "32             1.87  \n",
       "33             9.08  \n",
       "34             9.18  \n",
       "35             9.35  \n",
       "36             8.55  \n",
       "37             8.65  \n",
       "38             8.67  \n",
       "39            12.67  \n",
       "40            12.47  \n",
       "41            12.63  \n",
       "42             5.00  \n",
       "43             4.88  \n",
       "44             4.78  \n",
       "45             9.68  \n",
       "46             9.92  \n",
       "47            10.08  \n",
       "48            11.02  \n",
       "49            11.20  \n",
       "50            11.32  \n",
       "51            18.28  \n",
       "52            16.40  \n",
       "53            16.33  \n",
       "54            21.60  \n",
       "55            21.30  \n",
       "56            21.65  \n",
       "57            18.87  \n",
       "58            18.47  \n",
       "59            18.92  \n",
       "\n",
       "[60 rows x 22 columns]"
      ]
     },
     "execution_count": 17,
     "metadata": {},
     "output_type": "execute_result"
    }
   ],
   "source": [
    "df.head(60)"
   ]
  },
  {
   "cell_type": "code",
   "execution_count": 18,
   "id": "514f4740",
   "metadata": {},
   "outputs": [],
   "source": [
    "p1 = df[\"location\"].iloc[0:30]"
   ]
  },
  {
   "cell_type": "code",
   "execution_count": 19,
   "id": "d356631e",
   "metadata": {},
   "outputs": [],
   "source": [
    "p2 = df[\"marketableYield\"].iloc[0:30]"
   ]
  },
  {
   "cell_type": "code",
   "execution_count": 20,
   "id": "8c7fbe11",
   "metadata": {},
   "outputs": [],
   "source": [
    "p3 = df[\"location\"].iloc[30:60]"
   ]
  },
  {
   "cell_type": "code",
   "execution_count": 21,
   "id": "ccbc1196",
   "metadata": {},
   "outputs": [],
   "source": [
    "p4 = df[\"marketableYield\"].iloc[30:60]"
   ]
  },
  {
   "cell_type": "code",
   "execution_count": 22,
   "id": "8bd4ab9f",
   "metadata": {},
   "outputs": [
    {
     "name": "stderr",
     "output_type": "stream",
     "text": [
      "C:\\Users\\mojja\\AppData\\Local\\Temp\\ipykernel_13360\\1267291310.py:8: UserWarning: marker is redundantly defined by the 'marker' keyword argument and the fmt string \"*--\" (-> marker='*'). The keyword argument will take precedence.\n",
      "  plt.plot(df.reps.iloc[15:18], df.totalNumberStorageRoots.iloc[15:18], '*--',label = \"NPK6-15-28\", linewidth = 3, marker = 'o', markersize = '10')\n"
     ]
    },
    {
     "data": {
      "image/png": "[encoded data removed]",
      "text/plain": [
       "<Figure size 1080x504 with 1 Axes>"
      ]
     },
     "metadata": {
      "needs_background": "light"
     },
     "output_type": "display_data"
    },
    {
     "data": {
      "text/plain": [
       "<Figure size 432x288 with 0 Axes>"
      ]
     },
     "metadata": {},
     "output_type": "display_data"
    }
   ],
   "source": [
    "plt.figure(figsize = (15,7))\n",
    "\n",
    "plt.plot(df.reps.iloc[0:3], df.totalNumberStorageRoots.iloc[0:3], '*--', label = \"No fertilizer\")\n",
    "plt.plot(df.reps.iloc[3:6], df.totalNumberStorageRoots.iloc[3:6], '*--',label = \"Fast compost\")\n",
    "plt.plot(df.reps.iloc[6:9], df.totalNumberStorageRoots.iloc[6:9], '*--',label = \"NPK20-10-10\")\n",
    "plt.plot(df.reps.iloc[9:12], df.totalNumberStorageRoots.iloc[9:12], '*--',label = \"Poultry litter\")\n",
    "plt.plot(df.reps.iloc[12:15], df.totalNumberStorageRoots.iloc[12:15], '*--',label = \"Tithonia diversifolia powder\")\n",
    "plt.plot(df.reps.iloc[15:18], df.totalNumberStorageRoots.iloc[15:18], '*--',label = \"NPK6-15-28\", linewidth = 3, marker = 'o', markersize = '10')\n",
    "plt.plot(df.reps.iloc[21:24], df.totalNumberStorageRoots.iloc[21:24], '*--',label = \"Fast compost/NPK20-10-10\")\n",
    "plt.plot(df.reps.iloc[24:27], df.totalNumberStorageRoots.iloc[24:27], '*--',label = \"Poultry litter/NPK20-10-10\")\n",
    "plt.plot(df.reps.iloc[27:30], df.totalNumberStorageRoots.iloc[27:30], '*--', label = \"Rice husk biochar/NPK20-10-10\")\n",
    "plt.title('Fertilizers used and their effect on White Fleshed Sweet Potato in Cameroon', fontdict = {'fontsize' : 20})\n",
    "plt.xlabel('Reps', fontdict = {'fontsize' : 20})\n",
    "plt.ylabel('Total Number of Storage Roots', fontdict = {'fontsize' : 20})\n",
    "plt.legend(loc = 'center left', bbox_to_anchor = (1.0,0.5))\n",
    "plt.show()\n",
    "\n",
    "\n",
    "plt.savefig(\"WFSPgraph.png\")"
   ]
  },
  {
   "cell_type": "code",
   "execution_count": 23,
   "id": "4558b4bd",
   "metadata": {},
   "outputs": [
    {
     "data": {
      "image/png": "[encoded data removed]",
      "text/plain": [
       "<Figure size 1080x432 with 1 Axes>"
      ]
     },
     "metadata": {
      "needs_background": "light"
     },
     "output_type": "display_data"
    },
    {
     "data": {
      "text/plain": [
       "<Figure size 432x288 with 0 Axes>"
      ]
     },
     "metadata": {},
     "output_type": "display_data"
    }
   ],
   "source": [
    "plt.figure(figsize = (15,6))\n",
    "bars = plt.bar(df.reps.iloc[15:18], df.totalNumberStorageRoots.iloc[15:18], color = \"purple\")\n",
    "\n",
    "\n",
    "\n",
    "bars[2].set_hatch('*')\n",
    "\n",
    "\n",
    "\n",
    "plt.title('Best Peforming Fertilizer for the White Flesh Sweet Potato', fontdict = {'fontsize' : 20, 'fontname' : 'Times New Roman'})\n",
    "plt.xlabel('Reps', fontdict = {'fontsize' : 20})\n",
    "plt.ylabel('Total Number of Storage Roots', fontdict = {'fontsize' : 20})\n",
    "\n",
    "\n",
    "plt.show()\n",
    "\n",
    "plt.savefig(\"WFSPbar.png\")"
   ]
  },
  {
   "cell_type": "code",
   "execution_count": 24,
   "id": "a5c20662",
   "metadata": {
    "scrolled": false
   },
   "outputs": [
    {
     "name": "stderr",
     "output_type": "stream",
     "text": [
      "C:\\Users\\mojja\\AppData\\Local\\Temp\\ipykernel_13360\\2110643669.py:12: UserWarning: marker is redundantly defined by the 'marker' keyword argument and the fmt string \"*--\" (-> marker='*'). The keyword argument will take precedence.\n",
      "  plt.plot(df.reps.iloc[54:57], df.totalNumberStorageRoots.iloc[57:60], '*--', label = \"Rice husk biochar/NPK20-10-10\", linewidth = 3, marker = 'o', markersize = '10')\n"
     ]
    },
    {
     "data": {
      "image/png": "[encoded data removed]",
      "text/plain": [
       "<Figure size 1080x504 with 1 Axes>"
      ]
     },
     "metadata": {
      "needs_background": "light"
     },
     "output_type": "display_data"
    },
    {
     "data": {
      "text/plain": [
       "<Figure size 432x288 with 0 Axes>"
      ]
     },
     "metadata": {},
     "output_type": "display_data"
    }
   ],
   "source": [
    "plt.figure(figsize = (15,7))\n",
    "\n",
    "plt.plot(df.reps.iloc[30:33], df.totalNumberStorageRoots.iloc[30:33], '*--', label = \"No fertilizer\")\n",
    "plt.plot(df.reps.iloc[33:36], df.totalNumberStorageRoots.iloc[33:36], '*--',label = \"Fast compost\")\n",
    "plt.plot(df.reps.iloc[36:39], df.totalNumberStorageRoots.iloc[36:39], '*--',label = \"NPK20-10-10\")\n",
    "plt.plot(df.reps.iloc[39:42], df.totalNumberStorageRoots.iloc[39:42], '*--',label = \"Poultry litter\")\n",
    "plt.plot(df.reps.iloc[42:45], df.totalNumberStorageRoots.iloc[42:45], '*--',label = \"Tithonia diversifolia powder\")\n",
    "plt.plot(df.reps.iloc[45:48], df.totalNumberStorageRoots.iloc[45:48], '*--',label = \"NPK6-15-28\")\n",
    "plt.plot(df.reps.iloc[45:48], df.totalNumberStorageRoots.iloc[48:51], '*--',label = \"Rice husk biochar\")\n",
    "plt.plot(df.reps.iloc[48:51], df.totalNumberStorageRoots.iloc[51:54], '*--',label = \"Fast compost/NPK20-10-10\")\n",
    "plt.plot(df.reps.iloc[51:54], df.totalNumberStorageRoots.iloc[54:57], '*--',label = \"Poultry litter/NPK20-10-10\")\n",
    "plt.plot(df.reps.iloc[54:57], df.totalNumberStorageRoots.iloc[57:60], '*--', label = \"Rice husk biochar/NPK20-10-10\", linewidth = 3, marker = 'o', markersize = '10')\n",
    "plt.title('Fertilizers used and their effect on Orange Fleshed Sweet Potato in Cameroon', fontdict = {'fontsize' : 20})\n",
    "plt.xlabel('Reps', fontdict = {'fontsize' : 20})\n",
    "plt.ylabel('Total Number of Storage Roots', fontdict = {'fontsize' : 20})\n",
    "plt.legend(loc = 'center left', bbox_to_anchor = (1.0,0.5))\n",
    "plt.show()\n",
    "\n",
    "plt.savefig(\"OFSPgraph.png\")"
   ]
  },
  {
   "cell_type": "code",
   "execution_count": 25,
   "id": "50756e9b",
   "metadata": {},
   "outputs": [
    {
     "data": {
      "image/png": "[encoded data removed]",
      "text/plain": [
       "<Figure size 1080x432 with 1 Axes>"
      ]
     },
     "metadata": {
      "needs_background": "light"
     },
     "output_type": "display_data"
    },
    {
     "data": {
      "text/plain": [
       "<Figure size 432x288 with 0 Axes>"
      ]
     },
     "metadata": {},
     "output_type": "display_data"
    }
   ],
   "source": [
    "plt.figure(figsize = (15,6))\n",
    "bars = plt.bar(df.reps.iloc[54:57], df.totalNumberStorageRoots.iloc[57:60], color = \"maroon\")\n",
    "\n",
    "\n",
    "\n",
    "bars[2].set_hatch('O')\n",
    "\n",
    "\n",
    "\n",
    "plt.title('Best Peforming Fertilizer for the Orange Flesh Sweet Potato', fontdict = {'fontsize' : 20, 'fontname' : 'Times New Roman'})\n",
    "plt.xlabel('Reps', fontdict = {'fontsize' : 20})\n",
    "plt.ylabel('Total Number of Storage Roots', fontdict = {'fontsize' : 20})\n",
    "\n",
    "\n",
    "plt.show()\n",
    "\n",
    "plt.savefig(\"OFSPbar.png\")"
   ]
  },
  {
   "cell_type": "markdown",
   "id": "d2ae5ff1",
   "metadata": {},
   "source": [
    "# Getting rid of Noises in the dataset"
   ]
  },
  {
   "cell_type": "code",
   "execution_count": 26,
   "id": "7a12e13a",
   "metadata": {},
   "outputs": [],
   "source": [
    "df.drop([\"sweetPotato\", \"varietalDescription\", \"fertilizerRegime\", \"weightSmallStorageRootsKG\", \"weightMediumStorageRootsKG\", \"weightBigStorageRootsKG\"], axis = \"columns\", inplace = True)"
   ]
  },
  {
   "cell_type": "code",
   "execution_count": 27,
   "id": "eb360610",
   "metadata": {},
   "outputs": [
    {
     "data": {
      "text/html": [
       "<div>\n",
       "<style scoped>\n",
       "    .dataframe tbody tr th:only-of-type {\n",
       "        vertical-align: middle;\n",
       "    }\n",
       "\n",
       "    .dataframe tbody tr th {\n",
       "        vertical-align: top;\n",
       "    }\n",
       "\n",
       "    .dataframe thead th {\n",
       "        text-align: right;\n",
       "    }\n",
       "</style>\n",
       "<table border=\"1\" class=\"dataframe\">\n",
       "  <thead>\n",
       "    <tr style=\"text-align: right;\">\n",
       "      <th></th>\n",
       "      <th>location</th>\n",
       "      <th>soilType</th>\n",
       "      <th>varietalCode</th>\n",
       "      <th>fertilizerCode</th>\n",
       "      <th>reps</th>\n",
       "      <th>branchNumber</th>\n",
       "      <th>lengthMainStemCM</th>\n",
       "      <th>leafAreaIndex</th>\n",
       "      <th>petoileLength_CM</th>\n",
       "      <th>weightAdventitousRootsKG</th>\n",
       "      <th>dryBiomassKG</th>\n",
       "      <th>totalWeightStorageRootsKG</th>\n",
       "      <th>weightMarketableStorageRootsKG</th>\n",
       "      <th>totalNumberStorageRoots</th>\n",
       "      <th>totalYield(T/ha)</th>\n",
       "      <th>marketableYield</th>\n",
       "    </tr>\n",
       "  </thead>\n",
       "  <tbody>\n",
       "    <tr>\n",
       "      <th>0</th>\n",
       "      <td>Nkolbisson</td>\n",
       "      <td>Nitisol</td>\n",
       "      <td>1</td>\n",
       "      <td>Control</td>\n",
       "      <td>Rep1</td>\n",
       "      <td>2.0</td>\n",
       "      <td>300.06</td>\n",
       "      <td>1.99</td>\n",
       "      <td>28.04</td>\n",
       "      <td>0.18</td>\n",
       "      <td>1.32</td>\n",
       "      <td>2.91</td>\n",
       "      <td>1.66</td>\n",
       "      <td>31</td>\n",
       "      <td>4.85</td>\n",
       "      <td>2.77</td>\n",
       "    </tr>\n",
       "    <tr>\n",
       "      <th>1</th>\n",
       "      <td>Nkolbisson</td>\n",
       "      <td>Nitisol</td>\n",
       "      <td>1</td>\n",
       "      <td>Control</td>\n",
       "      <td>Rep2</td>\n",
       "      <td>2.0</td>\n",
       "      <td>304.20</td>\n",
       "      <td>2.00</td>\n",
       "      <td>28.02</td>\n",
       "      <td>0.18</td>\n",
       "      <td>1.29</td>\n",
       "      <td>2.97</td>\n",
       "      <td>1.64</td>\n",
       "      <td>24</td>\n",
       "      <td>4.95</td>\n",
       "      <td>2.73</td>\n",
       "    </tr>\n",
       "    <tr>\n",
       "      <th>2</th>\n",
       "      <td>Nkolbisson</td>\n",
       "      <td>Nitisol</td>\n",
       "      <td>1</td>\n",
       "      <td>Control</td>\n",
       "      <td>Rep3</td>\n",
       "      <td>2.5</td>\n",
       "      <td>303.04</td>\n",
       "      <td>2.00</td>\n",
       "      <td>28.01</td>\n",
       "      <td>0.18</td>\n",
       "      <td>1.26</td>\n",
       "      <td>3.01</td>\n",
       "      <td>1.57</td>\n",
       "      <td>30</td>\n",
       "      <td>5.02</td>\n",
       "      <td>2.62</td>\n",
       "    </tr>\n",
       "    <tr>\n",
       "      <th>3</th>\n",
       "      <td>Nkolbisson</td>\n",
       "      <td>Nitisol</td>\n",
       "      <td>1</td>\n",
       "      <td>FC</td>\n",
       "      <td>Rep1</td>\n",
       "      <td>3.0</td>\n",
       "      <td>185.67</td>\n",
       "      <td>4.45</td>\n",
       "      <td>31.91</td>\n",
       "      <td>0.12</td>\n",
       "      <td>1.53</td>\n",
       "      <td>5.55</td>\n",
       "      <td>3.48</td>\n",
       "      <td>39</td>\n",
       "      <td>9.25</td>\n",
       "      <td>5.80</td>\n",
       "    </tr>\n",
       "    <tr>\n",
       "      <th>4</th>\n",
       "      <td>Nkolbisson</td>\n",
       "      <td>Nitisol</td>\n",
       "      <td>1</td>\n",
       "      <td>FC</td>\n",
       "      <td>Rep2</td>\n",
       "      <td>3.0</td>\n",
       "      <td>187.20</td>\n",
       "      <td>4.29</td>\n",
       "      <td>31.88</td>\n",
       "      <td>0.12</td>\n",
       "      <td>1.55</td>\n",
       "      <td>5.51</td>\n",
       "      <td>3.34</td>\n",
       "      <td>27</td>\n",
       "      <td>9.18</td>\n",
       "      <td>5.57</td>\n",
       "    </tr>\n",
       "  </tbody>\n",
       "</table>\n",
       "</div>"
      ],
      "text/plain": [
       "     location soilType  varietalCode fertilizerCode  reps  branchNumber  \\\n",
       "0  Nkolbisson  Nitisol             1        Control  Rep1           2.0   \n",
       "1  Nkolbisson  Nitisol             1        Control  Rep2           2.0   \n",
       "2  Nkolbisson  Nitisol             1        Control  Rep3           2.5   \n",
       "3  Nkolbisson  Nitisol             1             FC  Rep1           3.0   \n",
       "4  Nkolbisson  Nitisol             1             FC  Rep2           3.0   \n",
       "\n",
       "   lengthMainStemCM  leafAreaIndex  petoileLength_CM  \\\n",
       "0            300.06           1.99             28.04   \n",
       "1            304.20           2.00             28.02   \n",
       "2            303.04           2.00             28.01   \n",
       "3            185.67           4.45             31.91   \n",
       "4            187.20           4.29             31.88   \n",
       "\n",
       "   weightAdventitousRootsKG  dryBiomassKG  totalWeightStorageRootsKG  \\\n",
       "0                      0.18          1.32                       2.91   \n",
       "1                      0.18          1.29                       2.97   \n",
       "2                      0.18          1.26                       3.01   \n",
       "3                      0.12          1.53                       5.55   \n",
       "4                      0.12          1.55                       5.51   \n",
       "\n",
       "   weightMarketableStorageRootsKG  totalNumberStorageRoots  totalYield(T/ha)  \\\n",
       "0                            1.66                       31              4.85   \n",
       "1                            1.64                       24              4.95   \n",
       "2                            1.57                       30              5.02   \n",
       "3                            3.48                       39              9.25   \n",
       "4                            3.34                       27              9.18   \n",
       "\n",
       "   marketableYield  \n",
       "0             2.77  \n",
       "1             2.73  \n",
       "2             2.62  \n",
       "3             5.80  \n",
       "4             5.57  "
      ]
     },
     "execution_count": 27,
     "metadata": {},
     "output_type": "execute_result"
    }
   ],
   "source": [
    "df.head()"
   ]
  },
  {
   "cell_type": "code",
   "execution_count": 28,
   "id": "34e9a80f",
   "metadata": {},
   "outputs": [
    {
     "name": "stdout",
     "output_type": "stream",
     "text": [
      "The rows and columns in the dataset are (120, 16) respectively.\n"
     ]
    }
   ],
   "source": [
    "print(f\"The rows and columns in the dataset are {df.shape} respectively.\")"
   ]
  },
  {
   "cell_type": "code",
   "execution_count": 29,
   "id": "a213a6dc",
   "metadata": {},
   "outputs": [
    {
     "name": "stdout",
     "output_type": "stream",
     "text": [
      "<class 'pandas.core.frame.DataFrame'>\n",
      "RangeIndex: 120 entries, 0 to 119\n",
      "Data columns (total 16 columns):\n",
      " #   Column                          Non-Null Count  Dtype  \n",
      "---  ------                          --------------  -----  \n",
      " 0   location                        120 non-null    object \n",
      " 1   soilType                        120 non-null    object \n",
      " 2   varietalCode                    120 non-null    int64  \n",
      " 3   fertilizerCode                  120 non-null    object \n",
      " 4   reps                            120 non-null    object \n",
      " 5   branchNumber                    120 non-null    float64\n",
      " 6   lengthMainStemCM                120 non-null    float64\n",
      " 7   leafAreaIndex                   120 non-null    float64\n",
      " 8   petoileLength_CM                120 non-null    float64\n",
      " 9   weightAdventitousRootsKG        120 non-null    float64\n",
      " 10  dryBiomassKG                    120 non-null    float64\n",
      " 11  totalWeightStorageRootsKG       120 non-null    float64\n",
      " 12  weightMarketableStorageRootsKG  120 non-null    float64\n",
      " 13  totalNumberStorageRoots         120 non-null    int64  \n",
      " 14  totalYield(T/ha)                120 non-null    float64\n",
      " 15  marketableYield                 120 non-null    float64\n",
      "dtypes: float64(10), int64(2), object(4)\n",
      "memory usage: 15.1+ KB\n"
     ]
    }
   ],
   "source": [
    "df.info()"
   ]
  },
  {
   "cell_type": "code",
   "execution_count": 30,
   "id": "beaaf8ab",
   "metadata": {
    "scrolled": true
   },
   "outputs": [
    {
     "data": {
      "text/plain": [
       "array(['Control', 'FC', 'NPK20-10-10', 'PL', 'Tithonia', 'NPK6-15-28',\n",
       "       'RHB', 'FC/NPK20-10-10', 'PL/NPK20-10-10', 'RHB/NPK20-10-10'],\n",
       "      dtype=object)"
      ]
     },
     "execution_count": 30,
     "metadata": {},
     "output_type": "execute_result"
    }
   ],
   "source": [
    "df[\"fertilizerCode\"].unique()"
   ]
  },
  {
   "cell_type": "markdown",
   "id": "5b897c75",
   "metadata": {},
   "source": [
    "# Data PreProcessing\n",
    "#### Converting catergorical Features to Numerical data using Replace method and Label Encoder"
   ]
  },
  {
   "cell_type": "code",
   "execution_count": 31,
   "id": "56e62081",
   "metadata": {},
   "outputs": [],
   "source": [
    "df[\"location\"] = df[\"location\"].replace({\"Nkolbisson\": 1, \"Njombe\": 0})"
   ]
  },
  {
   "cell_type": "code",
   "execution_count": 32,
   "id": "f2d6d710",
   "metadata": {},
   "outputs": [],
   "source": [
    "df[\"soilType\"] = df[\"soilType\"].replace({\"Nitisol\": 1, \"Andosol\": 0})"
   ]
  },
  {
   "cell_type": "code",
   "execution_count": 33,
   "id": "82c1d831",
   "metadata": {},
   "outputs": [],
   "source": [
    "df[\"varietalCode\"] = df[\"varietalCode\"].replace({2: 1, 1: 0})"
   ]
  },
  {
   "cell_type": "code",
   "execution_count": 34,
   "id": "8eaff377",
   "metadata": {},
   "outputs": [],
   "source": [
    "df[\"fertilizerCode\"] = le.fit_transform(df[\"fertilizerCode\"])"
   ]
  },
  {
   "cell_type": "code",
   "execution_count": 35,
   "id": "dc7db829",
   "metadata": {},
   "outputs": [],
   "source": [
    "df[\"reps\"] = le.fit_transform(df[\"reps\"])"
   ]
  },
  {
   "cell_type": "code",
   "execution_count": 36,
   "id": "918f3725",
   "metadata": {},
   "outputs": [
    {
     "name": "stdout",
     "output_type": "stream",
     "text": [
      "<class 'pandas.core.frame.DataFrame'>\n",
      "RangeIndex: 120 entries, 0 to 119\n",
      "Data columns (total 16 columns):\n",
      " #   Column                          Non-Null Count  Dtype  \n",
      "---  ------                          --------------  -----  \n",
      " 0   location                        120 non-null    int64  \n",
      " 1   soilType                        120 non-null    int64  \n",
      " 2   varietalCode                    120 non-null    int64  \n",
      " 3   fertilizerCode                  120 non-null    int32  \n",
      " 4   reps                            120 non-null    int32  \n",
      " 5   branchNumber                    120 non-null    float64\n",
      " 6   lengthMainStemCM                120 non-null    float64\n",
      " 7   leafAreaIndex                   120 non-null    float64\n",
      " 8   petoileLength_CM                120 non-null    float64\n",
      " 9   weightAdventitousRootsKG        120 non-null    float64\n",
      " 10  dryBiomassKG                    120 non-null    float64\n",
      " 11  totalWeightStorageRootsKG       120 non-null    float64\n",
      " 12  weightMarketableStorageRootsKG  120 non-null    float64\n",
      " 13  totalNumberStorageRoots         120 non-null    int64  \n",
      " 14  totalYield(T/ha)                120 non-null    float64\n",
      " 15  marketableYield                 120 non-null    float64\n",
      "dtypes: float64(10), int32(2), int64(4)\n",
      "memory usage: 14.2 KB\n"
     ]
    }
   ],
   "source": [
    "df.info()"
   ]
  },
  {
   "cell_type": "code",
   "execution_count": 37,
   "id": "9e557b76",
   "metadata": {},
   "outputs": [
    {
     "data": {
      "text/html": [
       "<div>\n",
       "<style scoped>\n",
       "    .dataframe tbody tr th:only-of-type {\n",
       "        vertical-align: middle;\n",
       "    }\n",
       "\n",
       "    .dataframe tbody tr th {\n",
       "        vertical-align: top;\n",
       "    }\n",
       "\n",
       "    .dataframe thead th {\n",
       "        text-align: right;\n",
       "    }\n",
       "</style>\n",
       "<table border=\"1\" class=\"dataframe\">\n",
       "  <thead>\n",
       "    <tr style=\"text-align: right;\">\n",
       "      <th></th>\n",
       "      <th>location</th>\n",
       "      <th>soilType</th>\n",
       "      <th>varietalCode</th>\n",
       "      <th>fertilizerCode</th>\n",
       "      <th>reps</th>\n",
       "      <th>branchNumber</th>\n",
       "      <th>lengthMainStemCM</th>\n",
       "      <th>leafAreaIndex</th>\n",
       "      <th>petoileLength_CM</th>\n",
       "      <th>weightAdventitousRootsKG</th>\n",
       "      <th>dryBiomassKG</th>\n",
       "      <th>totalWeightStorageRootsKG</th>\n",
       "      <th>weightMarketableStorageRootsKG</th>\n",
       "      <th>totalNumberStorageRoots</th>\n",
       "      <th>totalYield(T/ha)</th>\n",
       "      <th>marketableYield</th>\n",
       "    </tr>\n",
       "  </thead>\n",
       "  <tbody>\n",
       "    <tr>\n",
       "      <th>0</th>\n",
       "      <td>1</td>\n",
       "      <td>1</td>\n",
       "      <td>0</td>\n",
       "      <td>0</td>\n",
       "      <td>0</td>\n",
       "      <td>2.0</td>\n",
       "      <td>300.06</td>\n",
       "      <td>1.99</td>\n",
       "      <td>28.04</td>\n",
       "      <td>0.18</td>\n",
       "      <td>1.32</td>\n",
       "      <td>2.91</td>\n",
       "      <td>1.66</td>\n",
       "      <td>31</td>\n",
       "      <td>4.85</td>\n",
       "      <td>2.77</td>\n",
       "    </tr>\n",
       "    <tr>\n",
       "      <th>1</th>\n",
       "      <td>1</td>\n",
       "      <td>1</td>\n",
       "      <td>0</td>\n",
       "      <td>0</td>\n",
       "      <td>1</td>\n",
       "      <td>2.0</td>\n",
       "      <td>304.20</td>\n",
       "      <td>2.00</td>\n",
       "      <td>28.02</td>\n",
       "      <td>0.18</td>\n",
       "      <td>1.29</td>\n",
       "      <td>2.97</td>\n",
       "      <td>1.64</td>\n",
       "      <td>24</td>\n",
       "      <td>4.95</td>\n",
       "      <td>2.73</td>\n",
       "    </tr>\n",
       "  </tbody>\n",
       "</table>\n",
       "</div>"
      ],
      "text/plain": [
       "   location  soilType  varietalCode  fertilizerCode  reps  branchNumber  \\\n",
       "0         1         1             0               0     0           2.0   \n",
       "1         1         1             0               0     1           2.0   \n",
       "\n",
       "   lengthMainStemCM  leafAreaIndex  petoileLength_CM  \\\n",
       "0            300.06           1.99             28.04   \n",
       "1            304.20           2.00             28.02   \n",
       "\n",
       "   weightAdventitousRootsKG  dryBiomassKG  totalWeightStorageRootsKG  \\\n",
       "0                      0.18          1.32                       2.91   \n",
       "1                      0.18          1.29                       2.97   \n",
       "\n",
       "   weightMarketableStorageRootsKG  totalNumberStorageRoots  totalYield(T/ha)  \\\n",
       "0                            1.66                       31              4.85   \n",
       "1                            1.64                       24              4.95   \n",
       "\n",
       "   marketableYield  \n",
       "0             2.77  \n",
       "1             2.73  "
      ]
     },
     "execution_count": 37,
     "metadata": {},
     "output_type": "execute_result"
    }
   ],
   "source": [
    "df.head(2)"
   ]
  },
  {
   "cell_type": "markdown",
   "id": "83b32e68",
   "metadata": {},
   "source": [
    "# Splitting the dataset for training and prediction"
   ]
  },
  {
   "cell_type": "code",
   "execution_count": 38,
   "id": "3c2caa53",
   "metadata": {},
   "outputs": [],
   "source": [
    "X = df.drop([\"marketableYield\", \"totalYield(T/ha)\"\n",
    "], axis = \"columns\")"
   ]
  },
  {
   "cell_type": "code",
   "execution_count": 39,
   "id": "379378be",
   "metadata": {},
   "outputs": [],
   "source": [
    "y = df[\"marketableYield\"]"
   ]
  },
  {
   "cell_type": "code",
   "execution_count": 40,
   "id": "5ca0f044",
   "metadata": {},
   "outputs": [],
   "source": [
    "X_train, X_test, y_train, y_test = train_test_split(X, y, test_size = 0.3, random_state = 1234)"
   ]
  },
  {
   "cell_type": "markdown",
   "id": "950badd2",
   "metadata": {},
   "source": [
    "# Fitting the data set"
   ]
  },
  {
   "cell_type": "markdown",
   "id": "7f16987f",
   "metadata": {},
   "source": [
    "## LinearRegression"
   ]
  },
  {
   "cell_type": "code",
   "execution_count": 41,
   "id": "cc7e4975",
   "metadata": {},
   "outputs": [],
   "source": [
    "log = LinearRegression()"
   ]
  },
  {
   "cell_type": "code",
   "execution_count": 42,
   "id": "f52a2a96",
   "metadata": {},
   "outputs": [
    {
     "data": {
      "text/plain": [
       "LinearRegression()"
      ]
     },
     "execution_count": 42,
     "metadata": {},
     "output_type": "execute_result"
    }
   ],
   "source": [
    "log.fit(X_train, y_train)"
   ]
  },
  {
   "cell_type": "code",
   "execution_count": 43,
   "id": "ce764a28",
   "metadata": {},
   "outputs": [],
   "source": [
    "logFit = log.fit(X_train, y_train)"
   ]
  },
  {
   "cell_type": "code",
   "execution_count": 44,
   "id": "88ba84bc",
   "metadata": {
    "scrolled": true
   },
   "outputs": [
    {
     "data": {
      "text/plain": [
       "array([18.28257437, 21.59809084, 11.01640824,  9.00022581, 11.49924929,\n",
       "        8.33449961,  8.56641175, 12.99891914,  9.83435872, 16.83629637,\n",
       "        4.93110546,  4.66575177,  4.69984531,  1.86652872,  8.5003905 ,\n",
       "       10.83138142,  7.6647073 ,  8.48324645, 16.83519756, 26.99786654,\n",
       "       24.33390871, 21.29799634,  4.99713363,  2.73789633, 17.66779693,\n",
       "       18.91616771,  5.69950256, 13.33359317,  9.34767787, 15.33259821,\n",
       "       12.46681621,  9.33017964,  6.46839625, 26.49925119, 18.86538991,\n",
       "        8.66678648])"
      ]
     },
     "execution_count": 44,
     "metadata": {},
     "output_type": "execute_result"
    }
   ],
   "source": [
    "log.predict(X_test)"
   ]
  },
  {
   "cell_type": "code",
   "execution_count": 45,
   "id": "3a0bff3e",
   "metadata": {},
   "outputs": [],
   "source": [
    "logPred = log.predict(X_test)"
   ]
  },
  {
   "cell_type": "markdown",
   "id": "7ada02a5",
   "metadata": {},
   "source": [
    "### Evaluation"
   ]
  },
  {
   "cell_type": "code",
   "execution_count": 46,
   "id": "ce0438f6",
   "metadata": {},
   "outputs": [
    {
     "data": {
      "text/plain": [
       "0.0027988434620265603"
      ]
     },
     "execution_count": 46,
     "metadata": {},
     "output_type": "execute_result"
    }
   ],
   "source": [
    "mean_absolute_error(y_test, logPred)"
   ]
  },
  {
   "cell_type": "code",
   "execution_count": 47,
   "id": "c3ae629e",
   "metadata": {
    "scrolled": false
   },
   "outputs": [
    {
     "data": {
      "text/plain": [
       "1.1106285946288163e-05"
      ]
     },
     "execution_count": 47,
     "metadata": {},
     "output_type": "execute_result"
    }
   ],
   "source": [
    "mean_squared_error(y_test, logPred)"
   ]
  },
  {
   "cell_type": "code",
   "execution_count": null,
   "id": "bc1584ae",
   "metadata": {},
   "outputs": [],
   "source": []
  },
  {
   "cell_type": "markdown",
   "id": "3d311464",
   "metadata": {},
   "source": [
    "## GammaRegressor"
   ]
  },
  {
   "cell_type": "code",
   "execution_count": 48,
   "id": "2baac1b9",
   "metadata": {},
   "outputs": [],
   "source": [
    "gamma = GammaRegressor()"
   ]
  },
  {
   "cell_type": "code",
   "execution_count": 49,
   "id": "ac42251a",
   "metadata": {},
   "outputs": [
    {
     "name": "stderr",
     "output_type": "stream",
     "text": [
      "C:\\Users\\mojja\\anaconda3\\lib\\site-packages\\sklearn\\linear_model\\_glm\\glm.py:323: ConvergenceWarning: lbfgs failed to converge (status=1):\n",
      "STOP: TOTAL NO. of ITERATIONS REACHED LIMIT.\n",
      "\n",
      "Increase the number of iterations (max_iter) or scale the data as shown in:\n",
      "    https://scikit-learn.org/stable/modules/preprocessing.html\n",
      "  self.n_iter_ = _check_optimize_result(\"lbfgs\", opt_res)\n"
     ]
    }
   ],
   "source": [
    "gammaFit = gamma.fit(X_train, y_train)"
   ]
  },
  {
   "cell_type": "code",
   "execution_count": 50,
   "id": "9583bcaf",
   "metadata": {},
   "outputs": [
    {
     "name": "stderr",
     "output_type": "stream",
     "text": [
      "C:\\Users\\mojja\\anaconda3\\lib\\site-packages\\sklearn\\linear_model\\_glm\\glm.py:323: ConvergenceWarning: lbfgs failed to converge (status=1):\n",
      "STOP: TOTAL NO. of ITERATIONS REACHED LIMIT.\n",
      "\n",
      "Increase the number of iterations (max_iter) or scale the data as shown in:\n",
      "    https://scikit-learn.org/stable/modules/preprocessing.html\n",
      "  self.n_iter_ = _check_optimize_result(\"lbfgs\", opt_res)\n"
     ]
    },
    {
     "data": {
      "text/plain": [
       "GammaRegressor()"
      ]
     },
     "execution_count": 50,
     "metadata": {},
     "output_type": "execute_result"
    }
   ],
   "source": [
    "gamma.fit(X_train, y_train)"
   ]
  },
  {
   "cell_type": "code",
   "execution_count": 51,
   "id": "b6a57d89",
   "metadata": {},
   "outputs": [],
   "source": [
    "gammaPred = gamma.predict(X_test)"
   ]
  },
  {
   "cell_type": "code",
   "execution_count": 52,
   "id": "4c0d8835",
   "metadata": {},
   "outputs": [
    {
     "data": {
      "text/plain": [
       "array([16.43041318, 22.69579082, 11.07595074,  8.89734376, 11.84708999,\n",
       "        7.45134989,  7.93376985, 11.35912746,  8.76121148, 14.52535315,\n",
       "        5.51254058,  5.68596688,  5.75930234,  4.41777736,  8.43456679,\n",
       "       10.98548545,  7.71383512,  7.70360057, 13.90549802, 33.57628483,\n",
       "       29.30026389, 21.50447153,  7.37558218,  3.99810858, 16.92489973,\n",
       "       20.34641765,  6.41286392, 12.39988661,  8.81164594, 14.25121788,\n",
       "       11.44421503,  8.10788341,  6.47553238, 32.19078528, 20.05937912,\n",
       "        8.03071115])"
      ]
     },
     "execution_count": 52,
     "metadata": {},
     "output_type": "execute_result"
    }
   ],
   "source": [
    "gamma.predict(X_test)"
   ]
  },
  {
   "cell_type": "markdown",
   "id": "08316b0d",
   "metadata": {},
   "source": [
    "### Evaluation"
   ]
  },
  {
   "cell_type": "code",
   "execution_count": 53,
   "id": "7eb73269",
   "metadata": {},
   "outputs": [
    {
     "data": {
      "text/plain": [
       "1.3819648535860174"
      ]
     },
     "execution_count": 53,
     "metadata": {},
     "output_type": "execute_result"
    }
   ],
   "source": [
    "mean_absolute_error(y_test, gammaPred)"
   ]
  },
  {
   "cell_type": "code",
   "execution_count": 54,
   "id": "412b5463",
   "metadata": {},
   "outputs": [
    {
     "data": {
      "text/plain": [
       "4.185134014132596"
      ]
     },
     "execution_count": 54,
     "metadata": {},
     "output_type": "execute_result"
    }
   ],
   "source": [
    "mean_squared_error(y_test, gammaPred)"
   ]
  },
  {
   "cell_type": "code",
   "execution_count": null,
   "id": "f7c93ae7",
   "metadata": {},
   "outputs": [],
   "source": []
  },
  {
   "cell_type": "markdown",
   "id": "0003b7b9",
   "metadata": {},
   "source": [
    " ## HuberRegressor"
   ]
  },
  {
   "cell_type": "code",
   "execution_count": 55,
   "id": "abc618a6",
   "metadata": {},
   "outputs": [],
   "source": [
    "huber = HuberRegressor()"
   ]
  },
  {
   "cell_type": "code",
   "execution_count": 56,
   "id": "644b21e8",
   "metadata": {
    "scrolled": true
   },
   "outputs": [
    {
     "name": "stderr",
     "output_type": "stream",
     "text": [
      "C:\\Users\\mojja\\anaconda3\\lib\\site-packages\\sklearn\\linear_model\\_huber.py:332: ConvergenceWarning: lbfgs failed to converge (status=1):\n",
      "STOP: TOTAL NO. of ITERATIONS REACHED LIMIT.\n",
      "\n",
      "Increase the number of iterations (max_iter) or scale the data as shown in:\n",
      "    https://scikit-learn.org/stable/modules/preprocessing.html\n",
      "  self.n_iter_ = _check_optimize_result(\"lbfgs\", opt_res, self.max_iter)\n"
     ]
    }
   ],
   "source": [
    "huberFit = huber.fit(X_train, y_train)"
   ]
  },
  {
   "cell_type": "code",
   "execution_count": 57,
   "id": "967e3557",
   "metadata": {},
   "outputs": [
    {
     "name": "stderr",
     "output_type": "stream",
     "text": [
      "C:\\Users\\mojja\\anaconda3\\lib\\site-packages\\sklearn\\linear_model\\_huber.py:332: ConvergenceWarning: lbfgs failed to converge (status=1):\n",
      "STOP: TOTAL NO. of ITERATIONS REACHED LIMIT.\n",
      "\n",
      "Increase the number of iterations (max_iter) or scale the data as shown in:\n",
      "    https://scikit-learn.org/stable/modules/preprocessing.html\n",
      "  self.n_iter_ = _check_optimize_result(\"lbfgs\", opt_res, self.max_iter)\n"
     ]
    },
    {
     "data": {
      "text/plain": [
       "HuberRegressor()"
      ]
     },
     "execution_count": 57,
     "metadata": {},
     "output_type": "execute_result"
    }
   ],
   "source": [
    "huber.fit(X_train, y_train)"
   ]
  },
  {
   "cell_type": "code",
   "execution_count": 58,
   "id": "015921ed",
   "metadata": {},
   "outputs": [],
   "source": [
    "huberPred = huber.predict(X_test)"
   ]
  },
  {
   "cell_type": "code",
   "execution_count": 59,
   "id": "8f9370be",
   "metadata": {},
   "outputs": [
    {
     "data": {
      "text/plain": [
       "array([18.21801391, 21.50932836, 10.9448451 ,  8.96153862, 11.52428952,\n",
       "        8.42581242,  8.49182239, 13.12216337,  9.80597944, 16.89447705,\n",
       "        4.93450151,  4.70239275,  4.67781596,  2.09125401,  8.54540743,\n",
       "       10.8246946 ,  7.70214127,  8.48629269, 16.91384118, 26.94432838,\n",
       "       24.29406023, 21.27482853,  4.93460339,  2.7267311 , 17.62624354,\n",
       "       18.87236293,  5.60956778, 13.32990082,  9.39238702, 15.30891964,\n",
       "       12.43588933,  9.4473065 ,  6.46178349, 26.50836656, 18.78069202,\n",
       "        8.56723615])"
      ]
     },
     "execution_count": 59,
     "metadata": {},
     "output_type": "execute_result"
    }
   ],
   "source": [
    "huber.predict(X_test)"
   ]
  },
  {
   "cell_type": "markdown",
   "id": "dd909487",
   "metadata": {},
   "source": [
    "### Evaluation"
   ]
  },
  {
   "cell_type": "code",
   "execution_count": 60,
   "id": "fb366f99",
   "metadata": {},
   "outputs": [
    {
     "data": {
      "text/plain": [
       "0.0533179884786705"
      ]
     },
     "execution_count": 60,
     "metadata": {},
     "output_type": "execute_result"
    }
   ],
   "source": [
    "mean_absolute_error(y_test, huberPred)"
   ]
  },
  {
   "cell_type": "code",
   "execution_count": 61,
   "id": "8fd461ac",
   "metadata": {},
   "outputs": [
    {
     "data": {
      "text/plain": [
       "0.00480420044611966"
      ]
     },
     "execution_count": 61,
     "metadata": {},
     "output_type": "execute_result"
    }
   ],
   "source": [
    "mean_squared_error(y_test, huberPred)"
   ]
  },
  {
   "cell_type": "code",
   "execution_count": null,
   "id": "614be183",
   "metadata": {},
   "outputs": [],
   "source": []
  },
  {
   "cell_type": "markdown",
   "id": "ebd01a84",
   "metadata": {},
   "source": [
    "## PassiveAggressiveRegressor"
   ]
  },
  {
   "cell_type": "code",
   "execution_count": 62,
   "id": "2f53aea2",
   "metadata": {},
   "outputs": [],
   "source": [
    "passive = PassiveAggressiveRegressor()"
   ]
  },
  {
   "cell_type": "code",
   "execution_count": 63,
   "id": "01ce087a",
   "metadata": {},
   "outputs": [],
   "source": [
    "passiveFit = passive.fit(X_train, y_train)"
   ]
  },
  {
   "cell_type": "code",
   "execution_count": 64,
   "id": "5a177740",
   "metadata": {
    "scrolled": true
   },
   "outputs": [
    {
     "data": {
      "text/plain": [
       "PassiveAggressiveRegressor()"
      ]
     },
     "execution_count": 64,
     "metadata": {},
     "output_type": "execute_result"
    }
   ],
   "source": [
    "passive.fit(X_train, y_train)"
   ]
  },
  {
   "cell_type": "code",
   "execution_count": 65,
   "id": "9ee6013d",
   "metadata": {},
   "outputs": [],
   "source": [
    "passivePred = passive.predict(X_test)"
   ]
  },
  {
   "cell_type": "code",
   "execution_count": 66,
   "id": "fd80ec6b",
   "metadata": {},
   "outputs": [
    {
     "data": {
      "text/plain": [
       "array([18.07153011, 21.92694648, 11.94445815,  9.46075727, 11.29510622,\n",
       "        8.15676419,  8.82466662, 12.9922236 , 10.03472669, 15.91390074,\n",
       "        5.25227231,  5.97210411,  5.7723609 ,  2.93361356,  9.20710067,\n",
       "       10.87792747,  9.22679564,  8.69825077, 16.19327546, 26.31740995,\n",
       "       24.05386658, 21.52537373,  6.14881712,  1.98021539, 17.45847502,\n",
       "       19.90421696,  6.63605336, 13.56011289, 10.42300495, 15.33788296,\n",
       "       13.17268335,  9.15687393,  7.14678594, 25.55242546, 19.87934388,\n",
       "        8.83563185])"
      ]
     },
     "execution_count": 66,
     "metadata": {},
     "output_type": "execute_result"
    }
   ],
   "source": [
    "passive.predict(X_test)"
   ]
  },
  {
   "cell_type": "markdown",
   "id": "bfd7d704",
   "metadata": {},
   "source": [
    "### Evaluation"
   ]
  },
  {
   "cell_type": "code",
   "execution_count": 67,
   "id": "2e30a0be",
   "metadata": {},
   "outputs": [
    {
     "data": {
      "text/plain": [
       "0.5780505826312443"
      ]
     },
     "execution_count": 67,
     "metadata": {},
     "output_type": "execute_result"
    }
   ],
   "source": [
    "mean_absolute_error(y_test, passivePred)"
   ]
  },
  {
   "cell_type": "code",
   "execution_count": 68,
   "id": "fe75cdfa",
   "metadata": {},
   "outputs": [
    {
     "data": {
      "text/plain": [
       "0.5052677435055102"
      ]
     },
     "execution_count": 68,
     "metadata": {},
     "output_type": "execute_result"
    }
   ],
   "source": [
    "mean_squared_error(y_test, passivePred)"
   ]
  },
  {
   "cell_type": "code",
   "execution_count": null,
   "id": "b58e4ede",
   "metadata": {},
   "outputs": [],
   "source": []
  },
  {
   "cell_type": "markdown",
   "id": "6e8b7f03",
   "metadata": {},
   "source": [
    "## PoissonRegressor"
   ]
  },
  {
   "cell_type": "code",
   "execution_count": 69,
   "id": "ca48826f",
   "metadata": {},
   "outputs": [],
   "source": [
    "poison = PoissonRegressor()"
   ]
  },
  {
   "cell_type": "code",
   "execution_count": 70,
   "id": "e49811fe",
   "metadata": {},
   "outputs": [
    {
     "name": "stderr",
     "output_type": "stream",
     "text": [
      "C:\\Users\\mojja\\anaconda3\\lib\\site-packages\\sklearn\\linear_model\\_glm\\glm.py:323: ConvergenceWarning: lbfgs failed to converge (status=1):\n",
      "STOP: TOTAL NO. of ITERATIONS REACHED LIMIT.\n",
      "\n",
      "Increase the number of iterations (max_iter) or scale the data as shown in:\n",
      "    https://scikit-learn.org/stable/modules/preprocessing.html\n",
      "  self.n_iter_ = _check_optimize_result(\"lbfgs\", opt_res)\n"
     ]
    }
   ],
   "source": [
    "poisonFit = poison.fit(X_train, y_train)"
   ]
  },
  {
   "cell_type": "code",
   "execution_count": 71,
   "id": "82ef1528",
   "metadata": {},
   "outputs": [
    {
     "name": "stderr",
     "output_type": "stream",
     "text": [
      "C:\\Users\\mojja\\anaconda3\\lib\\site-packages\\sklearn\\linear_model\\_glm\\glm.py:323: ConvergenceWarning: lbfgs failed to converge (status=1):\n",
      "STOP: TOTAL NO. of ITERATIONS REACHED LIMIT.\n",
      "\n",
      "Increase the number of iterations (max_iter) or scale the data as shown in:\n",
      "    https://scikit-learn.org/stable/modules/preprocessing.html\n",
      "  self.n_iter_ = _check_optimize_result(\"lbfgs\", opt_res)\n"
     ]
    },
    {
     "data": {
      "text/plain": [
       "PoissonRegressor()"
      ]
     },
     "execution_count": 71,
     "metadata": {},
     "output_type": "execute_result"
    }
   ],
   "source": [
    "poison.fit(X_train, y_train)"
   ]
  },
  {
   "cell_type": "code",
   "execution_count": 72,
   "id": "5e0ec617",
   "metadata": {},
   "outputs": [],
   "source": [
    "poisonPred = poison.predict(X_test)"
   ]
  },
  {
   "cell_type": "code",
   "execution_count": 73,
   "id": "53e5fe46",
   "metadata": {},
   "outputs": [
    {
     "data": {
      "text/plain": [
       "array([16.69335571, 20.98942208, 11.05612724,  8.67059305, 11.46021602,\n",
       "        7.36028562,  7.54217064, 12.45503   ,  8.75209426, 14.88036567,\n",
       "        6.17052387,  5.825454  ,  5.73893627,  4.75984233,  7.94008206,\n",
       "       11.73163591,  8.27338466,  7.22343782, 14.96005571, 32.08087812,\n",
       "       26.91467052, 19.4403316 ,  7.77250917,  4.19235091, 16.93464809,\n",
       "       17.26985366,  6.42683979, 12.6507909 ,  9.5183034 , 15.12728443,\n",
       "       11.37023186,  8.91572991,  6.24373011, 29.63909375, 17.54346856,\n",
       "        7.99153373])"
      ]
     },
     "execution_count": 73,
     "metadata": {},
     "output_type": "execute_result"
    }
   ],
   "source": [
    "poison.predict(X_test)"
   ]
  },
  {
   "cell_type": "markdown",
   "id": "e1545b18",
   "metadata": {},
   "source": [
    "### Evaluation"
   ]
  },
  {
   "cell_type": "code",
   "execution_count": 74,
   "id": "1e2a060a",
   "metadata": {},
   "outputs": [
    {
     "data": {
      "text/plain": [
       "1.2359955126567184"
      ]
     },
     "execution_count": 74,
     "metadata": {},
     "output_type": "execute_result"
    }
   ],
   "source": [
    "mean_absolute_error(y_test, poisonPred)"
   ]
  },
  {
   "cell_type": "code",
   "execution_count": 75,
   "id": "75d0a260",
   "metadata": {},
   "outputs": [
    {
     "data": {
      "text/plain": [
       "0.5052677435055102"
      ]
     },
     "execution_count": 75,
     "metadata": {},
     "output_type": "execute_result"
    }
   ],
   "source": [
    "mean_squared_error(y_test, passivePred)"
   ]
  },
  {
   "cell_type": "code",
   "execution_count": null,
   "id": "4c0f9e60",
   "metadata": {},
   "outputs": [],
   "source": [
    " "
   ]
  },
  {
   "cell_type": "markdown",
   "id": "a0bf5e6d",
   "metadata": {},
   "source": [
    "## QuantileRegressor"
   ]
  },
  {
   "cell_type": "code",
   "execution_count": 76,
   "id": "e40442f7",
   "metadata": {},
   "outputs": [],
   "source": [
    "quant = QuantileRegressor()"
   ]
  },
  {
   "cell_type": "code",
   "execution_count": 77,
   "id": "1170e0bc",
   "metadata": {},
   "outputs": [],
   "source": [
    "quantFit = quant.fit(X_train, y_train)"
   ]
  },
  {
   "cell_type": "code",
   "execution_count": 78,
   "id": "8cffda7e",
   "metadata": {},
   "outputs": [
    {
     "data": {
      "text/plain": [
       "QuantileRegressor()"
      ]
     },
     "execution_count": 78,
     "metadata": {},
     "output_type": "execute_result"
    }
   ],
   "source": [
    "quant.fit(X_train, y_train)"
   ]
  },
  {
   "cell_type": "code",
   "execution_count": 79,
   "id": "c202122e",
   "metadata": {},
   "outputs": [],
   "source": [
    "quantPred = quant.predict(X_test)"
   ]
  },
  {
   "cell_type": "code",
   "execution_count": 80,
   "id": "9678be03",
   "metadata": {},
   "outputs": [
    {
     "data": {
      "text/plain": [
       "array([11.57222248, 11.10171932, 11.86371825,  8.7798287 , 13.71868895,\n",
       "        7.6886695 ,  7.86622262, 10.63437753,  7.3183456 , 10.913459  ,\n",
       "        6.95885519,  6.33094861,  7.25089909, 10.34570621,  8.21635463,\n",
       "       11.28494187,  5.89427389,  7.79418127,  9.17228303, 10.94172319,\n",
       "       12.81829813, 11.34952231, 11.77355042,  2.69867638, 10.39422556,\n",
       "       13.52960685,  6.38380996, 11.28102172, 10.91065564, 11.8619265 ,\n",
       "       11.04637101,  8.63890738,  7.00672151, 12.16712239, 12.6317241 ,\n",
       "        9.67568796])"
      ]
     },
     "execution_count": 80,
     "metadata": {},
     "output_type": "execute_result"
    }
   ],
   "source": [
    "quant.predict(X_test)"
   ]
  },
  {
   "cell_type": "markdown",
   "id": "9fa24406",
   "metadata": {},
   "source": [
    "### Evaluation"
   ]
  },
  {
   "cell_type": "code",
   "execution_count": 81,
   "id": "60c1ead4",
   "metadata": {},
   "outputs": [
    {
     "data": {
      "text/plain": [
       "4.088420015255931"
      ]
     },
     "execution_count": 81,
     "metadata": {},
     "output_type": "execute_result"
    }
   ],
   "source": [
    "mean_absolute_error(y_test, quantPred)"
   ]
  },
  {
   "cell_type": "code",
   "execution_count": 82,
   "id": "ef9e1843",
   "metadata": {},
   "outputs": [
    {
     "data": {
      "text/plain": [
       "2.5760433763847286"
      ]
     },
     "execution_count": 82,
     "metadata": {},
     "output_type": "execute_result"
    }
   ],
   "source": [
    "mean_squared_error(y_test, poisonPred)"
   ]
  },
  {
   "cell_type": "code",
   "execution_count": null,
   "id": "81f65f76",
   "metadata": {},
   "outputs": [],
   "source": []
  },
  {
   "cell_type": "markdown",
   "id": "62fa2916",
   "metadata": {},
   "source": [
    "## RANSACRegressor"
   ]
  },
  {
   "cell_type": "code",
   "execution_count": 83,
   "id": "04f19e2e",
   "metadata": {},
   "outputs": [],
   "source": [
    "ran = RANSACRegressor()"
   ]
  },
  {
   "cell_type": "code",
   "execution_count": 84,
   "id": "b20a5a40",
   "metadata": {},
   "outputs": [],
   "source": [
    "ranFit = ran.fit(X_train, y_train)"
   ]
  },
  {
   "cell_type": "code",
   "execution_count": 85,
   "id": "0b72162b",
   "metadata": {},
   "outputs": [
    {
     "data": {
      "text/plain": [
       "RANSACRegressor()"
      ]
     },
     "execution_count": 85,
     "metadata": {},
     "output_type": "execute_result"
    }
   ],
   "source": [
    "ran.fit(X_train, y_train)"
   ]
  },
  {
   "cell_type": "code",
   "execution_count": 86,
   "id": "ec4f2445",
   "metadata": {},
   "outputs": [],
   "source": [
    "ranPred = ran.predict(X_test)"
   ]
  },
  {
   "cell_type": "code",
   "execution_count": 87,
   "id": "d4c38e88",
   "metadata": {},
   "outputs": [
    {
     "data": {
      "text/plain": [
       "array([18.28257437, 21.59809084, 11.01640824,  9.00022581, 11.49924929,\n",
       "        8.33449961,  8.56641175, 12.99891914,  9.83435872, 16.83629637,\n",
       "        4.93110546,  4.66575177,  4.69984531,  1.86652872,  8.5003905 ,\n",
       "       10.83138142,  7.6647073 ,  8.48324645, 16.83519756, 26.99786654,\n",
       "       24.33390871, 21.29799634,  4.99713363,  2.73789633, 17.66779693,\n",
       "       18.91616771,  5.69950256, 13.33359317,  9.34767787, 15.33259821,\n",
       "       12.46681621,  9.33017964,  6.46839625, 26.49925119, 18.86538991,\n",
       "        8.66678648])"
      ]
     },
     "execution_count": 87,
     "metadata": {},
     "output_type": "execute_result"
    }
   ],
   "source": [
    "ran.predict(X_test)"
   ]
  },
  {
   "cell_type": "markdown",
   "id": "4f1805c4",
   "metadata": {},
   "source": [
    "### Evaluation"
   ]
  },
  {
   "cell_type": "code",
   "execution_count": 88,
   "id": "10326ad1",
   "metadata": {},
   "outputs": [
    {
     "data": {
      "text/plain": [
       "0.0027988434620273006"
      ]
     },
     "execution_count": 88,
     "metadata": {},
     "output_type": "execute_result"
    }
   ],
   "source": [
    "mean_absolute_error(y_test, ranPred)"
   ]
  },
  {
   "cell_type": "code",
   "execution_count": 89,
   "id": "5ec5e5ce",
   "metadata": {},
   "outputs": [
    {
     "data": {
      "text/plain": [
       "34.47317020908632"
      ]
     },
     "execution_count": 89,
     "metadata": {},
     "output_type": "execute_result"
    }
   ],
   "source": [
    "mean_squared_error(y_test, quantPred)"
   ]
  },
  {
   "cell_type": "code",
   "execution_count": null,
   "id": "9b3bac1f",
   "metadata": {},
   "outputs": [],
   "source": []
  },
  {
   "cell_type": "markdown",
   "id": "14d0a97d",
   "metadata": {},
   "source": [
    "## TheilSenRegressor"
   ]
  },
  {
   "cell_type": "code",
   "execution_count": 90,
   "id": "50b94d21",
   "metadata": {},
   "outputs": [],
   "source": [
    "the = TheilSenRegressor()"
   ]
  },
  {
   "cell_type": "code",
   "execution_count": 91,
   "id": "c24c49a8",
   "metadata": {},
   "outputs": [],
   "source": [
    "theFit = the.fit(X_train, y_train)"
   ]
  },
  {
   "cell_type": "code",
   "execution_count": 92,
   "id": "884c5f17",
   "metadata": {},
   "outputs": [
    {
     "data": {
      "text/plain": [
       "TheilSenRegressor(max_subpopulation=10000)"
      ]
     },
     "execution_count": 92,
     "metadata": {},
     "output_type": "execute_result"
    }
   ],
   "source": [
    "the.fit(X_train, y_train)"
   ]
  },
  {
   "cell_type": "code",
   "execution_count": 93,
   "id": "3b30d4d6",
   "metadata": {},
   "outputs": [],
   "source": [
    "thePred = the.predict(X_test)"
   ]
  },
  {
   "cell_type": "code",
   "execution_count": 94,
   "id": "a2d2ae14",
   "metadata": {},
   "outputs": [
    {
     "data": {
      "text/plain": [
       "array([18.28295144, 21.59858789, 11.01682446,  9.00038867, 11.49943987,\n",
       "        8.33402478,  8.56663504, 12.99880295,  9.83459408, 16.83593047,\n",
       "        4.9309911 ,  4.6653243 ,  4.69968289,  1.86570594,  8.50013449,\n",
       "       10.8318153 ,  7.66441735,  8.48316257, 16.83483566, 26.99830139,\n",
       "       24.33430189, 21.29831075,  4.99769813,  2.73822584, 17.66811859,\n",
       "       18.91645764,  5.69977643, 13.33407909,  9.34776556, 15.33295031,\n",
       "       12.46703755,  9.32989701,  6.46825582, 26.49929059, 18.86587953,\n",
       "        8.66761258])"
      ]
     },
     "execution_count": 94,
     "metadata": {},
     "output_type": "execute_result"
    }
   ],
   "source": [
    "the.predict(X_test)"
   ]
  },
  {
   "cell_type": "markdown",
   "id": "b0e8c8b7",
   "metadata": {},
   "source": [
    "### Evaluation"
   ]
  },
  {
   "cell_type": "code",
   "execution_count": 95,
   "id": "aca82456",
   "metadata": {},
   "outputs": [
    {
     "data": {
      "text/plain": [
       "0.0027378729986376592"
      ]
     },
     "execution_count": 95,
     "metadata": {},
     "output_type": "execute_result"
    }
   ],
   "source": [
    "mean_absolute_error(y_test, thePred)"
   ]
  },
  {
   "cell_type": "code",
   "execution_count": 96,
   "id": "c854e300",
   "metadata": {},
   "outputs": [
    {
     "data": {
      "text/plain": [
       "1.0956274273767526e-05"
      ]
     },
     "execution_count": 96,
     "metadata": {},
     "output_type": "execute_result"
    }
   ],
   "source": [
    "mean_squared_error(y_test, thePred)"
   ]
  },
  {
   "cell_type": "code",
   "execution_count": null,
   "id": "db7017e9",
   "metadata": {},
   "outputs": [],
   "source": []
  },
  {
   "cell_type": "markdown",
   "id": "bb99ff35",
   "metadata": {},
   "source": [
    "## TweedieRegressor"
   ]
  },
  {
   "cell_type": "code",
   "execution_count": 97,
   "id": "8de81e81",
   "metadata": {},
   "outputs": [],
   "source": [
    "twee = TweedieRegressor()"
   ]
  },
  {
   "cell_type": "code",
   "execution_count": 98,
   "id": "47fba1b4",
   "metadata": {},
   "outputs": [
    {
     "name": "stderr",
     "output_type": "stream",
     "text": [
      "C:\\Users\\mojja\\anaconda3\\lib\\site-packages\\sklearn\\linear_model\\_glm\\glm.py:323: ConvergenceWarning: lbfgs failed to converge (status=1):\n",
      "STOP: TOTAL NO. of ITERATIONS REACHED LIMIT.\n",
      "\n",
      "Increase the number of iterations (max_iter) or scale the data as shown in:\n",
      "    https://scikit-learn.org/stable/modules/preprocessing.html\n",
      "  self.n_iter_ = _check_optimize_result(\"lbfgs\", opt_res)\n"
     ]
    }
   ],
   "source": [
    "tweeFit = twee.fit(X_train, y_train)"
   ]
  },
  {
   "cell_type": "code",
   "execution_count": 99,
   "id": "98fc3d11",
   "metadata": {},
   "outputs": [
    {
     "name": "stderr",
     "output_type": "stream",
     "text": [
      "C:\\Users\\mojja\\anaconda3\\lib\\site-packages\\sklearn\\linear_model\\_glm\\glm.py:323: ConvergenceWarning: lbfgs failed to converge (status=1):\n",
      "STOP: TOTAL NO. of ITERATIONS REACHED LIMIT.\n",
      "\n",
      "Increase the number of iterations (max_iter) or scale the data as shown in:\n",
      "    https://scikit-learn.org/stable/modules/preprocessing.html\n",
      "  self.n_iter_ = _check_optimize_result(\"lbfgs\", opt_res)\n"
     ]
    },
    {
     "data": {
      "text/plain": [
       "TweedieRegressor()"
      ]
     },
     "execution_count": 99,
     "metadata": {},
     "output_type": "execute_result"
    }
   ],
   "source": [
    "twee.fit(X_train, y_train)"
   ]
  },
  {
   "cell_type": "code",
   "execution_count": 100,
   "id": "189da18b",
   "metadata": {},
   "outputs": [],
   "source": [
    "tweePred = twee.predict(X_test)"
   ]
  },
  {
   "cell_type": "code",
   "execution_count": 101,
   "id": "3a66711f",
   "metadata": {},
   "outputs": [
    {
     "data": {
      "text/plain": [
       "array([18.00935702, 21.68692843, 11.50115286,  9.10685594, 10.68987123,\n",
       "        8.0997407 ,  8.94569969, 12.61401902,  9.54058872, 15.59915777,\n",
       "        5.34888974,  5.75401376,  5.78619483,  3.06173701,  8.7470683 ,\n",
       "       10.16528652,  8.37840043,  8.77155571, 16.00721369, 26.00217149,\n",
       "       23.46089365, 21.38692604,  5.61173297,  2.25138533, 16.71201486,\n",
       "       19.29246901,  6.41264296, 12.77723882,  9.94651193, 14.79782201,\n",
       "       12.73050131,  9.3906688 ,  6.96902247, 25.22448487, 19.45769814,\n",
       "        8.18506368])"
      ]
     },
     "execution_count": 101,
     "metadata": {},
     "output_type": "execute_result"
    }
   ],
   "source": [
    "twee.predict(X_test)"
   ]
  },
  {
   "cell_type": "markdown",
   "id": "b3f00996",
   "metadata": {},
   "source": [
    "### Evaluation"
   ]
  },
  {
   "cell_type": "code",
   "execution_count": 102,
   "id": "94732003",
   "metadata": {},
   "outputs": [
    {
     "data": {
      "text/plain": [
       "0.575565581833135"
      ]
     },
     "execution_count": 102,
     "metadata": {},
     "output_type": "execute_result"
    }
   ],
   "source": [
    "mean_absolute_error(y_test, tweePred)"
   ]
  },
  {
   "cell_type": "code",
   "execution_count": 103,
   "id": "feb3699c",
   "metadata": {},
   "outputs": [
    {
     "data": {
      "text/plain": [
       "0.4455015245041937"
      ]
     },
     "execution_count": 103,
     "metadata": {},
     "output_type": "execute_result"
    }
   ],
   "source": [
    "mean_squared_error(y_test, tweePred)"
   ]
  },
  {
   "cell_type": "code",
   "execution_count": null,
   "id": "0e8b026f",
   "metadata": {},
   "outputs": [],
   "source": []
  },
  {
   "cell_type": "markdown",
   "id": "4cc6e067",
   "metadata": {},
   "source": [
    "## AdaBoostRegressor"
   ]
  },
  {
   "cell_type": "code",
   "execution_count": 104,
   "id": "ce0a86f1",
   "metadata": {},
   "outputs": [],
   "source": [
    "ada = AdaBoostRegressor()"
   ]
  },
  {
   "cell_type": "code",
   "execution_count": 105,
   "id": "2a6bf60d",
   "metadata": {},
   "outputs": [],
   "source": [
    "adaFit = ada.fit(X_train, y_train)"
   ]
  },
  {
   "cell_type": "code",
   "execution_count": 106,
   "id": "263df9d6",
   "metadata": {},
   "outputs": [
    {
     "data": {
      "text/plain": [
       "AdaBoostRegressor()"
      ]
     },
     "execution_count": 106,
     "metadata": {},
     "output_type": "execute_result"
    }
   ],
   "source": [
    "ada.fit(X_train, y_train)"
   ]
  },
  {
   "cell_type": "code",
   "execution_count": 107,
   "id": "18e0b680",
   "metadata": {},
   "outputs": [],
   "source": [
    "adaPred = ada.predict(X_test)"
   ]
  },
  {
   "cell_type": "code",
   "execution_count": 108,
   "id": "ff225218",
   "metadata": {},
   "outputs": [
    {
     "data": {
      "text/plain": [
       "array([16.87111111, 21.71666667, 11.81944444,  9.05125   , 11.26666667,\n",
       "        8.69958333,  8.76722222, 12.07923077,  9.476875  , 15.92625   ,\n",
       "        4.91071429,  4.91071429,  4.91071429,  2.39384615,  8.75608696,\n",
       "       11.26666667,  7.63384615,  8.75608696, 15.92625   , 25.57      ,\n",
       "       25.665     , 21.71666667,  4.91071429,  2.39384615, 18.15666667,\n",
       "       18.27      ,  5.66227273, 12.07923077,  9.353125  , 15.92625   ,\n",
       "       12.41294118,  9.19692308,  6.76      , 25.49875   , 18.25666667,\n",
       "        8.726875  ])"
      ]
     },
     "execution_count": 108,
     "metadata": {},
     "output_type": "execute_result"
    }
   ],
   "source": [
    "ada.predict(X_test)"
   ]
  },
  {
   "cell_type": "markdown",
   "id": "67d424ae",
   "metadata": {},
   "source": [
    "### Evaluation"
   ]
  },
  {
   "cell_type": "code",
   "execution_count": 109,
   "id": "9568639e",
   "metadata": {},
   "outputs": [
    {
     "data": {
      "text/plain": [
       "0.47334934617476715"
      ]
     },
     "execution_count": 109,
     "metadata": {},
     "output_type": "execute_result"
    }
   ],
   "source": [
    "mean_absolute_error(y_test, adaPred)"
   ]
  },
  {
   "cell_type": "code",
   "execution_count": 110,
   "id": "4c7c4cf8",
   "metadata": {},
   "outputs": [
    {
     "data": {
      "text/plain": [
       "0.39935036957946146"
      ]
     },
     "execution_count": 110,
     "metadata": {},
     "output_type": "execute_result"
    }
   ],
   "source": [
    "mean_squared_error(y_test, adaPred)"
   ]
  },
  {
   "cell_type": "code",
   "execution_count": null,
   "id": "2ee1cee9",
   "metadata": {},
   "outputs": [],
   "source": []
  },
  {
   "cell_type": "markdown",
   "id": "79c40117",
   "metadata": {},
   "source": [
    "# Choosing the best model and exporting for model deployment"
   ]
  },
  {
   "cell_type": "markdown",
   "id": "d1cb50f6",
   "metadata": {},
   "source": [
    "#### After careful consideration and analysis, we discovered that the best model worthy of deployment is our Linear Regression Model."
   ]
  },
  {
   "cell_type": "markdown",
   "id": "29f243f8",
   "metadata": {},
   "source": [
    "#### Exporting:"
   ]
  },
  {
   "cell_type": "code",
   "execution_count": 111,
   "id": "43d8dec2",
   "metadata": {},
   "outputs": [],
   "source": [
    "log = LinearRegression()"
   ]
  },
  {
   "cell_type": "code",
   "execution_count": 112,
   "id": "b690749b",
   "metadata": {},
   "outputs": [],
   "source": [
    "import pickle"
   ]
  },
  {
   "cell_type": "code",
   "execution_count": 113,
   "id": "dad129ff",
   "metadata": {},
   "outputs": [],
   "source": [
    "filename = \"sweet.sav\"\n",
    "pickle.dump(logFit, open(filename, \"wb\"))"
   ]
  },
  {
   "cell_type": "code",
   "execution_count": 114,
   "id": "0cb7108e",
   "metadata": {},
   "outputs": [
    {
     "data": {
      "text/plain": [
       "array([0, 1, 3, 5, 9, 4, 7, 2, 6, 8])"
      ]
     },
     "execution_count": 114,
     "metadata": {},
     "output_type": "execute_result"
    }
   ],
   "source": [
    "df[\"fertilizerCode\"].unique()"
   ]
  },
  {
   "cell_type": "code",
   "execution_count": 115,
   "id": "4b48f85c",
   "metadata": {},
   "outputs": [],
   "source": [
    "y_train = \"y.sav\"\n",
    "pickle.dump(log, open(y_train, \"wb\"))"
   ]
  },
  {
   "cell_type": "code",
   "execution_count": 116,
   "id": "12355fd1",
   "metadata": {},
   "outputs": [],
   "source": [
    "X_train = \"X.sav\"\n",
    "pickle.dump(log, open(X_train, \"wb\"))"
   ]
  },
  {
   "cell_type": "code",
   "execution_count": 117,
   "id": "7dee8063",
   "metadata": {},
   "outputs": [],
   "source": [
    "fd = pd.read_excel(\"potato.xlsx\")"
   ]
  },
  {
   "cell_type": "code",
   "execution_count": 118,
   "id": "dab15476",
   "metadata": {
    "scrolled": true
   },
   "outputs": [
    {
     "data": {
      "text/plain": [
       "array(['Control', 'FC', 'NPK20-10-10', 'PL', 'Tithonia', 'NPK6-15-28',\n",
       "       'RHB', 'FC/NPK20-10-10', 'PL/NPK20-10-10', 'RHB/NPK20-10-10'],\n",
       "      dtype=object)"
      ]
     },
     "execution_count": 118,
     "metadata": {},
     "output_type": "execute_result"
    }
   ],
   "source": [
    "fd[\"fertilizerCode\"].unique()"
   ]
  },
  {
   "cell_type": "code",
   "execution_count": 119,
   "id": "4d5483aa",
   "metadata": {},
   "outputs": [
    {
     "data": {
      "text/plain": [
       "Index(['location', 'soilType', 'varietalCode', 'fertilizerCode', 'reps',\n",
       "       'branchNumber', 'lengthMainStemCM', 'leafAreaIndex', 'petoileLength_CM',\n",
       "       'weightAdventitousRootsKG', 'dryBiomassKG', 'totalWeightStorageRootsKG',\n",
       "       'weightMarketableStorageRootsKG', 'totalNumberStorageRoots',\n",
       "       'totalYield(T/ha)', 'marketableYield'],\n",
       "      dtype='object')"
      ]
     },
     "execution_count": 119,
     "metadata": {},
     "output_type": "execute_result"
    }
   ],
   "source": [
    "df.columns"
   ]
  },
  {
   "cell_type": "code",
   "execution_count": null,
   "id": "f94af146",
   "metadata": {},
   "outputs": [],
   "source": []
  }
 ],
 "metadata": {
  "kernelspec": {
   "display_name": "Python 3 (ipykernel)",
   "language": "python",
   "name": "python3"
  },
  "language_info": {
   "codemirror_mode": {
    "name": "ipython",
    "version": 3
   },
   "file_extension": ".py",
   "mimetype": "text/x-python",
   "name": "python",
   "nbconvert_exporter": "python",
   "pygments_lexer": "ipython3",
   "version": "3.9.12"
  }
 },
 "nbformat": 4,
 "nbformat_minor": 5
}
